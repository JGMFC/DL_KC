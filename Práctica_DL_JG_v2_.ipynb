{
  "nbformat": 4,
  "nbformat_minor": 0,
  "metadata": {
    "colab": {
      "provenance": [],
      "toc_visible": true,
      "include_colab_link": true
    },
    "kernelspec": {
      "name": "python3",
      "display_name": "Python 3"
    },
    "language_info": {
      "name": "python"
    }
  },
  "cells": [
    {
      "cell_type": "markdown",
      "metadata": {
        "id": "view-in-github",
        "colab_type": "text"
      },
      "source": [
        "<a href=\"https://colab.research.google.com/github/JGMFC/DL_KC/blob/main/Pr%C3%A1ctica_DL_JG_v2_.ipynb\" target=\"_parent\"><img src=\"https://colab.research.google.com/assets/colab-badge.svg\" alt=\"Open In Colab\"/></a>"
      ]
    },
    {
      "cell_type": "markdown",
      "source": [
        "## 0. Importación Librerías"
      ],
      "metadata": {
        "id": "G8ya9uSHmOcf"
      }
    },
    {
      "cell_type": "code",
      "source": [
        "import cv2\n",
        "import numpy as np\n",
        "import numpy\n",
        "import pandas\n",
        "import pandas as pd\n",
        "import imageio.v3 as io\n",
        "import seaborn as sns\n",
        "import matplotlib.pyplot as plt\n",
        "import numpy as np\n",
        "import tensorflow as tf\n",
        "from sklearn.model_selection import train_test_split\n",
        "from tensorflow.keras.utils import to_categorical\n",
        "from tensorflow.keras.models import Sequential, Model\n",
        "from sklearn.metrics import classification_report\n",
        "from tensorflow.keras.layers import Dense, Flatten, Input, Conv2D, GlobalMaxPooling2D, GlobalAveragePooling2D, BatchNormalization, Activation, Dropout, concatenate\n",
        "from tensorflow.keras.optimizers import SGD, Adam\n",
        "from sklearn.preprocessing import MinMaxScaler\n",
        "from tensorflow.keras.preprocessing.image import img_to_array\n",
        "from tensorflow.keras.applications import VGG16, imagenet_utils\n",
        "from tensorflow.keras.regularizers import l2\n",
        "import cv2\n",
        "import imageio as io\n",
        "from google.colab import drive\n",
        "from sklearn.preprocessing import scale\n",
        "from sklearn import preprocessing\n",
        "from sklearn.preprocessing import StandardScaler\n",
        "\n",
        "import matplotlib.pyplot as plt\n",
        "from matplotlib.colors import ListedColormap\n",
        "\n",
        "from tqdm import tqdm\n",
        "from typing import Optional, Union"
      ],
      "metadata": {
        "id": "fdZAWnaNmdM0"
      },
      "execution_count": 252,
      "outputs": []
    },
    {
      "cell_type": "markdown",
      "source": [
        "## 1. Descarga y preprocesado de los datos"
      ],
      "metadata": {
        "id": "dVTgBXXOl9eW"
      }
    },
    {
      "cell_type": "markdown",
      "source": [
        "### 1.1 Descarga y formatting del CSV de los datos"
      ],
      "metadata": {
        "id": "KOdhx8z5YURF"
      }
    },
    {
      "cell_type": "code",
      "source": [
        "!wget -O \"airbnb-listings.csv\" \"https://public.opendatasoft.com/explore/dataset/airbnb-listings/download/?format=csv&disjunctive.host_verifications=true&disjunctive.amenities=true&disjunctive.features=true&refine.country=Spain&q=Madrid&timezone=Europe/London&use_labels_for_header=true&csv_separator=%3B\""
      ],
      "metadata": {
        "colab": {
          "base_uri": "https://localhost:8080/"
        },
        "id": "Z2cT2Zz0Ya0y",
        "outputId": "bde6e8ed-b394-401c-8fed-06c7b59e026b"
      },
      "execution_count": 253,
      "outputs": [
        {
          "output_type": "stream",
          "name": "stdout",
          "text": [
            "--2024-03-03 13:01:13--  https://public.opendatasoft.com/explore/dataset/airbnb-listings/download/?format=csv&disjunctive.host_verifications=true&disjunctive.amenities=true&disjunctive.features=true&refine.country=Spain&q=Madrid&timezone=Europe/London&use_labels_for_header=true&csv_separator=%3B\n",
            "Resolving public.opendatasoft.com (public.opendatasoft.com)... 34.248.20.69, 34.249.199.226\n",
            "Connecting to public.opendatasoft.com (public.opendatasoft.com)|34.248.20.69|:443... connected.\n",
            "HTTP request sent, awaiting response... 200 OK\n",
            "Length: unspecified [application/csv]\n",
            "Saving to: ‘airbnb-listings.csv’\n",
            "\n",
            "airbnb-listings.csv     [         <=>        ]  52.85M  12.2MB/s    in 5.2s    \n",
            "\n",
            "2024-03-03 13:01:19 (10.3 MB/s) - ‘airbnb-listings.csv’ saved [55414009]\n",
            "\n"
          ]
        }
      ]
    },
    {
      "cell_type": "code",
      "source": [
        "from tqdm import tqdm\n",
        "from typing import Optional, Union"
      ],
      "metadata": {
        "id": "9WYBx-YiYuRF"
      },
      "execution_count": 254,
      "outputs": []
    },
    {
      "cell_type": "code",
      "source": [
        "data = pandas.read_csv(\"airbnb-listings.csv\", sep = ';')\n",
        "data = data.dropna(subset=['Price'])\n",
        "data"
      ],
      "metadata": {
        "colab": {
          "base_uri": "https://localhost:8080/",
          "height": 1000
        },
        "id": "jkd5AKJ0Y3vl",
        "outputId": "3d3f31ae-611d-481d-a517-1710384a3f3c"
      },
      "execution_count": 255,
      "outputs": [
        {
          "output_type": "execute_result",
          "data": {
            "text/plain": [
              "             ID                            Listing Url       Scrape ID  \\\n",
              "0      17823671  https://www.airbnb.com/rooms/17823671  20170407214119   \n",
              "1      17309526  https://www.airbnb.com/rooms/17309526  20170407214050   \n",
              "2        801113    https://www.airbnb.com/rooms/801113  20170407214119   \n",
              "3       7357466   https://www.airbnb.com/rooms/7357466  20170407214119   \n",
              "4      17050866  https://www.airbnb.com/rooms/17050866  20170407214119   \n",
              "...         ...                                    ...             ...   \n",
              "13996  16231125  https://www.airbnb.com/rooms/16231125  20170407214119   \n",
              "13997   4741021   https://www.airbnb.com/rooms/4741021  20170407214119   \n",
              "13998   5803594   https://www.airbnb.com/rooms/5803594  20170407214119   \n",
              "13999  16025541  https://www.airbnb.com/rooms/16025541  20170407214119   \n",
              "14000  15694640  https://www.airbnb.com/rooms/15694640  20170407214050   \n",
              "\n",
              "      Last Scraped                                               Name  \\\n",
              "0       2017-04-08  Room in beautiful flat in Madrid centre!! SC8_1_2   \n",
              "1       2017-04-08              Double room in Gracia/Whole Apartment   \n",
              "2       2017-04-08     DOUBLE ROOM WITH PRIVATE BATHROOM IN LA LATINA   \n",
              "3       2017-04-08                  Alquiler habitación mes de agosto   \n",
              "4       2017-04-08                  Habitacion a solo 3 min de atocha   \n",
              "...            ...                                                ...   \n",
              "13996   2017-04-08                Piso en en centro de Madrid,Quevedo   \n",
              "13997   2017-04-08                  OLAVIDE IV, 3ºD, Friendly Rentals   \n",
              "13998   2017-04-08         Habitación pequeña cómoda amena tranquila.   \n",
              "13999   2017-04-08         New reformed apartment. Everything new!!!!   \n",
              "14000   2017-04-08             Cozy & Quiet Room near Sagrada Familia   \n",
              "\n",
              "                                                 Summary  \\\n",
              "0              Great room with large bed and two windows   \n",
              "1      Double room in Gracia - Habitación doble en Gr...   \n",
              "2      Bright and spacious double room and bathroom f...   \n",
              "3      Hola, somos una familia de 5 amigos que vivímo...   \n",
              "4      Nuestro Habitacion  esta hubicada en centro de...   \n",
              "...                                                  ...   \n",
              "13996  Piso de 3 habitaciones, un salón, un baño y un...   \n",
              "13997  The apartment is in a characteristic building ...   \n",
              "13998  cocina para utilizar para comidas muy básicas ...   \n",
              "13999  Outside vieuw without noise. Ideal for two per...   \n",
              "14000  My place is close to Sagrada Familia. You’ll l...   \n",
              "\n",
              "                                                   Space  \\\n",
              "0      Amazing 12 bedroom flat with 3 complete bathro...   \n",
              "1                                                    NaN   \n",
              "2      Spacious double room with private bathroom and...   \n",
              "3      La habitación que alquilamos es amplia, lumino...   \n",
              "4                                                    NaN   \n",
              "...                                                  ...   \n",
              "13996                                                NaN   \n",
              "13997  This lovely apartment is one of several we can...   \n",
              "13998  HABITACIÓN privada pequeña pero cómoda,apartam...   \n",
              "13999                                                NaN   \n",
              "14000  The apartment is spacious with a big bathroom ...   \n",
              "\n",
              "                                             Description Experiences Offered  \\\n",
              "0      Great room with large bed and two windows Amaz...                none   \n",
              "1      Double room in Gracia - Habitación doble en Gr...                none   \n",
              "2      Bright and spacious double room and bathroom f...                none   \n",
              "3      Hola, somos una familia de 5 amigos que vivímo...                none   \n",
              "4      Nuestro Habitacion  esta hubicada en centro de...                none   \n",
              "...                                                  ...                 ...   \n",
              "13996  Piso de 3 habitaciones, un salón, un baño y un...                none   \n",
              "13997  The apartment is in a characteristic building ...                none   \n",
              "13998  cocina para utilizar para comidas muy básicas ...                none   \n",
              "13999  Outside vieuw without noise. Ideal for two per...                none   \n",
              "14000  My place is close to Sagrada Familia. You’ll l...                none   \n",
              "\n",
              "                                   Neighborhood Overview  ...  \\\n",
              "0      The \" Barrio de las Letras \" is one of the mos...  ...   \n",
              "1                                                    NaN  ...   \n",
              "2      .Safety neighborhood with all the amenities, g...  ...   \n",
              "3      El piso es muy amplio y las zonas comunes dan ...  ...   \n",
              "4      Es un barrio céntrico de madrid . Donde hay mu...  ...   \n",
              "...                                                  ...  ...   \n",
              "13996  Está muy bien comunicado y muy céntrico. Ademá...  ...   \n",
              "13997  This very safe residential district is surroun...  ...   \n",
              "13998  Barrio de Madrid  Ubicado cerca plaza de toros...  ...   \n",
              "13999                                                NaN  ...   \n",
              "14000  We are located in a very quiet yet central nei...  ...   \n",
              "\n",
              "      Review Scores Communication Review Scores Location Review Scores Value  \\\n",
              "0                             NaN                    NaN                 NaN   \n",
              "1                             NaN                    NaN                 NaN   \n",
              "2                             9.0                   10.0                 9.0   \n",
              "3                             NaN                    NaN                 NaN   \n",
              "4                            10.0                   10.0                10.0   \n",
              "...                           ...                    ...                 ...   \n",
              "13996                         NaN                    NaN                 NaN   \n",
              "13997                         8.0                    NaN                 NaN   \n",
              "13998                         9.0                    8.0                 9.0   \n",
              "13999                        10.0                    9.0                 9.0   \n",
              "14000                        10.0                   10.0                10.0   \n",
              "\n",
              "      License Jurisdiction Names Cancellation Policy  \\\n",
              "0         NaN                NaN              strict   \n",
              "1         NaN                NaN            flexible   \n",
              "2         NaN                NaN            moderate   \n",
              "3         NaN                NaN            flexible   \n",
              "4         NaN                NaN            flexible   \n",
              "...       ...                ...                 ...   \n",
              "13996     NaN                NaN            moderate   \n",
              "13997     NaN                NaN              strict   \n",
              "13998     NaN                NaN              strict   \n",
              "13999     NaN                NaN              strict   \n",
              "14000     NaN                NaN            flexible   \n",
              "\n",
              "      Calculated host listings count  Reviews per Month  \\\n",
              "0                                 20                NaN   \n",
              "1                                  1                NaN   \n",
              "2                                  1               3.15   \n",
              "3                                  1                NaN   \n",
              "4                                  1               0.71   \n",
              "...                              ...                ...   \n",
              "13996                              1                NaN   \n",
              "13997                            145               0.17   \n",
              "13998                              1               2.10   \n",
              "13999                              2               2.16   \n",
              "14000                              1               3.66   \n",
              "\n",
              "                                 Geolocation  \\\n",
              "0      40.41487093316894,-3.6965780975998435   \n",
              "1        41.40132396962952,2.163712769014997   \n",
              "2      40.40860126037668,-3.7145957909729637   \n",
              "3       40.43408638806261,-3.654979849617808   \n",
              "4      40.44181649452356,-3.6451428471469227   \n",
              "...                                      ...   \n",
              "13996    40.4348724447834,-3.707547039320753   \n",
              "13997  40.43613375660163,-3.7027578557736502   \n",
              "13998  40.423445712695965,-3.645238780837596   \n",
              "13999  40.40147246283749,-3.7227305745405315   \n",
              "14000     41.3993357950806,2.178007212000945   \n",
              "\n",
              "                                                Features  \n",
              "0      Host Has Profile Pic,Host Identity Verified,Re...  \n",
              "1                  Host Has Profile Pic,Requires License  \n",
              "2      Host Has Profile Pic,Is Location Exact,Require...  \n",
              "3      Host Has Profile Pic,Host Identity Verified,Re...  \n",
              "4                  Host Has Profile Pic,Requires License  \n",
              "...                                                  ...  \n",
              "13996              Host Has Profile Pic,Requires License  \n",
              "13997  Host Has Profile Pic,Is Location Exact,Require...  \n",
              "13998              Host Has Profile Pic,Requires License  \n",
              "13999              Host Has Profile Pic,Requires License  \n",
              "14000  Host Has Profile Pic,Host Identity Verified,Is...  \n",
              "\n",
              "[13990 rows x 89 columns]"
            ],
            "text/html": [
              "\n",
              "  <div id=\"df-3c777a95-341a-452c-956a-e56a6e9ead6e\" class=\"colab-df-container\">\n",
              "    <div>\n",
              "<style scoped>\n",
              "    .dataframe tbody tr th:only-of-type {\n",
              "        vertical-align: middle;\n",
              "    }\n",
              "\n",
              "    .dataframe tbody tr th {\n",
              "        vertical-align: top;\n",
              "    }\n",
              "\n",
              "    .dataframe thead th {\n",
              "        text-align: right;\n",
              "    }\n",
              "</style>\n",
              "<table border=\"1\" class=\"dataframe\">\n",
              "  <thead>\n",
              "    <tr style=\"text-align: right;\">\n",
              "      <th></th>\n",
              "      <th>ID</th>\n",
              "      <th>Listing Url</th>\n",
              "      <th>Scrape ID</th>\n",
              "      <th>Last Scraped</th>\n",
              "      <th>Name</th>\n",
              "      <th>Summary</th>\n",
              "      <th>Space</th>\n",
              "      <th>Description</th>\n",
              "      <th>Experiences Offered</th>\n",
              "      <th>Neighborhood Overview</th>\n",
              "      <th>...</th>\n",
              "      <th>Review Scores Communication</th>\n",
              "      <th>Review Scores Location</th>\n",
              "      <th>Review Scores Value</th>\n",
              "      <th>License</th>\n",
              "      <th>Jurisdiction Names</th>\n",
              "      <th>Cancellation Policy</th>\n",
              "      <th>Calculated host listings count</th>\n",
              "      <th>Reviews per Month</th>\n",
              "      <th>Geolocation</th>\n",
              "      <th>Features</th>\n",
              "    </tr>\n",
              "  </thead>\n",
              "  <tbody>\n",
              "    <tr>\n",
              "      <th>0</th>\n",
              "      <td>17823671</td>\n",
              "      <td>https://www.airbnb.com/rooms/17823671</td>\n",
              "      <td>20170407214119</td>\n",
              "      <td>2017-04-08</td>\n",
              "      <td>Room in beautiful flat in Madrid centre!! SC8_1_2</td>\n",
              "      <td>Great room with large bed and two windows</td>\n",
              "      <td>Amazing 12 bedroom flat with 3 complete bathro...</td>\n",
              "      <td>Great room with large bed and two windows Amaz...</td>\n",
              "      <td>none</td>\n",
              "      <td>The \" Barrio de las Letras \" is one of the mos...</td>\n",
              "      <td>...</td>\n",
              "      <td>NaN</td>\n",
              "      <td>NaN</td>\n",
              "      <td>NaN</td>\n",
              "      <td>NaN</td>\n",
              "      <td>NaN</td>\n",
              "      <td>strict</td>\n",
              "      <td>20</td>\n",
              "      <td>NaN</td>\n",
              "      <td>40.41487093316894,-3.6965780975998435</td>\n",
              "      <td>Host Has Profile Pic,Host Identity Verified,Re...</td>\n",
              "    </tr>\n",
              "    <tr>\n",
              "      <th>1</th>\n",
              "      <td>17309526</td>\n",
              "      <td>https://www.airbnb.com/rooms/17309526</td>\n",
              "      <td>20170407214050</td>\n",
              "      <td>2017-04-08</td>\n",
              "      <td>Double room in Gracia/Whole Apartment</td>\n",
              "      <td>Double room in Gracia - Habitación doble en Gr...</td>\n",
              "      <td>NaN</td>\n",
              "      <td>Double room in Gracia - Habitación doble en Gr...</td>\n",
              "      <td>none</td>\n",
              "      <td>NaN</td>\n",
              "      <td>...</td>\n",
              "      <td>NaN</td>\n",
              "      <td>NaN</td>\n",
              "      <td>NaN</td>\n",
              "      <td>NaN</td>\n",
              "      <td>NaN</td>\n",
              "      <td>flexible</td>\n",
              "      <td>1</td>\n",
              "      <td>NaN</td>\n",
              "      <td>41.40132396962952,2.163712769014997</td>\n",
              "      <td>Host Has Profile Pic,Requires License</td>\n",
              "    </tr>\n",
              "    <tr>\n",
              "      <th>2</th>\n",
              "      <td>801113</td>\n",
              "      <td>https://www.airbnb.com/rooms/801113</td>\n",
              "      <td>20170407214119</td>\n",
              "      <td>2017-04-08</td>\n",
              "      <td>DOUBLE ROOM WITH PRIVATE BATHROOM IN LA LATINA</td>\n",
              "      <td>Bright and spacious double room and bathroom f...</td>\n",
              "      <td>Spacious double room with private bathroom and...</td>\n",
              "      <td>Bright and spacious double room and bathroom f...</td>\n",
              "      <td>none</td>\n",
              "      <td>.Safety neighborhood with all the amenities, g...</td>\n",
              "      <td>...</td>\n",
              "      <td>9.0</td>\n",
              "      <td>10.0</td>\n",
              "      <td>9.0</td>\n",
              "      <td>NaN</td>\n",
              "      <td>NaN</td>\n",
              "      <td>moderate</td>\n",
              "      <td>1</td>\n",
              "      <td>3.15</td>\n",
              "      <td>40.40860126037668,-3.7145957909729637</td>\n",
              "      <td>Host Has Profile Pic,Is Location Exact,Require...</td>\n",
              "    </tr>\n",
              "    <tr>\n",
              "      <th>3</th>\n",
              "      <td>7357466</td>\n",
              "      <td>https://www.airbnb.com/rooms/7357466</td>\n",
              "      <td>20170407214119</td>\n",
              "      <td>2017-04-08</td>\n",
              "      <td>Alquiler habitación mes de agosto</td>\n",
              "      <td>Hola, somos una familia de 5 amigos que vivímo...</td>\n",
              "      <td>La habitación que alquilamos es amplia, lumino...</td>\n",
              "      <td>Hola, somos una familia de 5 amigos que vivímo...</td>\n",
              "      <td>none</td>\n",
              "      <td>El piso es muy amplio y las zonas comunes dan ...</td>\n",
              "      <td>...</td>\n",
              "      <td>NaN</td>\n",
              "      <td>NaN</td>\n",
              "      <td>NaN</td>\n",
              "      <td>NaN</td>\n",
              "      <td>NaN</td>\n",
              "      <td>flexible</td>\n",
              "      <td>1</td>\n",
              "      <td>NaN</td>\n",
              "      <td>40.43408638806261,-3.654979849617808</td>\n",
              "      <td>Host Has Profile Pic,Host Identity Verified,Re...</td>\n",
              "    </tr>\n",
              "    <tr>\n",
              "      <th>4</th>\n",
              "      <td>17050866</td>\n",
              "      <td>https://www.airbnb.com/rooms/17050866</td>\n",
              "      <td>20170407214119</td>\n",
              "      <td>2017-04-08</td>\n",
              "      <td>Habitacion a solo 3 min de atocha</td>\n",
              "      <td>Nuestro Habitacion  esta hubicada en centro de...</td>\n",
              "      <td>NaN</td>\n",
              "      <td>Nuestro Habitacion  esta hubicada en centro de...</td>\n",
              "      <td>none</td>\n",
              "      <td>Es un barrio céntrico de madrid . Donde hay mu...</td>\n",
              "      <td>...</td>\n",
              "      <td>10.0</td>\n",
              "      <td>10.0</td>\n",
              "      <td>10.0</td>\n",
              "      <td>NaN</td>\n",
              "      <td>NaN</td>\n",
              "      <td>flexible</td>\n",
              "      <td>1</td>\n",
              "      <td>0.71</td>\n",
              "      <td>40.44181649452356,-3.6451428471469227</td>\n",
              "      <td>Host Has Profile Pic,Requires License</td>\n",
              "    </tr>\n",
              "    <tr>\n",
              "      <th>...</th>\n",
              "      <td>...</td>\n",
              "      <td>...</td>\n",
              "      <td>...</td>\n",
              "      <td>...</td>\n",
              "      <td>...</td>\n",
              "      <td>...</td>\n",
              "      <td>...</td>\n",
              "      <td>...</td>\n",
              "      <td>...</td>\n",
              "      <td>...</td>\n",
              "      <td>...</td>\n",
              "      <td>...</td>\n",
              "      <td>...</td>\n",
              "      <td>...</td>\n",
              "      <td>...</td>\n",
              "      <td>...</td>\n",
              "      <td>...</td>\n",
              "      <td>...</td>\n",
              "      <td>...</td>\n",
              "      <td>...</td>\n",
              "      <td>...</td>\n",
              "    </tr>\n",
              "    <tr>\n",
              "      <th>13996</th>\n",
              "      <td>16231125</td>\n",
              "      <td>https://www.airbnb.com/rooms/16231125</td>\n",
              "      <td>20170407214119</td>\n",
              "      <td>2017-04-08</td>\n",
              "      <td>Piso en en centro de Madrid,Quevedo</td>\n",
              "      <td>Piso de 3 habitaciones, un salón, un baño y un...</td>\n",
              "      <td>NaN</td>\n",
              "      <td>Piso de 3 habitaciones, un salón, un baño y un...</td>\n",
              "      <td>none</td>\n",
              "      <td>Está muy bien comunicado y muy céntrico. Ademá...</td>\n",
              "      <td>...</td>\n",
              "      <td>NaN</td>\n",
              "      <td>NaN</td>\n",
              "      <td>NaN</td>\n",
              "      <td>NaN</td>\n",
              "      <td>NaN</td>\n",
              "      <td>moderate</td>\n",
              "      <td>1</td>\n",
              "      <td>NaN</td>\n",
              "      <td>40.4348724447834,-3.707547039320753</td>\n",
              "      <td>Host Has Profile Pic,Requires License</td>\n",
              "    </tr>\n",
              "    <tr>\n",
              "      <th>13997</th>\n",
              "      <td>4741021</td>\n",
              "      <td>https://www.airbnb.com/rooms/4741021</td>\n",
              "      <td>20170407214119</td>\n",
              "      <td>2017-04-08</td>\n",
              "      <td>OLAVIDE IV, 3ºD, Friendly Rentals</td>\n",
              "      <td>The apartment is in a characteristic building ...</td>\n",
              "      <td>This lovely apartment is one of several we can...</td>\n",
              "      <td>The apartment is in a characteristic building ...</td>\n",
              "      <td>none</td>\n",
              "      <td>This very safe residential district is surroun...</td>\n",
              "      <td>...</td>\n",
              "      <td>8.0</td>\n",
              "      <td>NaN</td>\n",
              "      <td>NaN</td>\n",
              "      <td>NaN</td>\n",
              "      <td>NaN</td>\n",
              "      <td>strict</td>\n",
              "      <td>145</td>\n",
              "      <td>0.17</td>\n",
              "      <td>40.43613375660163,-3.7027578557736502</td>\n",
              "      <td>Host Has Profile Pic,Is Location Exact,Require...</td>\n",
              "    </tr>\n",
              "    <tr>\n",
              "      <th>13998</th>\n",
              "      <td>5803594</td>\n",
              "      <td>https://www.airbnb.com/rooms/5803594</td>\n",
              "      <td>20170407214119</td>\n",
              "      <td>2017-04-08</td>\n",
              "      <td>Habitación pequeña cómoda amena tranquila.</td>\n",
              "      <td>cocina para utilizar para comidas muy básicas ...</td>\n",
              "      <td>HABITACIÓN privada pequeña pero cómoda,apartam...</td>\n",
              "      <td>cocina para utilizar para comidas muy básicas ...</td>\n",
              "      <td>none</td>\n",
              "      <td>Barrio de Madrid  Ubicado cerca plaza de toros...</td>\n",
              "      <td>...</td>\n",
              "      <td>9.0</td>\n",
              "      <td>8.0</td>\n",
              "      <td>9.0</td>\n",
              "      <td>NaN</td>\n",
              "      <td>NaN</td>\n",
              "      <td>strict</td>\n",
              "      <td>1</td>\n",
              "      <td>2.10</td>\n",
              "      <td>40.423445712695965,-3.645238780837596</td>\n",
              "      <td>Host Has Profile Pic,Requires License</td>\n",
              "    </tr>\n",
              "    <tr>\n",
              "      <th>13999</th>\n",
              "      <td>16025541</td>\n",
              "      <td>https://www.airbnb.com/rooms/16025541</td>\n",
              "      <td>20170407214119</td>\n",
              "      <td>2017-04-08</td>\n",
              "      <td>New reformed apartment. Everything new!!!!</td>\n",
              "      <td>Outside vieuw without noise. Ideal for two per...</td>\n",
              "      <td>NaN</td>\n",
              "      <td>Outside vieuw without noise. Ideal for two per...</td>\n",
              "      <td>none</td>\n",
              "      <td>NaN</td>\n",
              "      <td>...</td>\n",
              "      <td>10.0</td>\n",
              "      <td>9.0</td>\n",
              "      <td>9.0</td>\n",
              "      <td>NaN</td>\n",
              "      <td>NaN</td>\n",
              "      <td>strict</td>\n",
              "      <td>2</td>\n",
              "      <td>2.16</td>\n",
              "      <td>40.40147246283749,-3.7227305745405315</td>\n",
              "      <td>Host Has Profile Pic,Requires License</td>\n",
              "    </tr>\n",
              "    <tr>\n",
              "      <th>14000</th>\n",
              "      <td>15694640</td>\n",
              "      <td>https://www.airbnb.com/rooms/15694640</td>\n",
              "      <td>20170407214050</td>\n",
              "      <td>2017-04-08</td>\n",
              "      <td>Cozy &amp; Quiet Room near Sagrada Familia</td>\n",
              "      <td>My place is close to Sagrada Familia. You’ll l...</td>\n",
              "      <td>The apartment is spacious with a big bathroom ...</td>\n",
              "      <td>My place is close to Sagrada Familia. You’ll l...</td>\n",
              "      <td>none</td>\n",
              "      <td>We are located in a very quiet yet central nei...</td>\n",
              "      <td>...</td>\n",
              "      <td>10.0</td>\n",
              "      <td>10.0</td>\n",
              "      <td>10.0</td>\n",
              "      <td>NaN</td>\n",
              "      <td>NaN</td>\n",
              "      <td>flexible</td>\n",
              "      <td>1</td>\n",
              "      <td>3.66</td>\n",
              "      <td>41.3993357950806,2.178007212000945</td>\n",
              "      <td>Host Has Profile Pic,Host Identity Verified,Is...</td>\n",
              "    </tr>\n",
              "  </tbody>\n",
              "</table>\n",
              "<p>13990 rows × 89 columns</p>\n",
              "</div>\n",
              "    <div class=\"colab-df-buttons\">\n",
              "\n",
              "  <div class=\"colab-df-container\">\n",
              "    <button class=\"colab-df-convert\" onclick=\"convertToInteractive('df-3c777a95-341a-452c-956a-e56a6e9ead6e')\"\n",
              "            title=\"Convert this dataframe to an interactive table.\"\n",
              "            style=\"display:none;\">\n",
              "\n",
              "  <svg xmlns=\"http://www.w3.org/2000/svg\" height=\"24px\" viewBox=\"0 -960 960 960\">\n",
              "    <path d=\"M120-120v-720h720v720H120Zm60-500h600v-160H180v160Zm220 220h160v-160H400v160Zm0 220h160v-160H400v160ZM180-400h160v-160H180v160Zm440 0h160v-160H620v160ZM180-180h160v-160H180v160Zm440 0h160v-160H620v160Z\"/>\n",
              "  </svg>\n",
              "    </button>\n",
              "\n",
              "  <style>\n",
              "    .colab-df-container {\n",
              "      display:flex;\n",
              "      gap: 12px;\n",
              "    }\n",
              "\n",
              "    .colab-df-convert {\n",
              "      background-color: #E8F0FE;\n",
              "      border: none;\n",
              "      border-radius: 50%;\n",
              "      cursor: pointer;\n",
              "      display: none;\n",
              "      fill: #1967D2;\n",
              "      height: 32px;\n",
              "      padding: 0 0 0 0;\n",
              "      width: 32px;\n",
              "    }\n",
              "\n",
              "    .colab-df-convert:hover {\n",
              "      background-color: #E2EBFA;\n",
              "      box-shadow: 0px 1px 2px rgba(60, 64, 67, 0.3), 0px 1px 3px 1px rgba(60, 64, 67, 0.15);\n",
              "      fill: #174EA6;\n",
              "    }\n",
              "\n",
              "    .colab-df-buttons div {\n",
              "      margin-bottom: 4px;\n",
              "    }\n",
              "\n",
              "    [theme=dark] .colab-df-convert {\n",
              "      background-color: #3B4455;\n",
              "      fill: #D2E3FC;\n",
              "    }\n",
              "\n",
              "    [theme=dark] .colab-df-convert:hover {\n",
              "      background-color: #434B5C;\n",
              "      box-shadow: 0px 1px 3px 1px rgba(0, 0, 0, 0.15);\n",
              "      filter: drop-shadow(0px 1px 2px rgba(0, 0, 0, 0.3));\n",
              "      fill: #FFFFFF;\n",
              "    }\n",
              "  </style>\n",
              "\n",
              "    <script>\n",
              "      const buttonEl =\n",
              "        document.querySelector('#df-3c777a95-341a-452c-956a-e56a6e9ead6e button.colab-df-convert');\n",
              "      buttonEl.style.display =\n",
              "        google.colab.kernel.accessAllowed ? 'block' : 'none';\n",
              "\n",
              "      async function convertToInteractive(key) {\n",
              "        const element = document.querySelector('#df-3c777a95-341a-452c-956a-e56a6e9ead6e');\n",
              "        const dataTable =\n",
              "          await google.colab.kernel.invokeFunction('convertToInteractive',\n",
              "                                                    [key], {});\n",
              "        if (!dataTable) return;\n",
              "\n",
              "        const docLinkHtml = 'Like what you see? Visit the ' +\n",
              "          '<a target=\"_blank\" href=https://colab.research.google.com/notebooks/data_table.ipynb>data table notebook</a>'\n",
              "          + ' to learn more about interactive tables.';\n",
              "        element.innerHTML = '';\n",
              "        dataTable['output_type'] = 'display_data';\n",
              "        await google.colab.output.renderOutput(dataTable, element);\n",
              "        const docLink = document.createElement('div');\n",
              "        docLink.innerHTML = docLinkHtml;\n",
              "        element.appendChild(docLink);\n",
              "      }\n",
              "    </script>\n",
              "  </div>\n",
              "\n",
              "\n",
              "<div id=\"df-a10061cb-46d8-42b1-bf51-9fcd9f2998a4\">\n",
              "  <button class=\"colab-df-quickchart\" onclick=\"quickchart('df-a10061cb-46d8-42b1-bf51-9fcd9f2998a4')\"\n",
              "            title=\"Suggest charts\"\n",
              "            style=\"display:none;\">\n",
              "\n",
              "<svg xmlns=\"http://www.w3.org/2000/svg\" height=\"24px\"viewBox=\"0 0 24 24\"\n",
              "     width=\"24px\">\n",
              "    <g>\n",
              "        <path d=\"M19 3H5c-1.1 0-2 .9-2 2v14c0 1.1.9 2 2 2h14c1.1 0 2-.9 2-2V5c0-1.1-.9-2-2-2zM9 17H7v-7h2v7zm4 0h-2V7h2v10zm4 0h-2v-4h2v4z\"/>\n",
              "    </g>\n",
              "</svg>\n",
              "  </button>\n",
              "\n",
              "<style>\n",
              "  .colab-df-quickchart {\n",
              "      --bg-color: #E8F0FE;\n",
              "      --fill-color: #1967D2;\n",
              "      --hover-bg-color: #E2EBFA;\n",
              "      --hover-fill-color: #174EA6;\n",
              "      --disabled-fill-color: #AAA;\n",
              "      --disabled-bg-color: #DDD;\n",
              "  }\n",
              "\n",
              "  [theme=dark] .colab-df-quickchart {\n",
              "      --bg-color: #3B4455;\n",
              "      --fill-color: #D2E3FC;\n",
              "      --hover-bg-color: #434B5C;\n",
              "      --hover-fill-color: #FFFFFF;\n",
              "      --disabled-bg-color: #3B4455;\n",
              "      --disabled-fill-color: #666;\n",
              "  }\n",
              "\n",
              "  .colab-df-quickchart {\n",
              "    background-color: var(--bg-color);\n",
              "    border: none;\n",
              "    border-radius: 50%;\n",
              "    cursor: pointer;\n",
              "    display: none;\n",
              "    fill: var(--fill-color);\n",
              "    height: 32px;\n",
              "    padding: 0;\n",
              "    width: 32px;\n",
              "  }\n",
              "\n",
              "  .colab-df-quickchart:hover {\n",
              "    background-color: var(--hover-bg-color);\n",
              "    box-shadow: 0 1px 2px rgba(60, 64, 67, 0.3), 0 1px 3px 1px rgba(60, 64, 67, 0.15);\n",
              "    fill: var(--button-hover-fill-color);\n",
              "  }\n",
              "\n",
              "  .colab-df-quickchart-complete:disabled,\n",
              "  .colab-df-quickchart-complete:disabled:hover {\n",
              "    background-color: var(--disabled-bg-color);\n",
              "    fill: var(--disabled-fill-color);\n",
              "    box-shadow: none;\n",
              "  }\n",
              "\n",
              "  .colab-df-spinner {\n",
              "    border: 2px solid var(--fill-color);\n",
              "    border-color: transparent;\n",
              "    border-bottom-color: var(--fill-color);\n",
              "    animation:\n",
              "      spin 1s steps(1) infinite;\n",
              "  }\n",
              "\n",
              "  @keyframes spin {\n",
              "    0% {\n",
              "      border-color: transparent;\n",
              "      border-bottom-color: var(--fill-color);\n",
              "      border-left-color: var(--fill-color);\n",
              "    }\n",
              "    20% {\n",
              "      border-color: transparent;\n",
              "      border-left-color: var(--fill-color);\n",
              "      border-top-color: var(--fill-color);\n",
              "    }\n",
              "    30% {\n",
              "      border-color: transparent;\n",
              "      border-left-color: var(--fill-color);\n",
              "      border-top-color: var(--fill-color);\n",
              "      border-right-color: var(--fill-color);\n",
              "    }\n",
              "    40% {\n",
              "      border-color: transparent;\n",
              "      border-right-color: var(--fill-color);\n",
              "      border-top-color: var(--fill-color);\n",
              "    }\n",
              "    60% {\n",
              "      border-color: transparent;\n",
              "      border-right-color: var(--fill-color);\n",
              "    }\n",
              "    80% {\n",
              "      border-color: transparent;\n",
              "      border-right-color: var(--fill-color);\n",
              "      border-bottom-color: var(--fill-color);\n",
              "    }\n",
              "    90% {\n",
              "      border-color: transparent;\n",
              "      border-bottom-color: var(--fill-color);\n",
              "    }\n",
              "  }\n",
              "</style>\n",
              "\n",
              "  <script>\n",
              "    async function quickchart(key) {\n",
              "      const quickchartButtonEl =\n",
              "        document.querySelector('#' + key + ' button');\n",
              "      quickchartButtonEl.disabled = true;  // To prevent multiple clicks.\n",
              "      quickchartButtonEl.classList.add('colab-df-spinner');\n",
              "      try {\n",
              "        const charts = await google.colab.kernel.invokeFunction(\n",
              "            'suggestCharts', [key], {});\n",
              "      } catch (error) {\n",
              "        console.error('Error during call to suggestCharts:', error);\n",
              "      }\n",
              "      quickchartButtonEl.classList.remove('colab-df-spinner');\n",
              "      quickchartButtonEl.classList.add('colab-df-quickchart-complete');\n",
              "    }\n",
              "    (() => {\n",
              "      let quickchartButtonEl =\n",
              "        document.querySelector('#df-a10061cb-46d8-42b1-bf51-9fcd9f2998a4 button');\n",
              "      quickchartButtonEl.style.display =\n",
              "        google.colab.kernel.accessAllowed ? 'block' : 'none';\n",
              "    })();\n",
              "  </script>\n",
              "</div>\n",
              "    </div>\n",
              "  </div>\n"
            ],
            "application/vnd.google.colaboratory.intrinsic+json": {
              "type": "dataframe",
              "variable_name": "data"
            }
          },
          "metadata": {},
          "execution_count": 255
        }
      ]
    },
    {
      "cell_type": "code",
      "source": [
        "# ¿De qué variables disponemos?\n",
        "data.columns"
      ],
      "metadata": {
        "colab": {
          "base_uri": "https://localhost:8080/"
        },
        "id": "GiywEJeHZDQf",
        "outputId": "e49b075d-cb39-4d38-ab39-a46c81c93fb8"
      },
      "execution_count": 256,
      "outputs": [
        {
          "output_type": "execute_result",
          "data": {
            "text/plain": [
              "Index(['ID', 'Listing Url', 'Scrape ID', 'Last Scraped', 'Name', 'Summary',\n",
              "       'Space', 'Description', 'Experiences Offered', 'Neighborhood Overview',\n",
              "       'Notes', 'Transit', 'Access', 'Interaction', 'House Rules',\n",
              "       'Thumbnail Url', 'Medium Url', 'Picture Url', 'XL Picture Url',\n",
              "       'Host ID', 'Host URL', 'Host Name', 'Host Since', 'Host Location',\n",
              "       'Host About', 'Host Response Time', 'Host Response Rate',\n",
              "       'Host Acceptance Rate', 'Host Thumbnail Url', 'Host Picture Url',\n",
              "       'Host Neighbourhood', 'Host Listings Count',\n",
              "       'Host Total Listings Count', 'Host Verifications', 'Street',\n",
              "       'Neighbourhood', 'Neighbourhood Cleansed',\n",
              "       'Neighbourhood Group Cleansed', 'City', 'State', 'Zipcode', 'Market',\n",
              "       'Smart Location', 'Country Code', 'Country', 'Latitude', 'Longitude',\n",
              "       'Property Type', 'Room Type', 'Accommodates', 'Bathrooms', 'Bedrooms',\n",
              "       'Beds', 'Bed Type', 'Amenities', 'Square Feet', 'Price', 'Weekly Price',\n",
              "       'Monthly Price', 'Security Deposit', 'Cleaning Fee', 'Guests Included',\n",
              "       'Extra People', 'Minimum Nights', 'Maximum Nights', 'Calendar Updated',\n",
              "       'Has Availability', 'Availability 30', 'Availability 60',\n",
              "       'Availability 90', 'Availability 365', 'Calendar last Scraped',\n",
              "       'Number of Reviews', 'First Review', 'Last Review',\n",
              "       'Review Scores Rating', 'Review Scores Accuracy',\n",
              "       'Review Scores Cleanliness', 'Review Scores Checkin',\n",
              "       'Review Scores Communication', 'Review Scores Location',\n",
              "       'Review Scores Value', 'License', 'Jurisdiction Names',\n",
              "       'Cancellation Policy', 'Calculated host listings count',\n",
              "       'Reviews per Month', 'Geolocation', 'Features'],\n",
              "      dtype='object')"
            ]
          },
          "metadata": {},
          "execution_count": 256
        }
      ]
    },
    {
      "cell_type": "markdown",
      "source": [
        "### 1.2. Descarga de imágenes"
      ],
      "metadata": {
        "id": "wLV1Sqm-ZUO3"
      }
    },
    {
      "cell_type": "code",
      "source": [
        "def download_images(paths: list,\n",
        "                    canvas: tuple = (224, 224),\n",
        "                    nb_channels: int = 3,\n",
        "                    max_imgs: Optional[int] = None\n",
        "                    ) -> tuple:\n",
        "  \"\"\" Download a list of images from url adresses, converting them to a specific\n",
        "  canvas size.\n",
        "\n",
        "  Args:\n",
        "    paths: Paths or url adresses from which to load images.\n",
        "    canvas: Desired image width and height.\n",
        "    nb_channels: Channels in images (1 for B/W, 3 for RGB).\n",
        "    max_imgs: Upper threshold in the number of images to download.\n",
        "\n",
        "  Return:\n",
        "    a tuple of:\n",
        "      - image values\n",
        "      - indices within the paths that were successfull.\n",
        "\n",
        "  \"\"\"\n",
        "  n_images = len(paths) if not max_imgs else max_imgs\n",
        "  images = numpy.zeros((n_images, canvas[0], canvas[1], nb_channels),\n",
        "                       dtype=numpy.uint8)\n",
        "  downloaded_idxs = []\n",
        "\n",
        "  for i_img, url in enumerate(tqdm(paths, total=n_images)):\n",
        "    if i_img >= n_images:\n",
        "      break\n",
        "    try:\n",
        "        img = io.imread(url)\n",
        "        img = cv2.resize(img, (canvas[0], canvas[1]))\n",
        "        downloaded_idxs.append(i_img)\n",
        "        images[i_img] = img\n",
        "    except (IOError, ValueError) as e:  # Unavailable url / conversion error\n",
        "        pass\n",
        "  return images[downloaded_idxs], downloaded_idxs"
      ],
      "metadata": {
        "id": "PYU6JbCqZWJV"
      },
      "execution_count": 257,
      "outputs": []
    },
    {
      "cell_type": "markdown",
      "source": [
        "Normalización y conversión en el rango [0, 1]"
      ],
      "metadata": {
        "id": "W59EsC6XlPQ0"
      }
    },
    {
      "cell_type": "code",
      "source": [
        "images, idxs = download_images(data['Thumbnail Url'], max_imgs=3000)\n",
        "images = images.astype(\"float32\") / 255.\n",
        "images.shape"
      ],
      "metadata": {
        "colab": {
          "base_uri": "https://localhost:8080/"
        },
        "id": "RdTh_y_tlUPm",
        "outputId": "d48ce334-0f65-42c0-8bac-f12fd1219a9d"
      },
      "execution_count": 258,
      "outputs": [
        {
          "output_type": "stream",
          "name": "stderr",
          "text": [
            "\r  0%|          | 0/3000 [00:00<?, ?it/s]<ipython-input-257-4b4849c24d37>:30: DeprecationWarning: Starting with ImageIO v3 the behavior of this function will switch to that of iio.v3.imread. To keep the current behavior (and make this warning disappear) use `import imageio.v2 as imageio` or call `imageio.v2.imread` directly.\n",
            "  img = io.imread(url)\n",
            "100%|██████████| 3000/3000 [27:55<00:00,  1.79it/s]\n"
          ]
        },
        {
          "output_type": "execute_result",
          "data": {
            "text/plain": [
              "(1862, 224, 224, 3)"
            ]
          },
          "metadata": {},
          "execution_count": 258
        }
      ]
    },
    {
      "cell_type": "markdown",
      "source": [
        "Filtrado acorde en los demás datos"
      ],
      "metadata": {
        "id": "Aymj_cVHlbvF"
      }
    },
    {
      "cell_type": "code",
      "source": [
        "filtered_data = data.iloc[idxs]\n",
        "filtered_data"
      ],
      "metadata": {
        "colab": {
          "base_uri": "https://localhost:8080/",
          "height": 1000
        },
        "id": "yp3-EbGUldXh",
        "outputId": "4663b504-748a-4f72-e54a-2bdfc0f00c44"
      },
      "execution_count": 259,
      "outputs": [
        {
          "output_type": "execute_result",
          "data": {
            "text/plain": [
              "            ID                            Listing Url       Scrape ID  \\\n",
              "0     17823671  https://www.airbnb.com/rooms/17823671  20170407214119   \n",
              "2       801113    https://www.airbnb.com/rooms/801113  20170407214119   \n",
              "3      7357466   https://www.airbnb.com/rooms/7357466  20170407214119   \n",
              "4     17050866  https://www.airbnb.com/rooms/17050866  20170407214119   \n",
              "5      6987048   https://www.airbnb.com/rooms/6987048  20170407214119   \n",
              "...        ...                                    ...             ...   \n",
              "2994   8548508   https://www.airbnb.com/rooms/8548508  20170407214119   \n",
              "2997   7813139   https://www.airbnb.com/rooms/7813139  20170407214119   \n",
              "2998   7041758   https://www.airbnb.com/rooms/7041758  20170407214119   \n",
              "2999  14391350  https://www.airbnb.com/rooms/14391350  20170407214119   \n",
              "3000   5318935   https://www.airbnb.com/rooms/5318935  20170407214119   \n",
              "\n",
              "     Last Scraped                                               Name  \\\n",
              "0      2017-04-08  Room in beautiful flat in Madrid centre!! SC8_1_2   \n",
              "2      2017-04-08     DOUBLE ROOM WITH PRIVATE BATHROOM IN LA LATINA   \n",
              "3      2017-04-08                  Alquiler habitación mes de agosto   \n",
              "4      2017-04-08                  Habitacion a solo 3 min de atocha   \n",
              "5      2017-04-08                             3 bedroom apartment !!   \n",
              "...           ...                                                ...   \n",
              "2994   2017-04-08                Great room in a great penthouse - 2   \n",
              "2997   2017-04-08                 Lovely duplex in the heart of town   \n",
              "2998   2017-04-08                 Big room + office (internet 100mb)   \n",
              "2999   2017-04-08                  Bedroom near Atocha Train Station   \n",
              "3000   2017-04-08               100E/NIGHT UP TO 8 PEOPLE.GARAGE 15E   \n",
              "\n",
              "                                                Summary  \\\n",
              "0             Great room with large bed and two windows   \n",
              "2     Bright and spacious double room and bathroom f...   \n",
              "3     Hola, somos una familia de 5 amigos que vivímo...   \n",
              "4     Nuestro Habitacion  esta hubicada en centro de...   \n",
              "5     Spacious apartment with three rooms that are r...   \n",
              "...                                                 ...   \n",
              "2994  It is a penthouse with a spectacular terrace o...   \n",
              "2997  Quiet and cosy. Ideal for couples or families ...   \n",
              "2998  We are renting one large room in a shared flat...   \n",
              "2999  Has everything you need. 5 minute walk to emaj...   \n",
              "3000  FLAT WITH A LOFT AREA WITH SEPARATE DOBLE BEDR...   \n",
              "\n",
              "                                                  Space  \\\n",
              "0     Amazing 12 bedroom flat with 3 complete bathro...   \n",
              "2     Spacious double room with private bathroom and...   \n",
              "3     La habitación que alquilamos es amplia, lumino...   \n",
              "4                                                   NaN   \n",
              "5     Apartment of 110 square meters. It comprises e...   \n",
              "...                                                 ...   \n",
              "2994                                                NaN   \n",
              "2997  Nice appartment, a small nest looking over the...   \n",
              "2998                                                NaN   \n",
              "2999  The room is in a seperate wing of the apartmen...   \n",
              "3000  PRICES PER APARTMENT TIL 8 PEOPLE, THE BEST FO...   \n",
              "\n",
              "                                            Description Experiences Offered  \\\n",
              "0     Great room with large bed and two windows Amaz...                none   \n",
              "2     Bright and spacious double room and bathroom f...                none   \n",
              "3     Hola, somos una familia de 5 amigos que vivímo...                none   \n",
              "4     Nuestro Habitacion  esta hubicada en centro de...                none   \n",
              "5     Spacious apartment with three rooms that are r...                none   \n",
              "...                                                 ...                 ...   \n",
              "2994  It is a penthouse with a spectacular terrace o...                none   \n",
              "2997  Quiet and cosy. Ideal for couples or families ...                none   \n",
              "2998  We are renting one large room in a shared flat...                none   \n",
              "2999  Has everything you need. 5 minute walk to emaj...                none   \n",
              "3000  FLAT WITH A LOFT AREA WITH SEPARATE DOBLE BEDR...                none   \n",
              "\n",
              "                                  Neighborhood Overview  ...  \\\n",
              "0     The \" Barrio de las Letras \" is one of the mos...  ...   \n",
              "2     .Safety neighborhood with all the amenities, g...  ...   \n",
              "3     El piso es muy amplio y las zonas comunes dan ...  ...   \n",
              "4     Es un barrio céntrico de madrid . Donde hay mu...  ...   \n",
              "5     It is a quiet neighborhood all amenities : fre...  ...   \n",
              "...                                                 ...  ...   \n",
              "2994                                                NaN  ...   \n",
              "2997  Multitude of options for restaurants: mexican,...  ...   \n",
              "2998                                                NaN  ...   \n",
              "2999  Cultural, friendly, convenient and close to ma...  ...   \n",
              "3000  Apartment in the old center of Madrid in the a...  ...   \n",
              "\n",
              "     Review Scores Communication Review Scores Location Review Scores Value  \\\n",
              "0                            NaN                    NaN                 NaN   \n",
              "2                            9.0                   10.0                 9.0   \n",
              "3                            NaN                    NaN                 NaN   \n",
              "4                           10.0                   10.0                10.0   \n",
              "5                           10.0                    6.0                 8.0   \n",
              "...                          ...                    ...                 ...   \n",
              "2994                         9.0                    9.0                10.0   \n",
              "2997                         9.0                   10.0                 9.0   \n",
              "2998                        10.0                   10.0                10.0   \n",
              "2999                         NaN                    NaN                 NaN   \n",
              "3000                         9.0                    9.0                 9.0   \n",
              "\n",
              "     License Jurisdiction Names Cancellation Policy  \\\n",
              "0        NaN                NaN              strict   \n",
              "2        NaN                NaN            moderate   \n",
              "3        NaN                NaN            flexible   \n",
              "4        NaN                NaN            flexible   \n",
              "5        NaN                NaN              strict   \n",
              "...      ...                ...                 ...   \n",
              "2994     NaN                NaN            flexible   \n",
              "2997     NaN                NaN              strict   \n",
              "2998     NaN                NaN            flexible   \n",
              "2999     NaN                NaN            flexible   \n",
              "3000     NaN                NaN              strict   \n",
              "\n",
              "     Calculated host listings count  Reviews per Month  \\\n",
              "0                                20                NaN   \n",
              "2                                 1               3.15   \n",
              "3                                 1                NaN   \n",
              "4                                 1               0.71   \n",
              "5                                 1               0.05   \n",
              "...                             ...                ...   \n",
              "2994                              3               0.11   \n",
              "2997                              1               3.83   \n",
              "2998                              1               0.05   \n",
              "2999                              1                NaN   \n",
              "3000                              4               0.55   \n",
              "\n",
              "                                Geolocation  \\\n",
              "0     40.41487093316894,-3.6965780975998435   \n",
              "2     40.40860126037668,-3.7145957909729637   \n",
              "3      40.43408638806261,-3.654979849617808   \n",
              "4     40.44181649452356,-3.6451428471469227   \n",
              "5     40.41147994191638,-3.6496248306429497   \n",
              "...                                     ...   \n",
              "2994  40.48636404466029,-3.6498675392879125   \n",
              "2997  40.41494296143138,-3.7082427849929656   \n",
              "2998  40.39514809314219,-3.6980818833873426   \n",
              "2999    40.4044295369104,-3.696389429038207   \n",
              "3000   40.40075811312129,-3.690696835025064   \n",
              "\n",
              "                                               Features  \n",
              "0     Host Has Profile Pic,Host Identity Verified,Re...  \n",
              "2     Host Has Profile Pic,Is Location Exact,Require...  \n",
              "3     Host Has Profile Pic,Host Identity Verified,Re...  \n",
              "4                 Host Has Profile Pic,Requires License  \n",
              "5                 Host Has Profile Pic,Requires License  \n",
              "...                                                 ...  \n",
              "2994  Host Has Profile Pic,Is Location Exact,Require...  \n",
              "2997  Host Has Profile Pic,Host Identity Verified,Is...  \n",
              "2998              Host Has Profile Pic,Requires License  \n",
              "2999  Host Has Profile Pic,Host Identity Verified,Re...  \n",
              "3000  Host Has Profile Pic,Is Location Exact,Require...  \n",
              "\n",
              "[1862 rows x 89 columns]"
            ],
            "text/html": [
              "\n",
              "  <div id=\"df-146b10f0-a86d-4caa-97b0-ca3c9d667f6d\" class=\"colab-df-container\">\n",
              "    <div>\n",
              "<style scoped>\n",
              "    .dataframe tbody tr th:only-of-type {\n",
              "        vertical-align: middle;\n",
              "    }\n",
              "\n",
              "    .dataframe tbody tr th {\n",
              "        vertical-align: top;\n",
              "    }\n",
              "\n",
              "    .dataframe thead th {\n",
              "        text-align: right;\n",
              "    }\n",
              "</style>\n",
              "<table border=\"1\" class=\"dataframe\">\n",
              "  <thead>\n",
              "    <tr style=\"text-align: right;\">\n",
              "      <th></th>\n",
              "      <th>ID</th>\n",
              "      <th>Listing Url</th>\n",
              "      <th>Scrape ID</th>\n",
              "      <th>Last Scraped</th>\n",
              "      <th>Name</th>\n",
              "      <th>Summary</th>\n",
              "      <th>Space</th>\n",
              "      <th>Description</th>\n",
              "      <th>Experiences Offered</th>\n",
              "      <th>Neighborhood Overview</th>\n",
              "      <th>...</th>\n",
              "      <th>Review Scores Communication</th>\n",
              "      <th>Review Scores Location</th>\n",
              "      <th>Review Scores Value</th>\n",
              "      <th>License</th>\n",
              "      <th>Jurisdiction Names</th>\n",
              "      <th>Cancellation Policy</th>\n",
              "      <th>Calculated host listings count</th>\n",
              "      <th>Reviews per Month</th>\n",
              "      <th>Geolocation</th>\n",
              "      <th>Features</th>\n",
              "    </tr>\n",
              "  </thead>\n",
              "  <tbody>\n",
              "    <tr>\n",
              "      <th>0</th>\n",
              "      <td>17823671</td>\n",
              "      <td>https://www.airbnb.com/rooms/17823671</td>\n",
              "      <td>20170407214119</td>\n",
              "      <td>2017-04-08</td>\n",
              "      <td>Room in beautiful flat in Madrid centre!! SC8_1_2</td>\n",
              "      <td>Great room with large bed and two windows</td>\n",
              "      <td>Amazing 12 bedroom flat with 3 complete bathro...</td>\n",
              "      <td>Great room with large bed and two windows Amaz...</td>\n",
              "      <td>none</td>\n",
              "      <td>The \" Barrio de las Letras \" is one of the mos...</td>\n",
              "      <td>...</td>\n",
              "      <td>NaN</td>\n",
              "      <td>NaN</td>\n",
              "      <td>NaN</td>\n",
              "      <td>NaN</td>\n",
              "      <td>NaN</td>\n",
              "      <td>strict</td>\n",
              "      <td>20</td>\n",
              "      <td>NaN</td>\n",
              "      <td>40.41487093316894,-3.6965780975998435</td>\n",
              "      <td>Host Has Profile Pic,Host Identity Verified,Re...</td>\n",
              "    </tr>\n",
              "    <tr>\n",
              "      <th>2</th>\n",
              "      <td>801113</td>\n",
              "      <td>https://www.airbnb.com/rooms/801113</td>\n",
              "      <td>20170407214119</td>\n",
              "      <td>2017-04-08</td>\n",
              "      <td>DOUBLE ROOM WITH PRIVATE BATHROOM IN LA LATINA</td>\n",
              "      <td>Bright and spacious double room and bathroom f...</td>\n",
              "      <td>Spacious double room with private bathroom and...</td>\n",
              "      <td>Bright and spacious double room and bathroom f...</td>\n",
              "      <td>none</td>\n",
              "      <td>.Safety neighborhood with all the amenities, g...</td>\n",
              "      <td>...</td>\n",
              "      <td>9.0</td>\n",
              "      <td>10.0</td>\n",
              "      <td>9.0</td>\n",
              "      <td>NaN</td>\n",
              "      <td>NaN</td>\n",
              "      <td>moderate</td>\n",
              "      <td>1</td>\n",
              "      <td>3.15</td>\n",
              "      <td>40.40860126037668,-3.7145957909729637</td>\n",
              "      <td>Host Has Profile Pic,Is Location Exact,Require...</td>\n",
              "    </tr>\n",
              "    <tr>\n",
              "      <th>3</th>\n",
              "      <td>7357466</td>\n",
              "      <td>https://www.airbnb.com/rooms/7357466</td>\n",
              "      <td>20170407214119</td>\n",
              "      <td>2017-04-08</td>\n",
              "      <td>Alquiler habitación mes de agosto</td>\n",
              "      <td>Hola, somos una familia de 5 amigos que vivímo...</td>\n",
              "      <td>La habitación que alquilamos es amplia, lumino...</td>\n",
              "      <td>Hola, somos una familia de 5 amigos que vivímo...</td>\n",
              "      <td>none</td>\n",
              "      <td>El piso es muy amplio y las zonas comunes dan ...</td>\n",
              "      <td>...</td>\n",
              "      <td>NaN</td>\n",
              "      <td>NaN</td>\n",
              "      <td>NaN</td>\n",
              "      <td>NaN</td>\n",
              "      <td>NaN</td>\n",
              "      <td>flexible</td>\n",
              "      <td>1</td>\n",
              "      <td>NaN</td>\n",
              "      <td>40.43408638806261,-3.654979849617808</td>\n",
              "      <td>Host Has Profile Pic,Host Identity Verified,Re...</td>\n",
              "    </tr>\n",
              "    <tr>\n",
              "      <th>4</th>\n",
              "      <td>17050866</td>\n",
              "      <td>https://www.airbnb.com/rooms/17050866</td>\n",
              "      <td>20170407214119</td>\n",
              "      <td>2017-04-08</td>\n",
              "      <td>Habitacion a solo 3 min de atocha</td>\n",
              "      <td>Nuestro Habitacion  esta hubicada en centro de...</td>\n",
              "      <td>NaN</td>\n",
              "      <td>Nuestro Habitacion  esta hubicada en centro de...</td>\n",
              "      <td>none</td>\n",
              "      <td>Es un barrio céntrico de madrid . Donde hay mu...</td>\n",
              "      <td>...</td>\n",
              "      <td>10.0</td>\n",
              "      <td>10.0</td>\n",
              "      <td>10.0</td>\n",
              "      <td>NaN</td>\n",
              "      <td>NaN</td>\n",
              "      <td>flexible</td>\n",
              "      <td>1</td>\n",
              "      <td>0.71</td>\n",
              "      <td>40.44181649452356,-3.6451428471469227</td>\n",
              "      <td>Host Has Profile Pic,Requires License</td>\n",
              "    </tr>\n",
              "    <tr>\n",
              "      <th>5</th>\n",
              "      <td>6987048</td>\n",
              "      <td>https://www.airbnb.com/rooms/6987048</td>\n",
              "      <td>20170407214119</td>\n",
              "      <td>2017-04-08</td>\n",
              "      <td>3 bedroom apartment !!</td>\n",
              "      <td>Spacious apartment with three rooms that are r...</td>\n",
              "      <td>Apartment of 110 square meters. It comprises e...</td>\n",
              "      <td>Spacious apartment with three rooms that are r...</td>\n",
              "      <td>none</td>\n",
              "      <td>It is a quiet neighborhood all amenities : fre...</td>\n",
              "      <td>...</td>\n",
              "      <td>10.0</td>\n",
              "      <td>6.0</td>\n",
              "      <td>8.0</td>\n",
              "      <td>NaN</td>\n",
              "      <td>NaN</td>\n",
              "      <td>strict</td>\n",
              "      <td>1</td>\n",
              "      <td>0.05</td>\n",
              "      <td>40.41147994191638,-3.6496248306429497</td>\n",
              "      <td>Host Has Profile Pic,Requires License</td>\n",
              "    </tr>\n",
              "    <tr>\n",
              "      <th>...</th>\n",
              "      <td>...</td>\n",
              "      <td>...</td>\n",
              "      <td>...</td>\n",
              "      <td>...</td>\n",
              "      <td>...</td>\n",
              "      <td>...</td>\n",
              "      <td>...</td>\n",
              "      <td>...</td>\n",
              "      <td>...</td>\n",
              "      <td>...</td>\n",
              "      <td>...</td>\n",
              "      <td>...</td>\n",
              "      <td>...</td>\n",
              "      <td>...</td>\n",
              "      <td>...</td>\n",
              "      <td>...</td>\n",
              "      <td>...</td>\n",
              "      <td>...</td>\n",
              "      <td>...</td>\n",
              "      <td>...</td>\n",
              "      <td>...</td>\n",
              "    </tr>\n",
              "    <tr>\n",
              "      <th>2994</th>\n",
              "      <td>8548508</td>\n",
              "      <td>https://www.airbnb.com/rooms/8548508</td>\n",
              "      <td>20170407214119</td>\n",
              "      <td>2017-04-08</td>\n",
              "      <td>Great room in a great penthouse - 2</td>\n",
              "      <td>It is a penthouse with a spectacular terrace o...</td>\n",
              "      <td>NaN</td>\n",
              "      <td>It is a penthouse with a spectacular terrace o...</td>\n",
              "      <td>none</td>\n",
              "      <td>NaN</td>\n",
              "      <td>...</td>\n",
              "      <td>9.0</td>\n",
              "      <td>9.0</td>\n",
              "      <td>10.0</td>\n",
              "      <td>NaN</td>\n",
              "      <td>NaN</td>\n",
              "      <td>flexible</td>\n",
              "      <td>3</td>\n",
              "      <td>0.11</td>\n",
              "      <td>40.48636404466029,-3.6498675392879125</td>\n",
              "      <td>Host Has Profile Pic,Is Location Exact,Require...</td>\n",
              "    </tr>\n",
              "    <tr>\n",
              "      <th>2997</th>\n",
              "      <td>7813139</td>\n",
              "      <td>https://www.airbnb.com/rooms/7813139</td>\n",
              "      <td>20170407214119</td>\n",
              "      <td>2017-04-08</td>\n",
              "      <td>Lovely duplex in the heart of town</td>\n",
              "      <td>Quiet and cosy. Ideal for couples or families ...</td>\n",
              "      <td>Nice appartment, a small nest looking over the...</td>\n",
              "      <td>Quiet and cosy. Ideal for couples or families ...</td>\n",
              "      <td>none</td>\n",
              "      <td>Multitude of options for restaurants: mexican,...</td>\n",
              "      <td>...</td>\n",
              "      <td>9.0</td>\n",
              "      <td>10.0</td>\n",
              "      <td>9.0</td>\n",
              "      <td>NaN</td>\n",
              "      <td>NaN</td>\n",
              "      <td>strict</td>\n",
              "      <td>1</td>\n",
              "      <td>3.83</td>\n",
              "      <td>40.41494296143138,-3.7082427849929656</td>\n",
              "      <td>Host Has Profile Pic,Host Identity Verified,Is...</td>\n",
              "    </tr>\n",
              "    <tr>\n",
              "      <th>2998</th>\n",
              "      <td>7041758</td>\n",
              "      <td>https://www.airbnb.com/rooms/7041758</td>\n",
              "      <td>20170407214119</td>\n",
              "      <td>2017-04-08</td>\n",
              "      <td>Big room + office (internet 100mb)</td>\n",
              "      <td>We are renting one large room in a shared flat...</td>\n",
              "      <td>NaN</td>\n",
              "      <td>We are renting one large room in a shared flat...</td>\n",
              "      <td>none</td>\n",
              "      <td>NaN</td>\n",
              "      <td>...</td>\n",
              "      <td>10.0</td>\n",
              "      <td>10.0</td>\n",
              "      <td>10.0</td>\n",
              "      <td>NaN</td>\n",
              "      <td>NaN</td>\n",
              "      <td>flexible</td>\n",
              "      <td>1</td>\n",
              "      <td>0.05</td>\n",
              "      <td>40.39514809314219,-3.6980818833873426</td>\n",
              "      <td>Host Has Profile Pic,Requires License</td>\n",
              "    </tr>\n",
              "    <tr>\n",
              "      <th>2999</th>\n",
              "      <td>14391350</td>\n",
              "      <td>https://www.airbnb.com/rooms/14391350</td>\n",
              "      <td>20170407214119</td>\n",
              "      <td>2017-04-08</td>\n",
              "      <td>Bedroom near Atocha Train Station</td>\n",
              "      <td>Has everything you need. 5 minute walk to emaj...</td>\n",
              "      <td>The room is in a seperate wing of the apartmen...</td>\n",
              "      <td>Has everything you need. 5 minute walk to emaj...</td>\n",
              "      <td>none</td>\n",
              "      <td>Cultural, friendly, convenient and close to ma...</td>\n",
              "      <td>...</td>\n",
              "      <td>NaN</td>\n",
              "      <td>NaN</td>\n",
              "      <td>NaN</td>\n",
              "      <td>NaN</td>\n",
              "      <td>NaN</td>\n",
              "      <td>flexible</td>\n",
              "      <td>1</td>\n",
              "      <td>NaN</td>\n",
              "      <td>40.4044295369104,-3.696389429038207</td>\n",
              "      <td>Host Has Profile Pic,Host Identity Verified,Re...</td>\n",
              "    </tr>\n",
              "    <tr>\n",
              "      <th>3000</th>\n",
              "      <td>5318935</td>\n",
              "      <td>https://www.airbnb.com/rooms/5318935</td>\n",
              "      <td>20170407214119</td>\n",
              "      <td>2017-04-08</td>\n",
              "      <td>100E/NIGHT UP TO 8 PEOPLE.GARAGE 15E</td>\n",
              "      <td>FLAT WITH A LOFT AREA WITH SEPARATE DOBLE BEDR...</td>\n",
              "      <td>PRICES PER APARTMENT TIL 8 PEOPLE, THE BEST FO...</td>\n",
              "      <td>FLAT WITH A LOFT AREA WITH SEPARATE DOBLE BEDR...</td>\n",
              "      <td>none</td>\n",
              "      <td>Apartment in the old center of Madrid in the a...</td>\n",
              "      <td>...</td>\n",
              "      <td>9.0</td>\n",
              "      <td>9.0</td>\n",
              "      <td>9.0</td>\n",
              "      <td>NaN</td>\n",
              "      <td>NaN</td>\n",
              "      <td>strict</td>\n",
              "      <td>4</td>\n",
              "      <td>0.55</td>\n",
              "      <td>40.40075811312129,-3.690696835025064</td>\n",
              "      <td>Host Has Profile Pic,Is Location Exact,Require...</td>\n",
              "    </tr>\n",
              "  </tbody>\n",
              "</table>\n",
              "<p>1862 rows × 89 columns</p>\n",
              "</div>\n",
              "    <div class=\"colab-df-buttons\">\n",
              "\n",
              "  <div class=\"colab-df-container\">\n",
              "    <button class=\"colab-df-convert\" onclick=\"convertToInteractive('df-146b10f0-a86d-4caa-97b0-ca3c9d667f6d')\"\n",
              "            title=\"Convert this dataframe to an interactive table.\"\n",
              "            style=\"display:none;\">\n",
              "\n",
              "  <svg xmlns=\"http://www.w3.org/2000/svg\" height=\"24px\" viewBox=\"0 -960 960 960\">\n",
              "    <path d=\"M120-120v-720h720v720H120Zm60-500h600v-160H180v160Zm220 220h160v-160H400v160Zm0 220h160v-160H400v160ZM180-400h160v-160H180v160Zm440 0h160v-160H620v160ZM180-180h160v-160H180v160Zm440 0h160v-160H620v160Z\"/>\n",
              "  </svg>\n",
              "    </button>\n",
              "\n",
              "  <style>\n",
              "    .colab-df-container {\n",
              "      display:flex;\n",
              "      gap: 12px;\n",
              "    }\n",
              "\n",
              "    .colab-df-convert {\n",
              "      background-color: #E8F0FE;\n",
              "      border: none;\n",
              "      border-radius: 50%;\n",
              "      cursor: pointer;\n",
              "      display: none;\n",
              "      fill: #1967D2;\n",
              "      height: 32px;\n",
              "      padding: 0 0 0 0;\n",
              "      width: 32px;\n",
              "    }\n",
              "\n",
              "    .colab-df-convert:hover {\n",
              "      background-color: #E2EBFA;\n",
              "      box-shadow: 0px 1px 2px rgba(60, 64, 67, 0.3), 0px 1px 3px 1px rgba(60, 64, 67, 0.15);\n",
              "      fill: #174EA6;\n",
              "    }\n",
              "\n",
              "    .colab-df-buttons div {\n",
              "      margin-bottom: 4px;\n",
              "    }\n",
              "\n",
              "    [theme=dark] .colab-df-convert {\n",
              "      background-color: #3B4455;\n",
              "      fill: #D2E3FC;\n",
              "    }\n",
              "\n",
              "    [theme=dark] .colab-df-convert:hover {\n",
              "      background-color: #434B5C;\n",
              "      box-shadow: 0px 1px 3px 1px rgba(0, 0, 0, 0.15);\n",
              "      filter: drop-shadow(0px 1px 2px rgba(0, 0, 0, 0.3));\n",
              "      fill: #FFFFFF;\n",
              "    }\n",
              "  </style>\n",
              "\n",
              "    <script>\n",
              "      const buttonEl =\n",
              "        document.querySelector('#df-146b10f0-a86d-4caa-97b0-ca3c9d667f6d button.colab-df-convert');\n",
              "      buttonEl.style.display =\n",
              "        google.colab.kernel.accessAllowed ? 'block' : 'none';\n",
              "\n",
              "      async function convertToInteractive(key) {\n",
              "        const element = document.querySelector('#df-146b10f0-a86d-4caa-97b0-ca3c9d667f6d');\n",
              "        const dataTable =\n",
              "          await google.colab.kernel.invokeFunction('convertToInteractive',\n",
              "                                                    [key], {});\n",
              "        if (!dataTable) return;\n",
              "\n",
              "        const docLinkHtml = 'Like what you see? Visit the ' +\n",
              "          '<a target=\"_blank\" href=https://colab.research.google.com/notebooks/data_table.ipynb>data table notebook</a>'\n",
              "          + ' to learn more about interactive tables.';\n",
              "        element.innerHTML = '';\n",
              "        dataTable['output_type'] = 'display_data';\n",
              "        await google.colab.output.renderOutput(dataTable, element);\n",
              "        const docLink = document.createElement('div');\n",
              "        docLink.innerHTML = docLinkHtml;\n",
              "        element.appendChild(docLink);\n",
              "      }\n",
              "    </script>\n",
              "  </div>\n",
              "\n",
              "\n",
              "<div id=\"df-897ce102-a704-4259-8e8a-f6b7a68f1670\">\n",
              "  <button class=\"colab-df-quickchart\" onclick=\"quickchart('df-897ce102-a704-4259-8e8a-f6b7a68f1670')\"\n",
              "            title=\"Suggest charts\"\n",
              "            style=\"display:none;\">\n",
              "\n",
              "<svg xmlns=\"http://www.w3.org/2000/svg\" height=\"24px\"viewBox=\"0 0 24 24\"\n",
              "     width=\"24px\">\n",
              "    <g>\n",
              "        <path d=\"M19 3H5c-1.1 0-2 .9-2 2v14c0 1.1.9 2 2 2h14c1.1 0 2-.9 2-2V5c0-1.1-.9-2-2-2zM9 17H7v-7h2v7zm4 0h-2V7h2v10zm4 0h-2v-4h2v4z\"/>\n",
              "    </g>\n",
              "</svg>\n",
              "  </button>\n",
              "\n",
              "<style>\n",
              "  .colab-df-quickchart {\n",
              "      --bg-color: #E8F0FE;\n",
              "      --fill-color: #1967D2;\n",
              "      --hover-bg-color: #E2EBFA;\n",
              "      --hover-fill-color: #174EA6;\n",
              "      --disabled-fill-color: #AAA;\n",
              "      --disabled-bg-color: #DDD;\n",
              "  }\n",
              "\n",
              "  [theme=dark] .colab-df-quickchart {\n",
              "      --bg-color: #3B4455;\n",
              "      --fill-color: #D2E3FC;\n",
              "      --hover-bg-color: #434B5C;\n",
              "      --hover-fill-color: #FFFFFF;\n",
              "      --disabled-bg-color: #3B4455;\n",
              "      --disabled-fill-color: #666;\n",
              "  }\n",
              "\n",
              "  .colab-df-quickchart {\n",
              "    background-color: var(--bg-color);\n",
              "    border: none;\n",
              "    border-radius: 50%;\n",
              "    cursor: pointer;\n",
              "    display: none;\n",
              "    fill: var(--fill-color);\n",
              "    height: 32px;\n",
              "    padding: 0;\n",
              "    width: 32px;\n",
              "  }\n",
              "\n",
              "  .colab-df-quickchart:hover {\n",
              "    background-color: var(--hover-bg-color);\n",
              "    box-shadow: 0 1px 2px rgba(60, 64, 67, 0.3), 0 1px 3px 1px rgba(60, 64, 67, 0.15);\n",
              "    fill: var(--button-hover-fill-color);\n",
              "  }\n",
              "\n",
              "  .colab-df-quickchart-complete:disabled,\n",
              "  .colab-df-quickchart-complete:disabled:hover {\n",
              "    background-color: var(--disabled-bg-color);\n",
              "    fill: var(--disabled-fill-color);\n",
              "    box-shadow: none;\n",
              "  }\n",
              "\n",
              "  .colab-df-spinner {\n",
              "    border: 2px solid var(--fill-color);\n",
              "    border-color: transparent;\n",
              "    border-bottom-color: var(--fill-color);\n",
              "    animation:\n",
              "      spin 1s steps(1) infinite;\n",
              "  }\n",
              "\n",
              "  @keyframes spin {\n",
              "    0% {\n",
              "      border-color: transparent;\n",
              "      border-bottom-color: var(--fill-color);\n",
              "      border-left-color: var(--fill-color);\n",
              "    }\n",
              "    20% {\n",
              "      border-color: transparent;\n",
              "      border-left-color: var(--fill-color);\n",
              "      border-top-color: var(--fill-color);\n",
              "    }\n",
              "    30% {\n",
              "      border-color: transparent;\n",
              "      border-left-color: var(--fill-color);\n",
              "      border-top-color: var(--fill-color);\n",
              "      border-right-color: var(--fill-color);\n",
              "    }\n",
              "    40% {\n",
              "      border-color: transparent;\n",
              "      border-right-color: var(--fill-color);\n",
              "      border-top-color: var(--fill-color);\n",
              "    }\n",
              "    60% {\n",
              "      border-color: transparent;\n",
              "      border-right-color: var(--fill-color);\n",
              "    }\n",
              "    80% {\n",
              "      border-color: transparent;\n",
              "      border-right-color: var(--fill-color);\n",
              "      border-bottom-color: var(--fill-color);\n",
              "    }\n",
              "    90% {\n",
              "      border-color: transparent;\n",
              "      border-bottom-color: var(--fill-color);\n",
              "    }\n",
              "  }\n",
              "</style>\n",
              "\n",
              "  <script>\n",
              "    async function quickchart(key) {\n",
              "      const quickchartButtonEl =\n",
              "        document.querySelector('#' + key + ' button');\n",
              "      quickchartButtonEl.disabled = true;  // To prevent multiple clicks.\n",
              "      quickchartButtonEl.classList.add('colab-df-spinner');\n",
              "      try {\n",
              "        const charts = await google.colab.kernel.invokeFunction(\n",
              "            'suggestCharts', [key], {});\n",
              "      } catch (error) {\n",
              "        console.error('Error during call to suggestCharts:', error);\n",
              "      }\n",
              "      quickchartButtonEl.classList.remove('colab-df-spinner');\n",
              "      quickchartButtonEl.classList.add('colab-df-quickchart-complete');\n",
              "    }\n",
              "    (() => {\n",
              "      let quickchartButtonEl =\n",
              "        document.querySelector('#df-897ce102-a704-4259-8e8a-f6b7a68f1670 button');\n",
              "      quickchartButtonEl.style.display =\n",
              "        google.colab.kernel.accessAllowed ? 'block' : 'none';\n",
              "    })();\n",
              "  </script>\n",
              "</div>\n",
              "    </div>\n",
              "  </div>\n"
            ],
            "application/vnd.google.colaboratory.intrinsic+json": {
              "type": "dataframe",
              "variable_name": "filtered_data"
            }
          },
          "metadata": {},
          "execution_count": 259
        }
      ]
    },
    {
      "cell_type": "markdown",
      "source": [
        "### 1.3 Guardado de los datos para posterior uso/selección"
      ],
      "metadata": {
        "id": "Qn12-k_Vmogr"
      }
    },
    {
      "cell_type": "code",
      "source": [
        "numpy.save('images.npy', images)\n",
        "filtered_data.to_csv('filtered_data.csv', sep=';', index=False)"
      ],
      "metadata": {
        "id": "m0OUYs1fmuKA"
      },
      "execution_count": 260,
      "outputs": []
    },
    {
      "cell_type": "code",
      "source": [
        "from google.colab import drive\n",
        "drive.mount('/content/drive')"
      ],
      "metadata": {
        "colab": {
          "base_uri": "https://localhost:8080/"
        },
        "id": "GfgM2J8kprt9",
        "outputId": "810f184d-cac0-4036-df09-8e5669c2b6eb"
      },
      "execution_count": 261,
      "outputs": [
        {
          "output_type": "stream",
          "name": "stdout",
          "text": [
            "Drive already mounted at /content/drive; to attempt to forcibly remount, call drive.mount(\"/content/drive\", force_remount=True).\n"
          ]
        }
      ]
    },
    {
      "cell_type": "code",
      "source": [
        "!cp images.npy /content/drive/MyDrive/images_final.npy\n",
        "!cp filtered_data.csv /content/drive/MyDrive/filtered_data.csv\n",
        "\n",
        "!ls -lah images* filtered*  # Comprobación"
      ],
      "metadata": {
        "colab": {
          "base_uri": "https://localhost:8080/"
        },
        "id": "WaiEHVPxtXla",
        "outputId": "77eea9f8-02ea-4483-d3c2-3e6d88d1774c"
      },
      "execution_count": 262,
      "outputs": [
        {
          "output_type": "stream",
          "name": "stdout",
          "text": [
            "-rw-r--r-- 1 root root 7.2M Mar  3 13:29 filtered_data.csv\n",
            "-rw-r--r-- 1 root root 1.1G Mar  3 13:29 images.npy\n"
          ]
        }
      ]
    },
    {
      "cell_type": "code",
      "source": [
        "# Comprobamos a abrirlos de nuevo\n",
        "saved_data = pandas.read_csv(\"/content/drive/MyDrive/filtered_data.csv\", sep=';')\n",
        "saved_imgs = numpy.load(\"/content/drive/MyDrive/images_final.npy\")\n",
        "saved_data.shape, saved_imgs.shape"
      ],
      "metadata": {
        "colab": {
          "base_uri": "https://localhost:8080/"
        },
        "id": "yLX1ByamphPV",
        "outputId": "304fd5a0-c612-4741-c4d7-85d8f18198f3"
      },
      "execution_count": 263,
      "outputs": [
        {
          "output_type": "execute_result",
          "data": {
            "text/plain": [
              "((1862, 89), (1862, 224, 224, 3))"
            ]
          },
          "metadata": {},
          "execution_count": 263
        }
      ]
    },
    {
      "cell_type": "markdown",
      "source": [
        "Así, por ejemplo, cargamos y visualizamos la distribución de las etiquetas:"
      ],
      "metadata": {
        "id": "mRDhGeMUuQdQ"
      }
    },
    {
      "cell_type": "code",
      "source": [
        "data['Price'].hist(bins=100)"
      ],
      "metadata": {
        "colab": {
          "base_uri": "https://localhost:8080/",
          "height": 448
        },
        "id": "ECahaJDVuUwS",
        "outputId": "4a83819f-a045-42cb-f256-1e9fa8ff2af0"
      },
      "execution_count": 264,
      "outputs": [
        {
          "output_type": "execute_result",
          "data": {
            "text/plain": [
              "<Axes: >"
            ]
          },
          "metadata": {},
          "execution_count": 264
        },
        {
          "output_type": "display_data",
          "data": {
            "text/plain": [
              "<Figure size 640x480 with 1 Axes>"
            ],
            "image/png": "[encoded data removed]"
          },
          "metadata": {}
        }
      ]
    },
    {
      "cell_type": "markdown",
      "source": [
        "Y podemos dividir por porcentajes, para crear clases, como por ejemplo:"
      ],
      "metadata": {
        "id": "tKoND5JVusVl"
      }
    },
    {
      "cell_type": "code",
      "source": [
        "data['Price'].describe()"
      ],
      "metadata": {
        "colab": {
          "base_uri": "https://localhost:8080/"
        },
        "id": "-3VrvGPhuvz7",
        "outputId": "4eea666e-2335-45d3-9e6e-f45ea3ac29b5"
      },
      "execution_count": 265,
      "outputs": [
        {
          "output_type": "execute_result",
          "data": {
            "text/plain": [
              "count    13990.000000\n",
              "mean        71.515154\n",
              "std         67.863596\n",
              "min          9.000000\n",
              "25%         32.000000\n",
              "50%         55.000000\n",
              "75%         85.000000\n",
              "max        950.000000\n",
              "Name: Price, dtype: float64"
            ]
          },
          "metadata": {},
          "execution_count": 265
        }
      ]
    },
    {
      "cell_type": "code",
      "source": [
        "y_class = []\n",
        "for y in data['Price']:\n",
        "  if y <= 32:\n",
        "    y_class.append(0) # Rango más barato\n",
        "  elif 32 < y <= 55:\n",
        "    y_class.append(1) # Rango intermedio\n",
        "  else:\n",
        "    y_class.append(2)\n",
        "y_class = pandas.Series(y_class)\n",
        "y_class.hist(bins=3)"
      ],
      "metadata": {
        "colab": {
          "base_uri": "https://localhost:8080/",
          "height": 448
        },
        "id": "iqylpHMBxhTo",
        "outputId": "6f6c285f-1e87-434e-b24b-6e1fd17b8e68"
      },
      "execution_count": 266,
      "outputs": [
        {
          "output_type": "execute_result",
          "data": {
            "text/plain": [
              "<Axes: >"
            ]
          },
          "metadata": {},
          "execution_count": 266
        },
        {
          "output_type": "display_data",
          "data": {
            "text/plain": [
              "<Figure size 640x480 with 1 Axes>"
            ],
            "image/png": "[encoded data removed]"
          },
          "metadata": {}
        }
      ]
    },
    {
      "cell_type": "markdown",
      "source": [
        "Al dividir entre train y test, mantener la coherencia con las imagenes\n",
        "Funcion de perdidas no puede tener not a number"
      ],
      "metadata": {
        "id": "4G9g7AJFnr20"
      }
    },
    {
      "cell_type": "markdown",
      "source": [
        "## 3. División entre train y test"
      ],
      "metadata": {
        "id": "BEB-MVWWzfSY"
      }
    },
    {
      "cell_type": "markdown",
      "source": [
        "Dividimos los datos entre train test y validación. en proporción 80-20 y a su vez 50-50"
      ],
      "metadata": {
        "id": "ggM8J_Ar1Vsd"
      }
    },
    {
      "cell_type": "code",
      "source": [
        "from sklearn.model_selection import train_test_split\n",
        "\n",
        "train, test   = train_test_split(saved_data, test_size=0.2, shuffle=True, random_state=1234)\n",
        "test, valid   = train_test_split(test, test_size=0.5, shuffle=True, random_state=1234)\n",
        "\n",
        "print(f'Shape 1D train: {train.shape}')\n",
        "print(f'Shape 1D valid: {valid.shape}')\n",
        "print(f'Shape 1D test:  {test.shape}')"
      ],
      "metadata": {
        "colab": {
          "base_uri": "https://localhost:8080/"
        },
        "id": "ggJjhfouzls4",
        "outputId": "4a0e5af1-449c-4aab-a56e-a21d6120a5d6"
      },
      "execution_count": 267,
      "outputs": [
        {
          "output_type": "stream",
          "name": "stdout",
          "text": [
            "Shape 1D train: (1489, 89)\n",
            "Shape 1D valid: (187, 89)\n",
            "Shape 1D test:  (186, 89)\n"
          ]
        }
      ]
    },
    {
      "cell_type": "markdown",
      "source": [
        "Declaramos los indices para asegurar la coherencia entre train-valid-test de 1D e imagenes"
      ],
      "metadata": {
        "id": "S_JPyywe2z7I"
      }
    },
    {
      "cell_type": "code",
      "source": [
        "train_index , valid_index , test_index = train.index , valid.index , test.index"
      ],
      "metadata": {
        "id": "EGMQrixZ2ypB"
      },
      "execution_count": 268,
      "outputs": []
    },
    {
      "cell_type": "markdown",
      "source": [
        "Para facilitar su recuperación y dado el tamaño guardardamos por separado y nos aseguramos que mantengan las dimensiones anteriores"
      ],
      "metadata": {
        "id": "AyrG70Ns3Jy8"
      }
    },
    {
      "cell_type": "code",
      "source": [
        "saved_data.loc[train_index].to_csv('/content/drive/MyDrive/train_1D.csv', sep=';', decimal='.', index=False)\n",
        "saved_data.loc[valid_index].to_csv('/content/drive/MyDrive/valid_1D.csv', sep=';', decimal='.', index=False)\n",
        "saved_data.loc[test_index].to_csv('/content/drive/MyDrive/test_1D.csv', sep=';', decimal='.', index=False)\n",
        "\n",
        "print(f'Shape 1D train CSV: {saved_data.loc[train_index].shape}')\n",
        "print(f'Shape 1D valid CSV: {saved_data.loc[valid_index].shape}')\n",
        "print(f'Shape 1D test CSV:  {saved_data.loc[test_index].shape}')"
      ],
      "metadata": {
        "colab": {
          "base_uri": "https://localhost:8080/"
        },
        "id": "FWgRhPee3Gsa",
        "outputId": "1a6c6460-fe27-4899-ec50-ad3dbb7eedef"
      },
      "execution_count": 269,
      "outputs": [
        {
          "output_type": "stream",
          "name": "stdout",
          "text": [
            "Shape 1D train CSV: (1489, 89)\n",
            "Shape 1D valid CSV: (187, 89)\n",
            "Shape 1D test CSV:  (186, 89)\n"
          ]
        }
      ]
    },
    {
      "cell_type": "markdown",
      "source": [
        "Separamos en base a los indices anteriores las imagenes"
      ],
      "metadata": {
        "id": "yY-L1lga34yS"
      }
    },
    {
      "cell_type": "code",
      "source": [
        "np.save('/content/drive/MyDrive/train_images.npy',saved_imgs[train_index])\n",
        "np.save('/content/drive/MyDrive/valid_images.npy',saved_imgs[valid_index])\n",
        "np.save('/content/drive/MyDrive/test_images.npy',saved_imgs[test_index])\n",
        "\n",
        "\n",
        "print(f'Shape images train CSV: {saved_imgs[train_index].shape}')\n",
        "print(f'Shape images valid CSV: {saved_imgs[valid_index].shape}')\n",
        "print(f'Shape images test CSV:  {saved_imgs[test_index].shape}')"
      ],
      "metadata": {
        "colab": {
          "base_uri": "https://localhost:8080/"
        },
        "id": "ic9X94Uj38vS",
        "outputId": "fa3ab44b-9640-4f37-e886-5d374694ffff"
      },
      "execution_count": 270,
      "outputs": [
        {
          "output_type": "stream",
          "name": "stdout",
          "text": [
            "Shape images train CSV: (1489, 224, 224, 3)\n",
            "Shape images valid CSV: (187, 224, 224, 3)\n",
            "Shape images test CSV:  (186, 224, 224, 3)\n"
          ]
        }
      ]
    },
    {
      "cell_type": "markdown",
      "source": [
        "## 4. Análisis de los datos (Partes extraídas de la práctica de ML)"
      ],
      "metadata": {
        "id": "mvc2TYFqBpaH"
      }
    },
    {
      "cell_type": "markdown",
      "source": [],
      "metadata": {
        "id": "rrKf57WEXlxo"
      }
    },
    {
      "cell_type": "code",
      "source": [
        "# Montamos (al ejecutarse en distintos dias el Drive)\n",
        "from google.colab import drive\n",
        "drive.mount('/content/drive')"
      ],
      "metadata": {
        "colab": {
          "base_uri": "https://localhost:8080/"
        },
        "id": "7NcfuRFiX4V5",
        "outputId": "e9ef6291-a130-4367-8e1f-9a27d16e2296"
      },
      "execution_count": 271,
      "outputs": [
        {
          "output_type": "stream",
          "name": "stdout",
          "text": [
            "Drive already mounted at /content/drive; to attempt to forcibly remount, call drive.mount(\"/content/drive\", force_remount=True).\n"
          ]
        }
      ]
    },
    {
      "cell_type": "code",
      "source": [
        "## Cargamos el dataset de train\n",
        "\n",
        "df = pd.read_csv('/content/drive/MyDrive/train_1D.csv', sep=';', decimal='.')"
      ],
      "metadata": {
        "id": "0Y1H_rjZB1sn"
      },
      "execution_count": 272,
      "outputs": []
    },
    {
      "cell_type": "code",
      "source": [
        "# Hacemos un drop de todas las columnas que OBVIAMENTE no aportan información relevante\n",
        "not_useful_columns = [\n",
        "    'ID', 'Listing Url', 'Scrape ID', 'Last Scraped', 'Thumbnail Url', 'Medium Url',\n",
        "    'Picture Url', 'XL Picture Url', 'Host ID', 'Host URL', 'Host Name',\n",
        "    'Host Thumbnail Url', 'Host Picture Url', 'Host Neighbourhood', 'Weekly Price',\n",
        "    'Monthly Price', 'Calendar Updated', 'Calendar last Scraped', 'First Review',\n",
        "    'Last Review', 'Reviews per Month', 'Geolocation', 'Calculated host listings count',\n",
        "    'Host Listings Count', 'Host Total Listings Count']\n",
        "\n",
        "df.drop(not_useful_columns, axis=1, inplace=True)"
      ],
      "metadata": {
        "id": "M33QEC1tYV8Y"
      },
      "execution_count": 273,
      "outputs": []
    },
    {
      "cell_type": "markdown",
      "source": [
        "Hay una serie de columnas que, si bien aportan mucha información, exigen un tratamiento previo que queda fuera del alcance de este trabajo. Name, summary, description... exigirían tokenización y un análisis con NLP para poder sacar algo en claro, de modo que se eliminan."
      ],
      "metadata": {
        "id": "2Wnne3qKYt2z"
      }
    },
    {
      "cell_type": "code",
      "source": [
        "# Hacemos un drop de todas las columnas que aportando información quedan fuera del scope\n",
        "NLP_columns = ['Name', 'Summary', 'Space', 'Description',\n",
        "       'Neighborhood Overview', 'Notes', 'Transit', 'Access', 'Interaction', 'House Rules',\n",
        "       'Host Location', 'Host About']\n",
        "\n",
        "df.drop(NLP_columns, axis=1, inplace=True)"
      ],
      "metadata": {
        "id": "JguMauFnYhFP"
      },
      "execution_count": 274,
      "outputs": []
    },
    {
      "cell_type": "markdown",
      "source": [
        "Analizamos los valores"
      ],
      "metadata": {
        "id": "7BQHXWqFZF0S"
      }
    },
    {
      "cell_type": "code",
      "source": [
        "df.apply(lambda x: len(x.unique()))"
      ],
      "metadata": {
        "colab": {
          "base_uri": "https://localhost:8080/"
        },
        "id": "lx5Sz3bZZAkb",
        "outputId": "f4a04f9a-a10c-4878-b517-bb1d629f457d"
      },
      "execution_count": 275,
      "outputs": [
        {
          "output_type": "execute_result",
          "data": {
            "text/plain": [
              "Experiences Offered                1\n",
              "Host Since                       916\n",
              "Host Response Time                 5\n",
              "Host Response Rate                43\n",
              "Host Acceptance Rate               1\n",
              "Host Verifications                95\n",
              "Street                           333\n",
              "Neighbourhood                     80\n",
              "Neighbourhood Cleansed           143\n",
              "Neighbourhood Group Cleansed      28\n",
              "City                              26\n",
              "State                             15\n",
              "Zipcode                           91\n",
              "Market                             5\n",
              "Smart Location                    26\n",
              "Country Code                       1\n",
              "Country                            1\n",
              "Latitude                        1489\n",
              "Longitude                       1489\n",
              "Property Type                     13\n",
              "Room Type                          3\n",
              "Accommodates                      13\n",
              "Bathrooms                         14\n",
              "Bedrooms                           8\n",
              "Beds                              13\n",
              "Bed Type                           5\n",
              "Amenities                       1427\n",
              "Square Feet                       31\n",
              "Price                            158\n",
              "Security Deposit                  46\n",
              "Cleaning Fee                      61\n",
              "Guests Included                    9\n",
              "Extra People                      35\n",
              "Minimum Nights                    17\n",
              "Maximum Nights                    68\n",
              "Has Availability                   1\n",
              "Availability 30                   31\n",
              "Availability 60                   61\n",
              "Availability 90                   91\n",
              "Availability 365                 337\n",
              "Number of Reviews                148\n",
              "Review Scores Rating              42\n",
              "Review Scores Accuracy             9\n",
              "Review Scores Cleanliness          9\n",
              "Review Scores Checkin              8\n",
              "Review Scores Communication        7\n",
              "Review Scores Location             7\n",
              "Review Scores Value                9\n",
              "License                           34\n",
              "Jurisdiction Names                 1\n",
              "Cancellation Policy                4\n",
              "Features                          36\n",
              "dtype: int64"
            ]
          },
          "metadata": {},
          "execution_count": 275
        }
      ]
    },
    {
      "cell_type": "markdown",
      "source": [
        "La variable Street no muestra realmente la calle; en muchas, simplemente es la ciudad y un código postal (variables que ya tienen su propia columna). Es una variable muy ruidosa y no categorizada.\n",
        "\n",
        "Por otro lado, State, Market y Smart Location aportan la misma información, al igual que Country y Country Code y de forma similar a Neighbourhood y Zipcode."
      ],
      "metadata": {
        "id": "YmpN1ozHZV2i"
      }
    },
    {
      "cell_type": "code",
      "source": [
        "df.drop(['Street', 'State', 'Market', 'Smart Location', 'Country', 'Zipcode'], axis=1, inplace=True)"
      ],
      "metadata": {
        "id": "WHGXHrAmZU9n"
      },
      "execution_count": 276,
      "outputs": []
    },
    {
      "cell_type": "code",
      "source": [
        "unique_values = df['City'].value_counts()\n",
        "print(unique_values)"
      ],
      "metadata": {
        "colab": {
          "base_uri": "https://localhost:8080/"
        },
        "id": "IWzA710XaE6j",
        "outputId": "870185ec-70f8-4297-daf4-e3823f9fc4ff"
      },
      "execution_count": 277,
      "outputs": [
        {
          "output_type": "stream",
          "name": "stdout",
          "text": [
            "Madrid                             1418\n",
            "Barcelona                            32\n",
            "Palma                                 6\n",
            "马德里                                   6\n",
            "Madrid, Comunidad de Madrid, ES       3\n",
            "Palma de Mallorca                     2\n",
            "Motilla del Palancar                  2\n",
            "Can Pastilla                          1\n",
            "Alcúdia                               1\n",
            "Illes Balears                         1\n",
            "Algaida                               1\n",
            "Illetes                               1\n",
            "Ventas                                1\n",
            "Cala Ratjada                          1\n",
            "Madri                                 1\n",
            "Valldemossa                           1\n",
            "Pollença                              1\n",
            "Rotes Velles                          1\n",
            "Llucmajor                             1\n",
            "Binissalem                            1\n",
            "MADRID                                1\n",
            "Sineu                                 1\n",
            "Calvià                                1\n",
            "madrid                                1\n",
            "Felanitx                              1\n",
            "Name: City, dtype: int64\n"
          ]
        }
      ]
    },
    {
      "cell_type": "markdown",
      "source": [
        "Vemos que mayoritariamente está Madrid, por lo que vamos a filtrar por esta columna y luego eliminarla. Esto Restringe nuestro análisis/Modelo a la ciudad de Madrid"
      ],
      "metadata": {
        "id": "I84oEaxTapOr"
      }
    },
    {
      "cell_type": "code",
      "source": [
        "    df = df[df['City'] == 'Madrid']\n",
        "    df.drop(['City'], axis=1, inplace=True)"
      ],
      "metadata": {
        "colab": {
          "base_uri": "https://localhost:8080/"
        },
        "id": "NBlboelraaOM",
        "outputId": "6ec260bb-3a90-440c-e245-88d6f3fc3d1d"
      },
      "execution_count": 278,
      "outputs": [
        {
          "output_type": "stream",
          "name": "stderr",
          "text": [
            "<ipython-input-278-89d84624a772>:2: SettingWithCopyWarning: \n",
            "A value is trying to be set on a copy of a slice from a DataFrame\n",
            "\n",
            "See the caveats in the documentation: https://pandas.pydata.org/pandas-docs/stable/user_guide/indexing.html#returning-a-view-versus-a-copy\n",
            "  df.drop(['City'], axis=1, inplace=True)\n"
          ]
        }
      ]
    },
    {
      "cell_type": "code",
      "source": [
        "df.head()"
      ],
      "metadata": {
        "colab": {
          "base_uri": "https://localhost:8080/",
          "height": 550
        },
        "id": "gmMn4zDAa_mK",
        "outputId": "5635d961-2b2f-45a4-fdcc-3e7af6683cde"
      },
      "execution_count": 279,
      "outputs": [
        {
          "output_type": "execute_result",
          "data": {
            "text/plain": [
              "  Experiences Offered  Host Since Host Response Time  Host Response Rate  \\\n",
              "0                none  2016-04-26     within an hour               100.0   \n",
              "1                none  2016-03-30                NaN                 NaN   \n",
              "2                none  2015-06-11     within an hour                92.0   \n",
              "3                none  2014-01-01     within an hour               100.0   \n",
              "4                none  2014-01-16                NaN                 NaN   \n",
              "\n",
              "   Host Acceptance Rate                                 Host Verifications  \\\n",
              "0                   NaN                     email,phone,reviews,work_email   \n",
              "1                   NaN  email,phone,facebook,jumio,government_id,work_...   \n",
              "2                   NaN  email,phone,reviews,jumio,offline_government_i...   \n",
              "3                   NaN               email,phone,reviews,jumio,work_email   \n",
              "4                   NaN                          email,phone,reviews,jumio   \n",
              "\n",
              "  Neighbourhood Neighbourhood Cleansed Neighbourhood Group Cleansed  \\\n",
              "0           Sol                    Sol                       Centro   \n",
              "1           NaN            Embajadores                       Centro   \n",
              "2           NaN               Arapiles                     Chamberí   \n",
              "3           Sol                Palacio                       Centro   \n",
              "4     La Latina                Palacio                       Centro   \n",
              "\n",
              "  Country Code  ...  Review Scores Accuracy  Review Scores Cleanliness  \\\n",
              "0           ES  ...                     NaN                        NaN   \n",
              "1           ES  ...                     NaN                        NaN   \n",
              "2           ES  ...                     9.0                        8.0   \n",
              "3           ES  ...                    10.0                        9.0   \n",
              "4           ES  ...                     9.0                       10.0   \n",
              "\n",
              "  Review Scores Checkin Review Scores Communication  Review Scores Location  \\\n",
              "0                   NaN                         NaN                     NaN   \n",
              "1                   NaN                         NaN                     NaN   \n",
              "2                   9.0                         9.0                     9.0   \n",
              "3                  10.0                        10.0                    10.0   \n",
              "4                  10.0                        10.0                    10.0   \n",
              "\n",
              "   Review Scores Value  License  Jurisdiction Names Cancellation Policy  \\\n",
              "0                  NaN      NaN                 NaN              strict   \n",
              "1                  NaN      NaN                 NaN              strict   \n",
              "2                  8.0      NaN                 NaN              strict   \n",
              "3                  9.0      NaN                 NaN              strict   \n",
              "4                  9.0      NaN                 NaN              strict   \n",
              "\n",
              "                                            Features  \n",
              "0  Host Has Profile Pic,Is Location Exact,Require...  \n",
              "1  Host Has Profile Pic,Host Identity Verified,Re...  \n",
              "2  Host Has Profile Pic,Host Identity Verified,Re...  \n",
              "3  Host Has Profile Pic,Host Identity Verified,Is...  \n",
              "4  Host Has Profile Pic,Host Identity Verified,Is...  \n",
              "\n",
              "[5 rows x 45 columns]"
            ],
            "text/html": [
              "\n",
              "  <div id=\"df-e3dc6e37-ac48-4415-8415-c2a5ac6d2069\" class=\"colab-df-container\">\n",
              "    <div>\n",
              "<style scoped>\n",
              "    .dataframe tbody tr th:only-of-type {\n",
              "        vertical-align: middle;\n",
              "    }\n",
              "\n",
              "    .dataframe tbody tr th {\n",
              "        vertical-align: top;\n",
              "    }\n",
              "\n",
              "    .dataframe thead th {\n",
              "        text-align: right;\n",
              "    }\n",
              "</style>\n",
              "<table border=\"1\" class=\"dataframe\">\n",
              "  <thead>\n",
              "    <tr style=\"text-align: right;\">\n",
              "      <th></th>\n",
              "      <th>Experiences Offered</th>\n",
              "      <th>Host Since</th>\n",
              "      <th>Host Response Time</th>\n",
              "      <th>Host Response Rate</th>\n",
              "      <th>Host Acceptance Rate</th>\n",
              "      <th>Host Verifications</th>\n",
              "      <th>Neighbourhood</th>\n",
              "      <th>Neighbourhood Cleansed</th>\n",
              "      <th>Neighbourhood Group Cleansed</th>\n",
              "      <th>Country Code</th>\n",
              "      <th>...</th>\n",
              "      <th>Review Scores Accuracy</th>\n",
              "      <th>Review Scores Cleanliness</th>\n",
              "      <th>Review Scores Checkin</th>\n",
              "      <th>Review Scores Communication</th>\n",
              "      <th>Review Scores Location</th>\n",
              "      <th>Review Scores Value</th>\n",
              "      <th>License</th>\n",
              "      <th>Jurisdiction Names</th>\n",
              "      <th>Cancellation Policy</th>\n",
              "      <th>Features</th>\n",
              "    </tr>\n",
              "  </thead>\n",
              "  <tbody>\n",
              "    <tr>\n",
              "      <th>0</th>\n",
              "      <td>none</td>\n",
              "      <td>2016-04-26</td>\n",
              "      <td>within an hour</td>\n",
              "      <td>100.0</td>\n",
              "      <td>NaN</td>\n",
              "      <td>email,phone,reviews,work_email</td>\n",
              "      <td>Sol</td>\n",
              "      <td>Sol</td>\n",
              "      <td>Centro</td>\n",
              "      <td>ES</td>\n",
              "      <td>...</td>\n",
              "      <td>NaN</td>\n",
              "      <td>NaN</td>\n",
              "      <td>NaN</td>\n",
              "      <td>NaN</td>\n",
              "      <td>NaN</td>\n",
              "      <td>NaN</td>\n",
              "      <td>NaN</td>\n",
              "      <td>NaN</td>\n",
              "      <td>strict</td>\n",
              "      <td>Host Has Profile Pic,Is Location Exact,Require...</td>\n",
              "    </tr>\n",
              "    <tr>\n",
              "      <th>1</th>\n",
              "      <td>none</td>\n",
              "      <td>2016-03-30</td>\n",
              "      <td>NaN</td>\n",
              "      <td>NaN</td>\n",
              "      <td>NaN</td>\n",
              "      <td>email,phone,facebook,jumio,government_id,work_...</td>\n",
              "      <td>NaN</td>\n",
              "      <td>Embajadores</td>\n",
              "      <td>Centro</td>\n",
              "      <td>ES</td>\n",
              "      <td>...</td>\n",
              "      <td>NaN</td>\n",
              "      <td>NaN</td>\n",
              "      <td>NaN</td>\n",
              "      <td>NaN</td>\n",
              "      <td>NaN</td>\n",
              "      <td>NaN</td>\n",
              "      <td>NaN</td>\n",
              "      <td>NaN</td>\n",
              "      <td>strict</td>\n",
              "      <td>Host Has Profile Pic,Host Identity Verified,Re...</td>\n",
              "    </tr>\n",
              "    <tr>\n",
              "      <th>2</th>\n",
              "      <td>none</td>\n",
              "      <td>2015-06-11</td>\n",
              "      <td>within an hour</td>\n",
              "      <td>92.0</td>\n",
              "      <td>NaN</td>\n",
              "      <td>email,phone,reviews,jumio,offline_government_i...</td>\n",
              "      <td>NaN</td>\n",
              "      <td>Arapiles</td>\n",
              "      <td>Chamberí</td>\n",
              "      <td>ES</td>\n",
              "      <td>...</td>\n",
              "      <td>9.0</td>\n",
              "      <td>8.0</td>\n",
              "      <td>9.0</td>\n",
              "      <td>9.0</td>\n",
              "      <td>9.0</td>\n",
              "      <td>8.0</td>\n",
              "      <td>NaN</td>\n",
              "      <td>NaN</td>\n",
              "      <td>strict</td>\n",
              "      <td>Host Has Profile Pic,Host Identity Verified,Re...</td>\n",
              "    </tr>\n",
              "    <tr>\n",
              "      <th>3</th>\n",
              "      <td>none</td>\n",
              "      <td>2014-01-01</td>\n",
              "      <td>within an hour</td>\n",
              "      <td>100.0</td>\n",
              "      <td>NaN</td>\n",
              "      <td>email,phone,reviews,jumio,work_email</td>\n",
              "      <td>Sol</td>\n",
              "      <td>Palacio</td>\n",
              "      <td>Centro</td>\n",
              "      <td>ES</td>\n",
              "      <td>...</td>\n",
              "      <td>10.0</td>\n",
              "      <td>9.0</td>\n",
              "      <td>10.0</td>\n",
              "      <td>10.0</td>\n",
              "      <td>10.0</td>\n",
              "      <td>9.0</td>\n",
              "      <td>NaN</td>\n",
              "      <td>NaN</td>\n",
              "      <td>strict</td>\n",
              "      <td>Host Has Profile Pic,Host Identity Verified,Is...</td>\n",
              "    </tr>\n",
              "    <tr>\n",
              "      <th>4</th>\n",
              "      <td>none</td>\n",
              "      <td>2014-01-16</td>\n",
              "      <td>NaN</td>\n",
              "      <td>NaN</td>\n",
              "      <td>NaN</td>\n",
              "      <td>email,phone,reviews,jumio</td>\n",
              "      <td>La Latina</td>\n",
              "      <td>Palacio</td>\n",
              "      <td>Centro</td>\n",
              "      <td>ES</td>\n",
              "      <td>...</td>\n",
              "      <td>9.0</td>\n",
              "      <td>10.0</td>\n",
              "      <td>10.0</td>\n",
              "      <td>10.0</td>\n",
              "      <td>10.0</td>\n",
              "      <td>9.0</td>\n",
              "      <td>NaN</td>\n",
              "      <td>NaN</td>\n",
              "      <td>strict</td>\n",
              "      <td>Host Has Profile Pic,Host Identity Verified,Is...</td>\n",
              "    </tr>\n",
              "  </tbody>\n",
              "</table>\n",
              "<p>5 rows × 45 columns</p>\n",
              "</div>\n",
              "    <div class=\"colab-df-buttons\">\n",
              "\n",
              "  <div class=\"colab-df-container\">\n",
              "    <button class=\"colab-df-convert\" onclick=\"convertToInteractive('df-e3dc6e37-ac48-4415-8415-c2a5ac6d2069')\"\n",
              "            title=\"Convert this dataframe to an interactive table.\"\n",
              "            style=\"display:none;\">\n",
              "\n",
              "  <svg xmlns=\"http://www.w3.org/2000/svg\" height=\"24px\" viewBox=\"0 -960 960 960\">\n",
              "    <path d=\"M120-120v-720h720v720H120Zm60-500h600v-160H180v160Zm220 220h160v-160H400v160Zm0 220h160v-160H400v160ZM180-400h160v-160H180v160Zm440 0h160v-160H620v160ZM180-180h160v-160H180v160Zm440 0h160v-160H620v160Z\"/>\n",
              "  </svg>\n",
              "    </button>\n",
              "\n",
              "  <style>\n",
              "    .colab-df-container {\n",
              "      display:flex;\n",
              "      gap: 12px;\n",
              "    }\n",
              "\n",
              "    .colab-df-convert {\n",
              "      background-color: #E8F0FE;\n",
              "      border: none;\n",
              "      border-radius: 50%;\n",
              "      cursor: pointer;\n",
              "      display: none;\n",
              "      fill: #1967D2;\n",
              "      height: 32px;\n",
              "      padding: 0 0 0 0;\n",
              "      width: 32px;\n",
              "    }\n",
              "\n",
              "    .colab-df-convert:hover {\n",
              "      background-color: #E2EBFA;\n",
              "      box-shadow: 0px 1px 2px rgba(60, 64, 67, 0.3), 0px 1px 3px 1px rgba(60, 64, 67, 0.15);\n",
              "      fill: #174EA6;\n",
              "    }\n",
              "\n",
              "    .colab-df-buttons div {\n",
              "      margin-bottom: 4px;\n",
              "    }\n",
              "\n",
              "    [theme=dark] .colab-df-convert {\n",
              "      background-color: #3B4455;\n",
              "      fill: #D2E3FC;\n",
              "    }\n",
              "\n",
              "    [theme=dark] .colab-df-convert:hover {\n",
              "      background-color: #434B5C;\n",
              "      box-shadow: 0px 1px 3px 1px rgba(0, 0, 0, 0.15);\n",
              "      filter: drop-shadow(0px 1px 2px rgba(0, 0, 0, 0.3));\n",
              "      fill: #FFFFFF;\n",
              "    }\n",
              "  </style>\n",
              "\n",
              "    <script>\n",
              "      const buttonEl =\n",
              "        document.querySelector('#df-e3dc6e37-ac48-4415-8415-c2a5ac6d2069 button.colab-df-convert');\n",
              "      buttonEl.style.display =\n",
              "        google.colab.kernel.accessAllowed ? 'block' : 'none';\n",
              "\n",
              "      async function convertToInteractive(key) {\n",
              "        const element = document.querySelector('#df-e3dc6e37-ac48-4415-8415-c2a5ac6d2069');\n",
              "        const dataTable =\n",
              "          await google.colab.kernel.invokeFunction('convertToInteractive',\n",
              "                                                    [key], {});\n",
              "        if (!dataTable) return;\n",
              "\n",
              "        const docLinkHtml = 'Like what you see? Visit the ' +\n",
              "          '<a target=\"_blank\" href=https://colab.research.google.com/notebooks/data_table.ipynb>data table notebook</a>'\n",
              "          + ' to learn more about interactive tables.';\n",
              "        element.innerHTML = '';\n",
              "        dataTable['output_type'] = 'display_data';\n",
              "        await google.colab.output.renderOutput(dataTable, element);\n",
              "        const docLink = document.createElement('div');\n",
              "        docLink.innerHTML = docLinkHtml;\n",
              "        element.appendChild(docLink);\n",
              "      }\n",
              "    </script>\n",
              "  </div>\n",
              "\n",
              "\n",
              "<div id=\"df-99789193-fc89-4d57-820c-a298b497c73c\">\n",
              "  <button class=\"colab-df-quickchart\" onclick=\"quickchart('df-99789193-fc89-4d57-820c-a298b497c73c')\"\n",
              "            title=\"Suggest charts\"\n",
              "            style=\"display:none;\">\n",
              "\n",
              "<svg xmlns=\"http://www.w3.org/2000/svg\" height=\"24px\"viewBox=\"0 0 24 24\"\n",
              "     width=\"24px\">\n",
              "    <g>\n",
              "        <path d=\"M19 3H5c-1.1 0-2 .9-2 2v14c0 1.1.9 2 2 2h14c1.1 0 2-.9 2-2V5c0-1.1-.9-2-2-2zM9 17H7v-7h2v7zm4 0h-2V7h2v10zm4 0h-2v-4h2v4z\"/>\n",
              "    </g>\n",
              "</svg>\n",
              "  </button>\n",
              "\n",
              "<style>\n",
              "  .colab-df-quickchart {\n",
              "      --bg-color: #E8F0FE;\n",
              "      --fill-color: #1967D2;\n",
              "      --hover-bg-color: #E2EBFA;\n",
              "      --hover-fill-color: #174EA6;\n",
              "      --disabled-fill-color: #AAA;\n",
              "      --disabled-bg-color: #DDD;\n",
              "  }\n",
              "\n",
              "  [theme=dark] .colab-df-quickchart {\n",
              "      --bg-color: #3B4455;\n",
              "      --fill-color: #D2E3FC;\n",
              "      --hover-bg-color: #434B5C;\n",
              "      --hover-fill-color: #FFFFFF;\n",
              "      --disabled-bg-color: #3B4455;\n",
              "      --disabled-fill-color: #666;\n",
              "  }\n",
              "\n",
              "  .colab-df-quickchart {\n",
              "    background-color: var(--bg-color);\n",
              "    border: none;\n",
              "    border-radius: 50%;\n",
              "    cursor: pointer;\n",
              "    display: none;\n",
              "    fill: var(--fill-color);\n",
              "    height: 32px;\n",
              "    padding: 0;\n",
              "    width: 32px;\n",
              "  }\n",
              "\n",
              "  .colab-df-quickchart:hover {\n",
              "    background-color: var(--hover-bg-color);\n",
              "    box-shadow: 0 1px 2px rgba(60, 64, 67, 0.3), 0 1px 3px 1px rgba(60, 64, 67, 0.15);\n",
              "    fill: var(--button-hover-fill-color);\n",
              "  }\n",
              "\n",
              "  .colab-df-quickchart-complete:disabled,\n",
              "  .colab-df-quickchart-complete:disabled:hover {\n",
              "    background-color: var(--disabled-bg-color);\n",
              "    fill: var(--disabled-fill-color);\n",
              "    box-shadow: none;\n",
              "  }\n",
              "\n",
              "  .colab-df-spinner {\n",
              "    border: 2px solid var(--fill-color);\n",
              "    border-color: transparent;\n",
              "    border-bottom-color: var(--fill-color);\n",
              "    animation:\n",
              "      spin 1s steps(1) infinite;\n",
              "  }\n",
              "\n",
              "  @keyframes spin {\n",
              "    0% {\n",
              "      border-color: transparent;\n",
              "      border-bottom-color: var(--fill-color);\n",
              "      border-left-color: var(--fill-color);\n",
              "    }\n",
              "    20% {\n",
              "      border-color: transparent;\n",
              "      border-left-color: var(--fill-color);\n",
              "      border-top-color: var(--fill-color);\n",
              "    }\n",
              "    30% {\n",
              "      border-color: transparent;\n",
              "      border-left-color: var(--fill-color);\n",
              "      border-top-color: var(--fill-color);\n",
              "      border-right-color: var(--fill-color);\n",
              "    }\n",
              "    40% {\n",
              "      border-color: transparent;\n",
              "      border-right-color: var(--fill-color);\n",
              "      border-top-color: var(--fill-color);\n",
              "    }\n",
              "    60% {\n",
              "      border-color: transparent;\n",
              "      border-right-color: var(--fill-color);\n",
              "    }\n",
              "    80% {\n",
              "      border-color: transparent;\n",
              "      border-right-color: var(--fill-color);\n",
              "      border-bottom-color: var(--fill-color);\n",
              "    }\n",
              "    90% {\n",
              "      border-color: transparent;\n",
              "      border-bottom-color: var(--fill-color);\n",
              "    }\n",
              "  }\n",
              "</style>\n",
              "\n",
              "  <script>\n",
              "    async function quickchart(key) {\n",
              "      const quickchartButtonEl =\n",
              "        document.querySelector('#' + key + ' button');\n",
              "      quickchartButtonEl.disabled = true;  // To prevent multiple clicks.\n",
              "      quickchartButtonEl.classList.add('colab-df-spinner');\n",
              "      try {\n",
              "        const charts = await google.colab.kernel.invokeFunction(\n",
              "            'suggestCharts', [key], {});\n",
              "      } catch (error) {\n",
              "        console.error('Error during call to suggestCharts:', error);\n",
              "      }\n",
              "      quickchartButtonEl.classList.remove('colab-df-spinner');\n",
              "      quickchartButtonEl.classList.add('colab-df-quickchart-complete');\n",
              "    }\n",
              "    (() => {\n",
              "      let quickchartButtonEl =\n",
              "        document.querySelector('#df-99789193-fc89-4d57-820c-a298b497c73c button');\n",
              "      quickchartButtonEl.style.display =\n",
              "        google.colab.kernel.accessAllowed ? 'block' : 'none';\n",
              "    })();\n",
              "  </script>\n",
              "</div>\n",
              "    </div>\n",
              "  </div>\n"
            ],
            "application/vnd.google.colaboratory.intrinsic+json": {
              "type": "dataframe",
              "variable_name": "df"
            }
          },
          "metadata": {},
          "execution_count": 279
        }
      ]
    },
    {
      "cell_type": "markdown",
      "source": [
        "Por último se comprueba qué variables tienen muchos valores missing (NaN or null). Hay columnas en las que apenas hay datos"
      ],
      "metadata": {
        "id": "HULTVObbbeUw"
      }
    },
    {
      "cell_type": "code",
      "source": [
        "print(f'El dataframe tiene un total de {len(df)} filas.')\n",
        "len(df) - df.count() # vemos cuántos valores NaN hay por columna"
      ],
      "metadata": {
        "colab": {
          "base_uri": "https://localhost:8080/"
        },
        "id": "lzWg90wqbngS",
        "outputId": "5b15380c-e1ad-44b5-d1cb-b9ca44f392ed"
      },
      "execution_count": 280,
      "outputs": [
        {
          "output_type": "stream",
          "name": "stdout",
          "text": [
            "El dataframe tiene un total de 1418 filas.\n"
          ]
        },
        {
          "output_type": "execute_result",
          "data": {
            "text/plain": [
              "Experiences Offered                0\n",
              "Host Since                         0\n",
              "Host Response Time               198\n",
              "Host Response Rate               198\n",
              "Host Acceptance Rate            1418\n",
              "Host Verifications                 0\n",
              "Neighbourhood                    500\n",
              "Neighbourhood Cleansed             0\n",
              "Neighbourhood Group Cleansed       0\n",
              "Country Code                       0\n",
              "Latitude                           0\n",
              "Longitude                          0\n",
              "Property Type                      0\n",
              "Room Type                          0\n",
              "Accommodates                       0\n",
              "Bathrooms                          5\n",
              "Bedrooms                           7\n",
              "Beds                               5\n",
              "Bed Type                           0\n",
              "Amenities                          8\n",
              "Square Feet                     1362\n",
              "Price                              0\n",
              "Security Deposit                 822\n",
              "Cleaning Fee                     578\n",
              "Guests Included                    0\n",
              "Extra People                       0\n",
              "Minimum Nights                     0\n",
              "Maximum Nights                     0\n",
              "Has Availability                1418\n",
              "Availability 30                    0\n",
              "Availability 60                    0\n",
              "Availability 90                    0\n",
              "Availability 365                   0\n",
              "Number of Reviews                  0\n",
              "Review Scores Rating             298\n",
              "Review Scores Accuracy           299\n",
              "Review Scores Cleanliness        299\n",
              "Review Scores Checkin            301\n",
              "Review Scores Communication      300\n",
              "Review Scores Location           301\n",
              "Review Scores Value              301\n",
              "License                         1391\n",
              "Jurisdiction Names              1418\n",
              "Cancellation Policy                0\n",
              "Features                           0\n",
              "dtype: int64"
            ]
          },
          "metadata": {},
          "execution_count": 280
        }
      ]
    },
    {
      "cell_type": "code",
      "source": [
        "NaN_values = [\n",
        "    'Host Acceptance Rate', 'Square Feet', 'Has Availability', 'License', 'Jurisdiction Names'\n",
        "]\n",
        "df.drop(NaN_values, axis=1, inplace=True)"
      ],
      "metadata": {
        "id": "wNxPU4r7bVKT",
        "colab": {
          "base_uri": "https://localhost:8080/"
        },
        "outputId": "ffefce06-7c36-479b-f09a-5d5308e7ad40"
      },
      "execution_count": 281,
      "outputs": [
        {
          "output_type": "stream",
          "name": "stderr",
          "text": [
            "<ipython-input-281-91a79a6a943e>:4: SettingWithCopyWarning: \n",
            "A value is trying to be set on a copy of a slice from a DataFrame\n",
            "\n",
            "See the caveats in the documentation: https://pandas.pydata.org/pandas-docs/stable/user_guide/indexing.html#returning-a-view-versus-a-copy\n",
            "  df.drop(NaN_values, axis=1, inplace=True)\n"
          ]
        }
      ]
    },
    {
      "cell_type": "markdown",
      "source": [
        "Analizamos su hay variables redundantes"
      ],
      "metadata": {
        "id": "cfvdbZ7cb1-d"
      }
    },
    {
      "cell_type": "code",
      "source": [
        "import seaborn as sns\n",
        "import matplotlib.pyplot as plt\n",
        "import numpy as np\n",
        "\n",
        "# Compute the correlation matrix\n",
        "corr = np.abs(df.drop(['Price'], axis=1).corr())\n",
        "\n",
        "# Genera una máscara para la parte inferior de la matriz\n",
        "mask = np.triu(corr)\n",
        "\n",
        "# Configura la figura de matplotlib\n",
        "f, ax = plt.subplots(figsize=(12, 10))\n",
        "\n",
        "# Dibuja el mapa de calor con la máscara y la relación de aspecto correcta\n",
        "sns.heatmap(corr, mask=mask, vmin=0.0, vmax=1.0, center=0.5,\n",
        "            linewidths=0.1, cmap=\"YlGnBu\", cbar_kws={\"shrink\": 0.8})\n",
        "\n",
        "plt.show()\n",
        "\n",
        "# puedo representar solo la parte inferior ya que es simétrica"
      ],
      "metadata": {
        "colab": {
          "base_uri": "https://localhost:8080/",
          "height": 1000
        },
        "id": "2ZeEr-vPb8dP",
        "outputId": "a581c211-9233-4910-c18f-32551f8c74d0"
      },
      "execution_count": 282,
      "outputs": [
        {
          "output_type": "stream",
          "name": "stderr",
          "text": [
            "<ipython-input-282-8d6d43de3fe5>:6: FutureWarning: The default value of numeric_only in DataFrame.corr is deprecated. In a future version, it will default to False. Select only valid columns or specify the value of numeric_only to silence this warning.\n",
            "  corr = np.abs(df.drop(['Price'], axis=1).corr())\n"
          ]
        },
        {
          "output_type": "display_data",
          "data": {
            "text/plain": [
              "<Figure size 1200x1000 with 2 Axes>"
            ],
            "image/png": "[encoded data removed]"
          },
          "metadata": {}
        }
      ]
    },
    {
      "cell_type": "markdown",
      "source": [
        "Vemos que hay mucha correlación entre las variables de availability y las de reviews. Podemos eliminar todas las availability salvo 365 y hacer una media de las de review; he decidido hacer media porque son reviews. Eliminamos también Accommodates que tiene correlación alta con Beds."
      ],
      "metadata": {
        "id": "Zd44mwY-c-aP"
      }
    },
    {
      "cell_type": "code",
      "source": [
        "reviews = df.loc[: , \"Review Scores Rating\":\"Review Scores Value\"]\n",
        "df['Average Review'] = reviews.mean(axis=1)\n",
        "\n",
        "df.drop(['Availability 30', 'Availability 60', 'Availability 90', 'Review Scores Rating',\n",
        "         'Review Scores Accuracy', 'Review Scores Cleanliness', 'Review Scores Checkin',\n",
        "       'Review Scores Communication', 'Review Scores Location', 'Review Scores Value',\n",
        "        'Accommodates'], axis=1, inplace=True)"
      ],
      "metadata": {
        "id": "aM8Xekh1dHmK"
      },
      "execution_count": 283,
      "outputs": []
    },
    {
      "cell_type": "code",
      "source": [
        "# Compute the correlation matrix\n",
        "corr = np.abs(df.drop(['Price'], axis=1).corr())\n",
        "\n",
        "# Genera una máscara para la parte inferior de la matriz\n",
        "mask = np.triu(corr)\n",
        "\n",
        "# Configura la figura de matplotlib\n",
        "f, ax = plt.subplots(figsize=(12, 10))\n",
        "\n",
        "# Dibuja el mapa de calor con la máscara y la relación de aspecto correcta\n",
        "sns.heatmap(corr, mask=mask, vmin=0.0, vmax=1.0, center=0.5,\n",
        "            linewidths=0.1, cmap=\"YlGnBu\", cbar_kws={\"shrink\": 0.8})\n",
        "\n",
        "plt.show()"
      ],
      "metadata": {
        "colab": {
          "base_uri": "https://localhost:8080/",
          "height": 1000
        },
        "id": "VpPrguUzdKig",
        "outputId": "6e181c75-f8d4-4739-d6b2-fc940022ffef"
      },
      "execution_count": 284,
      "outputs": [
        {
          "output_type": "stream",
          "name": "stderr",
          "text": [
            "<ipython-input-284-458d050a02e3>:2: FutureWarning: The default value of numeric_only in DataFrame.corr is deprecated. In a future version, it will default to False. Select only valid columns or specify the value of numeric_only to silence this warning.\n",
            "  corr = np.abs(df.drop(['Price'], axis=1).corr())\n"
          ]
        },
        {
          "output_type": "display_data",
          "data": {
            "text/plain": [
              "<Figure size 1200x1000 with 2 Axes>"
            ],
            "image/png": "[encoded data removed]"
          },
          "metadata": {}
        }
      ]
    },
    {
      "cell_type": "code",
      "source": [
        "df.describe().T"
      ],
      "metadata": {
        "colab": {
          "base_uri": "https://localhost:8080/",
          "height": 551
        },
        "id": "GHZ1Zh_cdwj3",
        "outputId": "e5c5e61d-8556-4950-d545-5301580f6f9c"
      },
      "execution_count": 285,
      "outputs": [
        {
          "output_type": "execute_result",
          "data": {
            "text/plain": [
              "                     count        mean          std        min         25%  \\\n",
              "Host Response Rate  1220.0   95.910656    13.090687   0.000000  100.000000   \n",
              "Latitude            1418.0   40.420620     0.021312  40.340953   40.409652   \n",
              "Longitude           1418.0   -3.696849     0.024876  -3.784862   -3.708740   \n",
              "Bathrooms           1413.0    1.255131     0.633840   0.000000    1.000000   \n",
              "Bedrooms            1411.0    1.254429     0.754025   0.000000    1.000000   \n",
              "Beds                1413.0    1.914367     1.510267   1.000000    1.000000   \n",
              "Price               1418.0   59.540903    45.669026  10.000000   30.000000   \n",
              "Security Deposit     596.0  175.535235    99.705400  70.000000  100.000000   \n",
              "Cleaning Fee         840.0   26.647619    18.143373   5.000000   15.000000   \n",
              "Guests Included     1418.0    1.524683     0.973044   1.000000    1.000000   \n",
              "Extra People        1418.0    6.748942     8.401978   0.000000    0.000000   \n",
              "Minimum Nights      1418.0    2.571932     2.518970   1.000000    1.000000   \n",
              "Maximum Nights      1418.0  934.618477  2794.395846   1.000000  365.000000   \n",
              "Availability 365    1418.0  196.646685   129.205733   0.000000   69.000000   \n",
              "Number of Reviews   1418.0   23.239069    37.408198   0.000000    1.000000   \n",
              "Average Review      1120.0   21.275468     2.035948   8.857143   20.571429   \n",
              "\n",
              "                            50%          75%           max  \n",
              "Host Response Rate   100.000000   100.000000    100.000000  \n",
              "Latitude              40.418146    40.428800     40.507500  \n",
              "Longitude             -3.701850    -3.693171     -3.575571  \n",
              "Bathrooms              1.000000     1.000000      8.000000  \n",
              "Bedrooms               1.000000     1.000000     10.000000  \n",
              "Beds                   1.000000     2.000000     16.000000  \n",
              "Price                 50.000000    75.000000    595.000000  \n",
              "Security Deposit     150.000000   200.000000    900.000000  \n",
              "Cleaning Fee          25.000000    30.000000    140.000000  \n",
              "Guests Included        1.000000     2.000000     10.000000  \n",
              "Extra People           0.000000    12.000000     60.000000  \n",
              "Minimum Nights         2.000000     3.000000     26.000000  \n",
              "Maximum Nights      1125.000000  1125.000000  99999.000000  \n",
              "Availability 365     229.500000   316.000000    365.000000  \n",
              "Number of Reviews      8.000000    28.000000    296.000000  \n",
              "Average Review        21.714286    22.428571     54.000000  "
            ],
            "text/html": [
              "\n",
              "  <div id=\"df-08e5c937-da20-41cc-af5a-9a1289cfe25d\" class=\"colab-df-container\">\n",
              "    <div>\n",
              "<style scoped>\n",
              "    .dataframe tbody tr th:only-of-type {\n",
              "        vertical-align: middle;\n",
              "    }\n",
              "\n",
              "    .dataframe tbody tr th {\n",
              "        vertical-align: top;\n",
              "    }\n",
              "\n",
              "    .dataframe thead th {\n",
              "        text-align: right;\n",
              "    }\n",
              "</style>\n",
              "<table border=\"1\" class=\"dataframe\">\n",
              "  <thead>\n",
              "    <tr style=\"text-align: right;\">\n",
              "      <th></th>\n",
              "      <th>count</th>\n",
              "      <th>mean</th>\n",
              "      <th>std</th>\n",
              "      <th>min</th>\n",
              "      <th>25%</th>\n",
              "      <th>50%</th>\n",
              "      <th>75%</th>\n",
              "      <th>max</th>\n",
              "    </tr>\n",
              "  </thead>\n",
              "  <tbody>\n",
              "    <tr>\n",
              "      <th>Host Response Rate</th>\n",
              "      <td>1220.0</td>\n",
              "      <td>95.910656</td>\n",
              "      <td>13.090687</td>\n",
              "      <td>0.000000</td>\n",
              "      <td>100.000000</td>\n",
              "      <td>100.000000</td>\n",
              "      <td>100.000000</td>\n",
              "      <td>100.000000</td>\n",
              "    </tr>\n",
              "    <tr>\n",
              "      <th>Latitude</th>\n",
              "      <td>1418.0</td>\n",
              "      <td>40.420620</td>\n",
              "      <td>0.021312</td>\n",
              "      <td>40.340953</td>\n",
              "      <td>40.409652</td>\n",
              "      <td>40.418146</td>\n",
              "      <td>40.428800</td>\n",
              "      <td>40.507500</td>\n",
              "    </tr>\n",
              "    <tr>\n",
              "      <th>Longitude</th>\n",
              "      <td>1418.0</td>\n",
              "      <td>-3.696849</td>\n",
              "      <td>0.024876</td>\n",
              "      <td>-3.784862</td>\n",
              "      <td>-3.708740</td>\n",
              "      <td>-3.701850</td>\n",
              "      <td>-3.693171</td>\n",
              "      <td>-3.575571</td>\n",
              "    </tr>\n",
              "    <tr>\n",
              "      <th>Bathrooms</th>\n",
              "      <td>1413.0</td>\n",
              "      <td>1.255131</td>\n",
              "      <td>0.633840</td>\n",
              "      <td>0.000000</td>\n",
              "      <td>1.000000</td>\n",
              "      <td>1.000000</td>\n",
              "      <td>1.000000</td>\n",
              "      <td>8.000000</td>\n",
              "    </tr>\n",
              "    <tr>\n",
              "      <th>Bedrooms</th>\n",
              "      <td>1411.0</td>\n",
              "      <td>1.254429</td>\n",
              "      <td>0.754025</td>\n",
              "      <td>0.000000</td>\n",
              "      <td>1.000000</td>\n",
              "      <td>1.000000</td>\n",
              "      <td>1.000000</td>\n",
              "      <td>10.000000</td>\n",
              "    </tr>\n",
              "    <tr>\n",
              "      <th>Beds</th>\n",
              "      <td>1413.0</td>\n",
              "      <td>1.914367</td>\n",
              "      <td>1.510267</td>\n",
              "      <td>1.000000</td>\n",
              "      <td>1.000000</td>\n",
              "      <td>1.000000</td>\n",
              "      <td>2.000000</td>\n",
              "      <td>16.000000</td>\n",
              "    </tr>\n",
              "    <tr>\n",
              "      <th>Price</th>\n",
              "      <td>1418.0</td>\n",
              "      <td>59.540903</td>\n",
              "      <td>45.669026</td>\n",
              "      <td>10.000000</td>\n",
              "      <td>30.000000</td>\n",
              "      <td>50.000000</td>\n",
              "      <td>75.000000</td>\n",
              "      <td>595.000000</td>\n",
              "    </tr>\n",
              "    <tr>\n",
              "      <th>Security Deposit</th>\n",
              "      <td>596.0</td>\n",
              "      <td>175.535235</td>\n",
              "      <td>99.705400</td>\n",
              "      <td>70.000000</td>\n",
              "      <td>100.000000</td>\n",
              "      <td>150.000000</td>\n",
              "      <td>200.000000</td>\n",
              "      <td>900.000000</td>\n",
              "    </tr>\n",
              "    <tr>\n",
              "      <th>Cleaning Fee</th>\n",
              "      <td>840.0</td>\n",
              "      <td>26.647619</td>\n",
              "      <td>18.143373</td>\n",
              "      <td>5.000000</td>\n",
              "      <td>15.000000</td>\n",
              "      <td>25.000000</td>\n",
              "      <td>30.000000</td>\n",
              "      <td>140.000000</td>\n",
              "    </tr>\n",
              "    <tr>\n",
              "      <th>Guests Included</th>\n",
              "      <td>1418.0</td>\n",
              "      <td>1.524683</td>\n",
              "      <td>0.973044</td>\n",
              "      <td>1.000000</td>\n",
              "      <td>1.000000</td>\n",
              "      <td>1.000000</td>\n",
              "      <td>2.000000</td>\n",
              "      <td>10.000000</td>\n",
              "    </tr>\n",
              "    <tr>\n",
              "      <th>Extra People</th>\n",
              "      <td>1418.0</td>\n",
              "      <td>6.748942</td>\n",
              "      <td>8.401978</td>\n",
              "      <td>0.000000</td>\n",
              "      <td>0.000000</td>\n",
              "      <td>0.000000</td>\n",
              "      <td>12.000000</td>\n",
              "      <td>60.000000</td>\n",
              "    </tr>\n",
              "    <tr>\n",
              "      <th>Minimum Nights</th>\n",
              "      <td>1418.0</td>\n",
              "      <td>2.571932</td>\n",
              "      <td>2.518970</td>\n",
              "      <td>1.000000</td>\n",
              "      <td>1.000000</td>\n",
              "      <td>2.000000</td>\n",
              "      <td>3.000000</td>\n",
              "      <td>26.000000</td>\n",
              "    </tr>\n",
              "    <tr>\n",
              "      <th>Maximum Nights</th>\n",
              "      <td>1418.0</td>\n",
              "      <td>934.618477</td>\n",
              "      <td>2794.395846</td>\n",
              "      <td>1.000000</td>\n",
              "      <td>365.000000</td>\n",
              "      <td>1125.000000</td>\n",
              "      <td>1125.000000</td>\n",
              "      <td>99999.000000</td>\n",
              "    </tr>\n",
              "    <tr>\n",
              "      <th>Availability 365</th>\n",
              "      <td>1418.0</td>\n",
              "      <td>196.646685</td>\n",
              "      <td>129.205733</td>\n",
              "      <td>0.000000</td>\n",
              "      <td>69.000000</td>\n",
              "      <td>229.500000</td>\n",
              "      <td>316.000000</td>\n",
              "      <td>365.000000</td>\n",
              "    </tr>\n",
              "    <tr>\n",
              "      <th>Number of Reviews</th>\n",
              "      <td>1418.0</td>\n",
              "      <td>23.239069</td>\n",
              "      <td>37.408198</td>\n",
              "      <td>0.000000</td>\n",
              "      <td>1.000000</td>\n",
              "      <td>8.000000</td>\n",
              "      <td>28.000000</td>\n",
              "      <td>296.000000</td>\n",
              "    </tr>\n",
              "    <tr>\n",
              "      <th>Average Review</th>\n",
              "      <td>1120.0</td>\n",
              "      <td>21.275468</td>\n",
              "      <td>2.035948</td>\n",
              "      <td>8.857143</td>\n",
              "      <td>20.571429</td>\n",
              "      <td>21.714286</td>\n",
              "      <td>22.428571</td>\n",
              "      <td>54.000000</td>\n",
              "    </tr>\n",
              "  </tbody>\n",
              "</table>\n",
              "</div>\n",
              "    <div class=\"colab-df-buttons\">\n",
              "\n",
              "  <div class=\"colab-df-container\">\n",
              "    <button class=\"colab-df-convert\" onclick=\"convertToInteractive('df-08e5c937-da20-41cc-af5a-9a1289cfe25d')\"\n",
              "            title=\"Convert this dataframe to an interactive table.\"\n",
              "            style=\"display:none;\">\n",
              "\n",
              "  <svg xmlns=\"http://www.w3.org/2000/svg\" height=\"24px\" viewBox=\"0 -960 960 960\">\n",
              "    <path d=\"M120-120v-720h720v720H120Zm60-500h600v-160H180v160Zm220 220h160v-160H400v160Zm0 220h160v-160H400v160ZM180-400h160v-160H180v160Zm440 0h160v-160H620v160ZM180-180h160v-160H180v160Zm440 0h160v-160H620v160Z\"/>\n",
              "  </svg>\n",
              "    </button>\n",
              "\n",
              "  <style>\n",
              "    .colab-df-container {\n",
              "      display:flex;\n",
              "      gap: 12px;\n",
              "    }\n",
              "\n",
              "    .colab-df-convert {\n",
              "      background-color: #E8F0FE;\n",
              "      border: none;\n",
              "      border-radius: 50%;\n",
              "      cursor: pointer;\n",
              "      display: none;\n",
              "      fill: #1967D2;\n",
              "      height: 32px;\n",
              "      padding: 0 0 0 0;\n",
              "      width: 32px;\n",
              "    }\n",
              "\n",
              "    .colab-df-convert:hover {\n",
              "      background-color: #E2EBFA;\n",
              "      box-shadow: 0px 1px 2px rgba(60, 64, 67, 0.3), 0px 1px 3px 1px rgba(60, 64, 67, 0.15);\n",
              "      fill: #174EA6;\n",
              "    }\n",
              "\n",
              "    .colab-df-buttons div {\n",
              "      margin-bottom: 4px;\n",
              "    }\n",
              "\n",
              "    [theme=dark] .colab-df-convert {\n",
              "      background-color: #3B4455;\n",
              "      fill: #D2E3FC;\n",
              "    }\n",
              "\n",
              "    [theme=dark] .colab-df-convert:hover {\n",
              "      background-color: #434B5C;\n",
              "      box-shadow: 0px 1px 3px 1px rgba(0, 0, 0, 0.15);\n",
              "      filter: drop-shadow(0px 1px 2px rgba(0, 0, 0, 0.3));\n",
              "      fill: #FFFFFF;\n",
              "    }\n",
              "  </style>\n",
              "\n",
              "    <script>\n",
              "      const buttonEl =\n",
              "        document.querySelector('#df-08e5c937-da20-41cc-af5a-9a1289cfe25d button.colab-df-convert');\n",
              "      buttonEl.style.display =\n",
              "        google.colab.kernel.accessAllowed ? 'block' : 'none';\n",
              "\n",
              "      async function convertToInteractive(key) {\n",
              "        const element = document.querySelector('#df-08e5c937-da20-41cc-af5a-9a1289cfe25d');\n",
              "        const dataTable =\n",
              "          await google.colab.kernel.invokeFunction('convertToInteractive',\n",
              "                                                    [key], {});\n",
              "        if (!dataTable) return;\n",
              "\n",
              "        const docLinkHtml = 'Like what you see? Visit the ' +\n",
              "          '<a target=\"_blank\" href=https://colab.research.google.com/notebooks/data_table.ipynb>data table notebook</a>'\n",
              "          + ' to learn more about interactive tables.';\n",
              "        element.innerHTML = '';\n",
              "        dataTable['output_type'] = 'display_data';\n",
              "        await google.colab.output.renderOutput(dataTable, element);\n",
              "        const docLink = document.createElement('div');\n",
              "        docLink.innerHTML = docLinkHtml;\n",
              "        element.appendChild(docLink);\n",
              "      }\n",
              "    </script>\n",
              "  </div>\n",
              "\n",
              "\n",
              "<div id=\"df-3ffae9a8-ab62-43ef-9236-c694ee538985\">\n",
              "  <button class=\"colab-df-quickchart\" onclick=\"quickchart('df-3ffae9a8-ab62-43ef-9236-c694ee538985')\"\n",
              "            title=\"Suggest charts\"\n",
              "            style=\"display:none;\">\n",
              "\n",
              "<svg xmlns=\"http://www.w3.org/2000/svg\" height=\"24px\"viewBox=\"0 0 24 24\"\n",
              "     width=\"24px\">\n",
              "    <g>\n",
              "        <path d=\"M19 3H5c-1.1 0-2 .9-2 2v14c0 1.1.9 2 2 2h14c1.1 0 2-.9 2-2V5c0-1.1-.9-2-2-2zM9 17H7v-7h2v7zm4 0h-2V7h2v10zm4 0h-2v-4h2v4z\"/>\n",
              "    </g>\n",
              "</svg>\n",
              "  </button>\n",
              "\n",
              "<style>\n",
              "  .colab-df-quickchart {\n",
              "      --bg-color: #E8F0FE;\n",
              "      --fill-color: #1967D2;\n",
              "      --hover-bg-color: #E2EBFA;\n",
              "      --hover-fill-color: #174EA6;\n",
              "      --disabled-fill-color: #AAA;\n",
              "      --disabled-bg-color: #DDD;\n",
              "  }\n",
              "\n",
              "  [theme=dark] .colab-df-quickchart {\n",
              "      --bg-color: #3B4455;\n",
              "      --fill-color: #D2E3FC;\n",
              "      --hover-bg-color: #434B5C;\n",
              "      --hover-fill-color: #FFFFFF;\n",
              "      --disabled-bg-color: #3B4455;\n",
              "      --disabled-fill-color: #666;\n",
              "  }\n",
              "\n",
              "  .colab-df-quickchart {\n",
              "    background-color: var(--bg-color);\n",
              "    border: none;\n",
              "    border-radius: 50%;\n",
              "    cursor: pointer;\n",
              "    display: none;\n",
              "    fill: var(--fill-color);\n",
              "    height: 32px;\n",
              "    padding: 0;\n",
              "    width: 32px;\n",
              "  }\n",
              "\n",
              "  .colab-df-quickchart:hover {\n",
              "    background-color: var(--hover-bg-color);\n",
              "    box-shadow: 0 1px 2px rgba(60, 64, 67, 0.3), 0 1px 3px 1px rgba(60, 64, 67, 0.15);\n",
              "    fill: var(--button-hover-fill-color);\n",
              "  }\n",
              "\n",
              "  .colab-df-quickchart-complete:disabled,\n",
              "  .colab-df-quickchart-complete:disabled:hover {\n",
              "    background-color: var(--disabled-bg-color);\n",
              "    fill: var(--disabled-fill-color);\n",
              "    box-shadow: none;\n",
              "  }\n",
              "\n",
              "  .colab-df-spinner {\n",
              "    border: 2px solid var(--fill-color);\n",
              "    border-color: transparent;\n",
              "    border-bottom-color: var(--fill-color);\n",
              "    animation:\n",
              "      spin 1s steps(1) infinite;\n",
              "  }\n",
              "\n",
              "  @keyframes spin {\n",
              "    0% {\n",
              "      border-color: transparent;\n",
              "      border-bottom-color: var(--fill-color);\n",
              "      border-left-color: var(--fill-color);\n",
              "    }\n",
              "    20% {\n",
              "      border-color: transparent;\n",
              "      border-left-color: var(--fill-color);\n",
              "      border-top-color: var(--fill-color);\n",
              "    }\n",
              "    30% {\n",
              "      border-color: transparent;\n",
              "      border-left-color: var(--fill-color);\n",
              "      border-top-color: var(--fill-color);\n",
              "      border-right-color: var(--fill-color);\n",
              "    }\n",
              "    40% {\n",
              "      border-color: transparent;\n",
              "      border-right-color: var(--fill-color);\n",
              "      border-top-color: var(--fill-color);\n",
              "    }\n",
              "    60% {\n",
              "      border-color: transparent;\n",
              "      border-right-color: var(--fill-color);\n",
              "    }\n",
              "    80% {\n",
              "      border-color: transparent;\n",
              "      border-right-color: var(--fill-color);\n",
              "      border-bottom-color: var(--fill-color);\n",
              "    }\n",
              "    90% {\n",
              "      border-color: transparent;\n",
              "      border-bottom-color: var(--fill-color);\n",
              "    }\n",
              "  }\n",
              "</style>\n",
              "\n",
              "  <script>\n",
              "    async function quickchart(key) {\n",
              "      const quickchartButtonEl =\n",
              "        document.querySelector('#' + key + ' button');\n",
              "      quickchartButtonEl.disabled = true;  // To prevent multiple clicks.\n",
              "      quickchartButtonEl.classList.add('colab-df-spinner');\n",
              "      try {\n",
              "        const charts = await google.colab.kernel.invokeFunction(\n",
              "            'suggestCharts', [key], {});\n",
              "      } catch (error) {\n",
              "        console.error('Error during call to suggestCharts:', error);\n",
              "      }\n",
              "      quickchartButtonEl.classList.remove('colab-df-spinner');\n",
              "      quickchartButtonEl.classList.add('colab-df-quickchart-complete');\n",
              "    }\n",
              "    (() => {\n",
              "      let quickchartButtonEl =\n",
              "        document.querySelector('#df-3ffae9a8-ab62-43ef-9236-c694ee538985 button');\n",
              "      quickchartButtonEl.style.display =\n",
              "        google.colab.kernel.accessAllowed ? 'block' : 'none';\n",
              "    })();\n",
              "  </script>\n",
              "</div>\n",
              "    </div>\n",
              "  </div>\n"
            ],
            "application/vnd.google.colaboratory.intrinsic+json": {
              "type": "dataframe",
              "summary": "{\n  \"name\": \"df\",\n  \"rows\": 16,\n  \"fields\": [\n    {\n      \"column\": \"count\",\n      \"properties\": {\n        \"dtype\": \"number\",\n        \"std\": 246.19124510564276,\n        \"min\": 596.0,\n        \"max\": 1418.0,\n        \"num_unique_values\": 7,\n        \"samples\": [\n          1220.0,\n          1418.0,\n          840.0\n        ],\n        \"semantic_type\": \"\",\n        \"description\": \"\"\n      }\n    },\n    {\n      \"column\": \"mean\",\n      \"properties\": {\n        \"dtype\": \"number\",\n        \"std\": 231.23653334549965,\n        \"min\": -3.696848501751146,\n        \"max\": 934.6184767277856,\n        \"num_unique_values\": 16,\n        \"samples\": [\n          95.91065573770491,\n          40.42061985819781,\n          1.9143665958952583\n        ],\n        \"semantic_type\": \"\",\n        \"description\": \"\"\n      }\n    },\n    {\n      \"column\": \"std\",\n      \"properties\": {\n        \"dtype\": \"number\",\n        \"std\": 693.6583142720648,\n        \"min\": 0.021311666720300004,\n        \"max\": 2794.395846043768,\n        \"num_unique_values\": 16,\n        \"samples\": [\n          13.090687077723084,\n          0.021311666720300004,\n          1.5102666495570891\n        ],\n        \"semantic_type\": \"\",\n        \"description\": \"\"\n      }\n    },\n    {\n      \"column\": \"min\",\n      \"properties\": {\n        \"dtype\": \"number\",\n        \"std\": 19.356281141183143,\n        \"min\": -3.784861685352609,\n        \"max\": 70.0,\n        \"num_unique_values\": 8,\n        \"samples\": [\n          40.340952886710994,\n          70.0,\n          0.0\n        ],\n        \"semantic_type\": \"\",\n        \"description\": \"\"\n      }\n    },\n    {\n      \"column\": \"25%\",\n      \"properties\": {\n        \"dtype\": \"number\",\n        \"std\": 91.92437624760471,\n        \"min\": -3.7087404987489085,\n        \"max\": 365.0,\n        \"num_unique_values\": 10,\n        \"samples\": [\n          69.0,\n          40.40965194474693,\n          15.0\n        ],\n        \"semantic_type\": \"\",\n        \"description\": \"\"\n      }\n    },\n    {\n      \"column\": \"50%\",\n      \"properties\": {\n        \"dtype\": \"number\",\n        \"std\": 278.60154255256333,\n        \"min\": -3.70185006119106,\n        \"max\": 1125.0,\n        \"num_unique_values\": 13,\n        \"samples\": [\n          8.0,\n          1125.0,\n          100.0\n        ],\n        \"semantic_type\": \"\",\n        \"description\": \"\"\n      }\n    },\n    {\n      \"column\": \"75%\",\n      \"properties\": {\n        \"dtype\": \"number\",\n        \"std\": 281.2391402830558,\n        \"min\": -3.6931705450129204,\n        \"max\": 1125.0,\n        \"num_unique_values\": 14,\n        \"samples\": [\n          3.0,\n          316.0,\n          100.0\n        ],\n        \"semantic_type\": \"\",\n        \"description\": \"\"\n      }\n    },\n    {\n      \"column\": \"max\",\n      \"properties\": {\n        \"dtype\": \"number\",\n        \"std\": 24957.426402827638,\n        \"min\": -3.575571121499661,\n        \"max\": 99999.0,\n        \"num_unique_values\": 15,\n        \"samples\": [\n          60.0,\n          99999.0,\n          100.0\n        ],\n        \"semantic_type\": \"\",\n        \"description\": \"\"\n      }\n    }\n  ]\n}"
            }
          },
          "metadata": {},
          "execution_count": 285
        }
      ]
    },
    {
      "cell_type": "code",
      "source": [
        "df_n = df[['Neighbourhood', 'Neighbourhood Cleansed', 'Neighbourhood Group Cleansed']]\n",
        "df_n.head(20)"
      ],
      "metadata": {
        "colab": {
          "base_uri": "https://localhost:8080/",
          "height": 676
        },
        "id": "2glH04nXeAne",
        "outputId": "71af9a88-78ed-40de-8da2-d394d95b6c5f"
      },
      "execution_count": 286,
      "outputs": [
        {
          "output_type": "execute_result",
          "data": {
            "text/plain": [
              "    Neighbourhood Neighbourhood Cleansed Neighbourhood Group Cleansed\n",
              "0             Sol                    Sol                       Centro\n",
              "1             NaN            Embajadores                       Centro\n",
              "2             NaN               Arapiles                     Chamberí\n",
              "3             Sol                Palacio                       Centro\n",
              "4       La Latina                Palacio                       Centro\n",
              "5             NaN            Embajadores                       Centro\n",
              "6         Adelfas                Adelfas                       Retiro\n",
              "7   Bellas Vistas          Bellas Vistas                       Tetuán\n",
              "8             Sol                    Sol                       Centro\n",
              "9             NaN             Castellana                    Salamanca\n",
              "10            Sol                    Sol                       Centro\n",
              "11         Aluche       Puerta del Angel                       Latina\n",
              "12         Cortes                 Cortes                       Centro\n",
              "13         Cortes                 Cortes                       Centro\n",
              "14            NaN               Castilla                    Chamartín\n",
              "15            NaN                    Sol                       Centro\n",
              "16      Hortaleza           Valdefuentes                    Hortaleza\n",
              "17       Justicia               Justicia                       Centro\n",
              "18      La Latina                Palacio                       Centro\n",
              "19    Embajadores            Embajadores                       Centro"
            ],
            "text/html": [
              "\n",
              "  <div id=\"df-3920c338-1c5e-402c-9470-9a6abdbb7f20\" class=\"colab-df-container\">\n",
              "    <div>\n",
              "<style scoped>\n",
              "    .dataframe tbody tr th:only-of-type {\n",
              "        vertical-align: middle;\n",
              "    }\n",
              "\n",
              "    .dataframe tbody tr th {\n",
              "        vertical-align: top;\n",
              "    }\n",
              "\n",
              "    .dataframe thead th {\n",
              "        text-align: right;\n",
              "    }\n",
              "</style>\n",
              "<table border=\"1\" class=\"dataframe\">\n",
              "  <thead>\n",
              "    <tr style=\"text-align: right;\">\n",
              "      <th></th>\n",
              "      <th>Neighbourhood</th>\n",
              "      <th>Neighbourhood Cleansed</th>\n",
              "      <th>Neighbourhood Group Cleansed</th>\n",
              "    </tr>\n",
              "  </thead>\n",
              "  <tbody>\n",
              "    <tr>\n",
              "      <th>0</th>\n",
              "      <td>Sol</td>\n",
              "      <td>Sol</td>\n",
              "      <td>Centro</td>\n",
              "    </tr>\n",
              "    <tr>\n",
              "      <th>1</th>\n",
              "      <td>NaN</td>\n",
              "      <td>Embajadores</td>\n",
              "      <td>Centro</td>\n",
              "    </tr>\n",
              "    <tr>\n",
              "      <th>2</th>\n",
              "      <td>NaN</td>\n",
              "      <td>Arapiles</td>\n",
              "      <td>Chamberí</td>\n",
              "    </tr>\n",
              "    <tr>\n",
              "      <th>3</th>\n",
              "      <td>Sol</td>\n",
              "      <td>Palacio</td>\n",
              "      <td>Centro</td>\n",
              "    </tr>\n",
              "    <tr>\n",
              "      <th>4</th>\n",
              "      <td>La Latina</td>\n",
              "      <td>Palacio</td>\n",
              "      <td>Centro</td>\n",
              "    </tr>\n",
              "    <tr>\n",
              "      <th>5</th>\n",
              "      <td>NaN</td>\n",
              "      <td>Embajadores</td>\n",
              "      <td>Centro</td>\n",
              "    </tr>\n",
              "    <tr>\n",
              "      <th>6</th>\n",
              "      <td>Adelfas</td>\n",
              "      <td>Adelfas</td>\n",
              "      <td>Retiro</td>\n",
              "    </tr>\n",
              "    <tr>\n",
              "      <th>7</th>\n",
              "      <td>Bellas Vistas</td>\n",
              "      <td>Bellas Vistas</td>\n",
              "      <td>Tetuán</td>\n",
              "    </tr>\n",
              "    <tr>\n",
              "      <th>8</th>\n",
              "      <td>Sol</td>\n",
              "      <td>Sol</td>\n",
              "      <td>Centro</td>\n",
              "    </tr>\n",
              "    <tr>\n",
              "      <th>9</th>\n",
              "      <td>NaN</td>\n",
              "      <td>Castellana</td>\n",
              "      <td>Salamanca</td>\n",
              "    </tr>\n",
              "    <tr>\n",
              "      <th>10</th>\n",
              "      <td>Sol</td>\n",
              "      <td>Sol</td>\n",
              "      <td>Centro</td>\n",
              "    </tr>\n",
              "    <tr>\n",
              "      <th>11</th>\n",
              "      <td>Aluche</td>\n",
              "      <td>Puerta del Angel</td>\n",
              "      <td>Latina</td>\n",
              "    </tr>\n",
              "    <tr>\n",
              "      <th>12</th>\n",
              "      <td>Cortes</td>\n",
              "      <td>Cortes</td>\n",
              "      <td>Centro</td>\n",
              "    </tr>\n",
              "    <tr>\n",
              "      <th>13</th>\n",
              "      <td>Cortes</td>\n",
              "      <td>Cortes</td>\n",
              "      <td>Centro</td>\n",
              "    </tr>\n",
              "    <tr>\n",
              "      <th>14</th>\n",
              "      <td>NaN</td>\n",
              "      <td>Castilla</td>\n",
              "      <td>Chamartín</td>\n",
              "    </tr>\n",
              "    <tr>\n",
              "      <th>15</th>\n",
              "      <td>NaN</td>\n",
              "      <td>Sol</td>\n",
              "      <td>Centro</td>\n",
              "    </tr>\n",
              "    <tr>\n",
              "      <th>16</th>\n",
              "      <td>Hortaleza</td>\n",
              "      <td>Valdefuentes</td>\n",
              "      <td>Hortaleza</td>\n",
              "    </tr>\n",
              "    <tr>\n",
              "      <th>17</th>\n",
              "      <td>Justicia</td>\n",
              "      <td>Justicia</td>\n",
              "      <td>Centro</td>\n",
              "    </tr>\n",
              "    <tr>\n",
              "      <th>18</th>\n",
              "      <td>La Latina</td>\n",
              "      <td>Palacio</td>\n",
              "      <td>Centro</td>\n",
              "    </tr>\n",
              "    <tr>\n",
              "      <th>19</th>\n",
              "      <td>Embajadores</td>\n",
              "      <td>Embajadores</td>\n",
              "      <td>Centro</td>\n",
              "    </tr>\n",
              "  </tbody>\n",
              "</table>\n",
              "</div>\n",
              "    <div class=\"colab-df-buttons\">\n",
              "\n",
              "  <div class=\"colab-df-container\">\n",
              "    <button class=\"colab-df-convert\" onclick=\"convertToInteractive('df-3920c338-1c5e-402c-9470-9a6abdbb7f20')\"\n",
              "            title=\"Convert this dataframe to an interactive table.\"\n",
              "            style=\"display:none;\">\n",
              "\n",
              "  <svg xmlns=\"http://www.w3.org/2000/svg\" height=\"24px\" viewBox=\"0 -960 960 960\">\n",
              "    <path d=\"M120-120v-720h720v720H120Zm60-500h600v-160H180v160Zm220 220h160v-160H400v160Zm0 220h160v-160H400v160ZM180-400h160v-160H180v160Zm440 0h160v-160H620v160ZM180-180h160v-160H180v160Zm440 0h160v-160H620v160Z\"/>\n",
              "  </svg>\n",
              "    </button>\n",
              "\n",
              "  <style>\n",
              "    .colab-df-container {\n",
              "      display:flex;\n",
              "      gap: 12px;\n",
              "    }\n",
              "\n",
              "    .colab-df-convert {\n",
              "      background-color: #E8F0FE;\n",
              "      border: none;\n",
              "      border-radius: 50%;\n",
              "      cursor: pointer;\n",
              "      display: none;\n",
              "      fill: #1967D2;\n",
              "      height: 32px;\n",
              "      padding: 0 0 0 0;\n",
              "      width: 32px;\n",
              "    }\n",
              "\n",
              "    .colab-df-convert:hover {\n",
              "      background-color: #E2EBFA;\n",
              "      box-shadow: 0px 1px 2px rgba(60, 64, 67, 0.3), 0px 1px 3px 1px rgba(60, 64, 67, 0.15);\n",
              "      fill: #174EA6;\n",
              "    }\n",
              "\n",
              "    .colab-df-buttons div {\n",
              "      margin-bottom: 4px;\n",
              "    }\n",
              "\n",
              "    [theme=dark] .colab-df-convert {\n",
              "      background-color: #3B4455;\n",
              "      fill: #D2E3FC;\n",
              "    }\n",
              "\n",
              "    [theme=dark] .colab-df-convert:hover {\n",
              "      background-color: #434B5C;\n",
              "      box-shadow: 0px 1px 3px 1px rgba(0, 0, 0, 0.15);\n",
              "      filter: drop-shadow(0px 1px 2px rgba(0, 0, 0, 0.3));\n",
              "      fill: #FFFFFF;\n",
              "    }\n",
              "  </style>\n",
              "\n",
              "    <script>\n",
              "      const buttonEl =\n",
              "        document.querySelector('#df-3920c338-1c5e-402c-9470-9a6abdbb7f20 button.colab-df-convert');\n",
              "      buttonEl.style.display =\n",
              "        google.colab.kernel.accessAllowed ? 'block' : 'none';\n",
              "\n",
              "      async function convertToInteractive(key) {\n",
              "        const element = document.querySelector('#df-3920c338-1c5e-402c-9470-9a6abdbb7f20');\n",
              "        const dataTable =\n",
              "          await google.colab.kernel.invokeFunction('convertToInteractive',\n",
              "                                                    [key], {});\n",
              "        if (!dataTable) return;\n",
              "\n",
              "        const docLinkHtml = 'Like what you see? Visit the ' +\n",
              "          '<a target=\"_blank\" href=https://colab.research.google.com/notebooks/data_table.ipynb>data table notebook</a>'\n",
              "          + ' to learn more about interactive tables.';\n",
              "        element.innerHTML = '';\n",
              "        dataTable['output_type'] = 'display_data';\n",
              "        await google.colab.output.renderOutput(dataTable, element);\n",
              "        const docLink = document.createElement('div');\n",
              "        docLink.innerHTML = docLinkHtml;\n",
              "        element.appendChild(docLink);\n",
              "      }\n",
              "    </script>\n",
              "  </div>\n",
              "\n",
              "\n",
              "<div id=\"df-ab078a7a-dba1-4581-8430-41fc33d3fb3e\">\n",
              "  <button class=\"colab-df-quickchart\" onclick=\"quickchart('df-ab078a7a-dba1-4581-8430-41fc33d3fb3e')\"\n",
              "            title=\"Suggest charts\"\n",
              "            style=\"display:none;\">\n",
              "\n",
              "<svg xmlns=\"http://www.w3.org/2000/svg\" height=\"24px\"viewBox=\"0 0 24 24\"\n",
              "     width=\"24px\">\n",
              "    <g>\n",
              "        <path d=\"M19 3H5c-1.1 0-2 .9-2 2v14c0 1.1.9 2 2 2h14c1.1 0 2-.9 2-2V5c0-1.1-.9-2-2-2zM9 17H7v-7h2v7zm4 0h-2V7h2v10zm4 0h-2v-4h2v4z\"/>\n",
              "    </g>\n",
              "</svg>\n",
              "  </button>\n",
              "\n",
              "<style>\n",
              "  .colab-df-quickchart {\n",
              "      --bg-color: #E8F0FE;\n",
              "      --fill-color: #1967D2;\n",
              "      --hover-bg-color: #E2EBFA;\n",
              "      --hover-fill-color: #174EA6;\n",
              "      --disabled-fill-color: #AAA;\n",
              "      --disabled-bg-color: #DDD;\n",
              "  }\n",
              "\n",
              "  [theme=dark] .colab-df-quickchart {\n",
              "      --bg-color: #3B4455;\n",
              "      --fill-color: #D2E3FC;\n",
              "      --hover-bg-color: #434B5C;\n",
              "      --hover-fill-color: #FFFFFF;\n",
              "      --disabled-bg-color: #3B4455;\n",
              "      --disabled-fill-color: #666;\n",
              "  }\n",
              "\n",
              "  .colab-df-quickchart {\n",
              "    background-color: var(--bg-color);\n",
              "    border: none;\n",
              "    border-radius: 50%;\n",
              "    cursor: pointer;\n",
              "    display: none;\n",
              "    fill: var(--fill-color);\n",
              "    height: 32px;\n",
              "    padding: 0;\n",
              "    width: 32px;\n",
              "  }\n",
              "\n",
              "  .colab-df-quickchart:hover {\n",
              "    background-color: var(--hover-bg-color);\n",
              "    box-shadow: 0 1px 2px rgba(60, 64, 67, 0.3), 0 1px 3px 1px rgba(60, 64, 67, 0.15);\n",
              "    fill: var(--button-hover-fill-color);\n",
              "  }\n",
              "\n",
              "  .colab-df-quickchart-complete:disabled,\n",
              "  .colab-df-quickchart-complete:disabled:hover {\n",
              "    background-color: var(--disabled-bg-color);\n",
              "    fill: var(--disabled-fill-color);\n",
              "    box-shadow: none;\n",
              "  }\n",
              "\n",
              "  .colab-df-spinner {\n",
              "    border: 2px solid var(--fill-color);\n",
              "    border-color: transparent;\n",
              "    border-bottom-color: var(--fill-color);\n",
              "    animation:\n",
              "      spin 1s steps(1) infinite;\n",
              "  }\n",
              "\n",
              "  @keyframes spin {\n",
              "    0% {\n",
              "      border-color: transparent;\n",
              "      border-bottom-color: var(--fill-color);\n",
              "      border-left-color: var(--fill-color);\n",
              "    }\n",
              "    20% {\n",
              "      border-color: transparent;\n",
              "      border-left-color: var(--fill-color);\n",
              "      border-top-color: var(--fill-color);\n",
              "    }\n",
              "    30% {\n",
              "      border-color: transparent;\n",
              "      border-left-color: var(--fill-color);\n",
              "      border-top-color: var(--fill-color);\n",
              "      border-right-color: var(--fill-color);\n",
              "    }\n",
              "    40% {\n",
              "      border-color: transparent;\n",
              "      border-right-color: var(--fill-color);\n",
              "      border-top-color: var(--fill-color);\n",
              "    }\n",
              "    60% {\n",
              "      border-color: transparent;\n",
              "      border-right-color: var(--fill-color);\n",
              "    }\n",
              "    80% {\n",
              "      border-color: transparent;\n",
              "      border-right-color: var(--fill-color);\n",
              "      border-bottom-color: var(--fill-color);\n",
              "    }\n",
              "    90% {\n",
              "      border-color: transparent;\n",
              "      border-bottom-color: var(--fill-color);\n",
              "    }\n",
              "  }\n",
              "</style>\n",
              "\n",
              "  <script>\n",
              "    async function quickchart(key) {\n",
              "      const quickchartButtonEl =\n",
              "        document.querySelector('#' + key + ' button');\n",
              "      quickchartButtonEl.disabled = true;  // To prevent multiple clicks.\n",
              "      quickchartButtonEl.classList.add('colab-df-spinner');\n",
              "      try {\n",
              "        const charts = await google.colab.kernel.invokeFunction(\n",
              "            'suggestCharts', [key], {});\n",
              "      } catch (error) {\n",
              "        console.error('Error during call to suggestCharts:', error);\n",
              "      }\n",
              "      quickchartButtonEl.classList.remove('colab-df-spinner');\n",
              "      quickchartButtonEl.classList.add('colab-df-quickchart-complete');\n",
              "    }\n",
              "    (() => {\n",
              "      let quickchartButtonEl =\n",
              "        document.querySelector('#df-ab078a7a-dba1-4581-8430-41fc33d3fb3e button');\n",
              "      quickchartButtonEl.style.display =\n",
              "        google.colab.kernel.accessAllowed ? 'block' : 'none';\n",
              "    })();\n",
              "  </script>\n",
              "</div>\n",
              "    </div>\n",
              "  </div>\n"
            ],
            "application/vnd.google.colaboratory.intrinsic+json": {
              "type": "dataframe",
              "variable_name": "df_n",
              "summary": "{\n  \"name\": \"df_n\",\n  \"rows\": 1418,\n  \"fields\": [\n    {\n      \"column\": \"Neighbourhood\",\n      \"properties\": {\n        \"dtype\": \"category\",\n        \"num_unique_values\": 63,\n        \"samples\": [\n          \"Almenara\",\n          \"Jer\\u00f3nimos\",\n          \"Sol\"\n        ],\n        \"semantic_type\": \"\",\n        \"description\": \"\"\n      }\n    },\n    {\n      \"column\": \"Neighbourhood Cleansed\",\n      \"properties\": {\n        \"dtype\": \"category\",\n        \"num_unique_values\": 115,\n        \"samples\": [\n          \"Quintana\",\n          \"Adelfas\",\n          \"Prosperidad\"\n        ],\n        \"semantic_type\": \"\",\n        \"description\": \"\"\n      }\n    },\n    {\n      \"column\": \"Neighbourhood Group Cleansed\",\n      \"properties\": {\n        \"dtype\": \"category\",\n        \"num_unique_values\": 21,\n        \"samples\": [\n          \"Centro\",\n          \"Villa de Vallecas\",\n          \"Villaverde\"\n        ],\n        \"semantic_type\": \"\",\n        \"description\": \"\"\n      }\n    }\n  ]\n}"
            }
          },
          "metadata": {},
          "execution_count": 286
        }
      ]
    },
    {
      "cell_type": "code",
      "source": [
        "print(f'El dataframe tiene un total de {len(df_n)} filas.')\n",
        "len(df_n) - df_n.count() # vemos cuántos valores NaN hay por columna"
      ],
      "metadata": {
        "colab": {
          "base_uri": "https://localhost:8080/"
        },
        "id": "DGOw0WUBeGKl",
        "outputId": "21cd58d4-37d5-4a0c-aace-b7379eeb93e0"
      },
      "execution_count": 287,
      "outputs": [
        {
          "output_type": "stream",
          "name": "stdout",
          "text": [
            "El dataframe tiene un total de 1418 filas.\n"
          ]
        },
        {
          "output_type": "execute_result",
          "data": {
            "text/plain": [
              "Neighbourhood                   500\n",
              "Neighbourhood Cleansed            0\n",
              "Neighbourhood Group Cleansed      0\n",
              "dtype: int64"
            ]
          },
          "metadata": {},
          "execution_count": 287
        }
      ]
    },
    {
      "cell_type": "code",
      "source": [
        "df_n.apply(lambda x: len(x.unique())) # vemos el número de valores distintos por columna"
      ],
      "metadata": {
        "colab": {
          "base_uri": "https://localhost:8080/"
        },
        "id": "WgcRe43LeTAp",
        "outputId": "6feac632-57c7-4fc0-dfe2-08d9cfab7ede"
      },
      "execution_count": 288,
      "outputs": [
        {
          "output_type": "execute_result",
          "data": {
            "text/plain": [
              "Neighbourhood                    64\n",
              "Neighbourhood Cleansed          115\n",
              "Neighbourhood Group Cleansed     21\n",
              "dtype: int64"
            ]
          },
          "metadata": {},
          "execution_count": 288
        }
      ]
    },
    {
      "cell_type": "markdown",
      "source": [
        "Debido a que Neighbourhood Cleansed no tiene nulos pero tiene muchos valores distintos se va a usar Neighbourhood Group Cleansed a no ser que sea NaN/Null; en ese caso se rellenará con Neighbourhood Cleansed"
      ],
      "metadata": {
        "id": "F276m7LReZQb"
      }
    },
    {
      "cell_type": "code",
      "source": [
        "df_n[\"Final Neighbourhood\"] = df_n[\"Neighbourhood Group Cleansed\"].fillna(df_n[\"Neighbourhood Cleansed\"])"
      ],
      "metadata": {
        "colab": {
          "base_uri": "https://localhost:8080/"
        },
        "id": "6075l8oDeX2z",
        "outputId": "d7194333-b6b7-4a1b-f037-0ff4e9c8656f"
      },
      "execution_count": 289,
      "outputs": [
        {
          "output_type": "stream",
          "name": "stderr",
          "text": [
            "<ipython-input-289-a5cfe22ec8de>:1: SettingWithCopyWarning: \n",
            "A value is trying to be set on a copy of a slice from a DataFrame.\n",
            "Try using .loc[row_indexer,col_indexer] = value instead\n",
            "\n",
            "See the caveats in the documentation: https://pandas.pydata.org/pandas-docs/stable/user_guide/indexing.html#returning-a-view-versus-a-copy\n",
            "  df_n[\"Final Neighbourhood\"] = df_n[\"Neighbourhood Group Cleansed\"].fillna(df_n[\"Neighbourhood Cleansed\"])\n"
          ]
        }
      ]
    },
    {
      "cell_type": "code",
      "source": [
        "df[\"Final Neighbourhood\"] = df[\"Neighbourhood Group Cleansed\"].fillna(df[\"Neighbourhood Cleansed\"])\n",
        "df.drop([\"Neighbourhood\", \"Neighbourhood Group Cleansed\", \"Neighbourhood Cleansed\"], axis=1, inplace=True)"
      ],
      "metadata": {
        "id": "IfPsvIAJfHPk"
      },
      "execution_count": 290,
      "outputs": []
    },
    {
      "cell_type": "markdown",
      "source": [
        "Host Verifications, Features y Amenities exigirían un análisis NLP, pero hay información directa que se puede extraer. Todas son listas, separadas por comas. Se puede contar el número de elementos en cada lista y usarlo como característica."
      ],
      "metadata": {
        "id": "pBQWn-uLfSCH"
      }
    },
    {
      "cell_type": "code",
      "source": [
        "df_l = df[['Features', 'Amenities', 'Host Verifications']]\n",
        "df_l.fillna(\"\", inplace=True) # rellenamos los huecos con cadenas vacías\n",
        "\n",
        "df_l['Features'] = df_l['Features'].apply(lambda x: len(str(x).split(',')))\n",
        "df_l['Amenities'] = df_l['Amenities'].apply(lambda x: len(str(x).split(',')))\n",
        "df_l['Host Verifications'] = df_l['Host Verifications'].apply(lambda x: len(str(x).split(',')))\n",
        "\n",
        "df_l.head(10)"
      ],
      "metadata": {
        "colab": {
          "base_uri": "https://localhost:8080/",
          "height": 787
        },
        "id": "p_yvozyKfRUb",
        "outputId": "06b439da-47c3-4b52-c653-bc968676efc7"
      },
      "execution_count": 291,
      "outputs": [
        {
          "output_type": "stream",
          "name": "stderr",
          "text": [
            "<ipython-input-291-cbd94da3886a>:2: SettingWithCopyWarning: \n",
            "A value is trying to be set on a copy of a slice from a DataFrame\n",
            "\n",
            "See the caveats in the documentation: https://pandas.pydata.org/pandas-docs/stable/user_guide/indexing.html#returning-a-view-versus-a-copy\n",
            "  df_l.fillna(\"\", inplace=True) # rellenamos los huecos con cadenas vacías\n",
            "<ipython-input-291-cbd94da3886a>:4: SettingWithCopyWarning: \n",
            "A value is trying to be set on a copy of a slice from a DataFrame.\n",
            "Try using .loc[row_indexer,col_indexer] = value instead\n",
            "\n",
            "See the caveats in the documentation: https://pandas.pydata.org/pandas-docs/stable/user_guide/indexing.html#returning-a-view-versus-a-copy\n",
            "  df_l['Features'] = df_l['Features'].apply(lambda x: len(str(x).split(',')))\n",
            "<ipython-input-291-cbd94da3886a>:5: SettingWithCopyWarning: \n",
            "A value is trying to be set on a copy of a slice from a DataFrame.\n",
            "Try using .loc[row_indexer,col_indexer] = value instead\n",
            "\n",
            "See the caveats in the documentation: https://pandas.pydata.org/pandas-docs/stable/user_guide/indexing.html#returning-a-view-versus-a-copy\n",
            "  df_l['Amenities'] = df_l['Amenities'].apply(lambda x: len(str(x).split(',')))\n",
            "<ipython-input-291-cbd94da3886a>:6: SettingWithCopyWarning: \n",
            "A value is trying to be set on a copy of a slice from a DataFrame.\n",
            "Try using .loc[row_indexer,col_indexer] = value instead\n",
            "\n",
            "See the caveats in the documentation: https://pandas.pydata.org/pandas-docs/stable/user_guide/indexing.html#returning-a-view-versus-a-copy\n",
            "  df_l['Host Verifications'] = df_l['Host Verifications'].apply(lambda x: len(str(x).split(',')))\n"
          ]
        },
        {
          "output_type": "execute_result",
          "data": {
            "text/plain": [
              "   Features  Amenities  Host Verifications\n",
              "0         4         17                   4\n",
              "1         4          9                   6\n",
              "2         3         15                   6\n",
              "3         4         13                   5\n",
              "4         4         11                   4\n",
              "5         3         17                   3\n",
              "6         5          9                   6\n",
              "7         4         15                   4\n",
              "8         4         19                   4\n",
              "9         3         19                   3"
            ],
            "text/html": [
              "\n",
              "  <div id=\"df-cac20dcf-7c1a-469f-94bb-b38478626cfb\" class=\"colab-df-container\">\n",
              "    <div>\n",
              "<style scoped>\n",
              "    .dataframe tbody tr th:only-of-type {\n",
              "        vertical-align: middle;\n",
              "    }\n",
              "\n",
              "    .dataframe tbody tr th {\n",
              "        vertical-align: top;\n",
              "    }\n",
              "\n",
              "    .dataframe thead th {\n",
              "        text-align: right;\n",
              "    }\n",
              "</style>\n",
              "<table border=\"1\" class=\"dataframe\">\n",
              "  <thead>\n",
              "    <tr style=\"text-align: right;\">\n",
              "      <th></th>\n",
              "      <th>Features</th>\n",
              "      <th>Amenities</th>\n",
              "      <th>Host Verifications</th>\n",
              "    </tr>\n",
              "  </thead>\n",
              "  <tbody>\n",
              "    <tr>\n",
              "      <th>0</th>\n",
              "      <td>4</td>\n",
              "      <td>17</td>\n",
              "      <td>4</td>\n",
              "    </tr>\n",
              "    <tr>\n",
              "      <th>1</th>\n",
              "      <td>4</td>\n",
              "      <td>9</td>\n",
              "      <td>6</td>\n",
              "    </tr>\n",
              "    <tr>\n",
              "      <th>2</th>\n",
              "      <td>3</td>\n",
              "      <td>15</td>\n",
              "      <td>6</td>\n",
              "    </tr>\n",
              "    <tr>\n",
              "      <th>3</th>\n",
              "      <td>4</td>\n",
              "      <td>13</td>\n",
              "      <td>5</td>\n",
              "    </tr>\n",
              "    <tr>\n",
              "      <th>4</th>\n",
              "      <td>4</td>\n",
              "      <td>11</td>\n",
              "      <td>4</td>\n",
              "    </tr>\n",
              "    <tr>\n",
              "      <th>5</th>\n",
              "      <td>3</td>\n",
              "      <td>17</td>\n",
              "      <td>3</td>\n",
              "    </tr>\n",
              "    <tr>\n",
              "      <th>6</th>\n",
              "      <td>5</td>\n",
              "      <td>9</td>\n",
              "      <td>6</td>\n",
              "    </tr>\n",
              "    <tr>\n",
              "      <th>7</th>\n",
              "      <td>4</td>\n",
              "      <td>15</td>\n",
              "      <td>4</td>\n",
              "    </tr>\n",
              "    <tr>\n",
              "      <th>8</th>\n",
              "      <td>4</td>\n",
              "      <td>19</td>\n",
              "      <td>4</td>\n",
              "    </tr>\n",
              "    <tr>\n",
              "      <th>9</th>\n",
              "      <td>3</td>\n",
              "      <td>19</td>\n",
              "      <td>3</td>\n",
              "    </tr>\n",
              "  </tbody>\n",
              "</table>\n",
              "</div>\n",
              "    <div class=\"colab-df-buttons\">\n",
              "\n",
              "  <div class=\"colab-df-container\">\n",
              "    <button class=\"colab-df-convert\" onclick=\"convertToInteractive('df-cac20dcf-7c1a-469f-94bb-b38478626cfb')\"\n",
              "            title=\"Convert this dataframe to an interactive table.\"\n",
              "            style=\"display:none;\">\n",
              "\n",
              "  <svg xmlns=\"http://www.w3.org/2000/svg\" height=\"24px\" viewBox=\"0 -960 960 960\">\n",
              "    <path d=\"M120-120v-720h720v720H120Zm60-500h600v-160H180v160Zm220 220h160v-160H400v160Zm0 220h160v-160H400v160ZM180-400h160v-160H180v160Zm440 0h160v-160H620v160ZM180-180h160v-160H180v160Zm440 0h160v-160H620v160Z\"/>\n",
              "  </svg>\n",
              "    </button>\n",
              "\n",
              "  <style>\n",
              "    .colab-df-container {\n",
              "      display:flex;\n",
              "      gap: 12px;\n",
              "    }\n",
              "\n",
              "    .colab-df-convert {\n",
              "      background-color: #E8F0FE;\n",
              "      border: none;\n",
              "      border-radius: 50%;\n",
              "      cursor: pointer;\n",
              "      display: none;\n",
              "      fill: #1967D2;\n",
              "      height: 32px;\n",
              "      padding: 0 0 0 0;\n",
              "      width: 32px;\n",
              "    }\n",
              "\n",
              "    .colab-df-convert:hover {\n",
              "      background-color: #E2EBFA;\n",
              "      box-shadow: 0px 1px 2px rgba(60, 64, 67, 0.3), 0px 1px 3px 1px rgba(60, 64, 67, 0.15);\n",
              "      fill: #174EA6;\n",
              "    }\n",
              "\n",
              "    .colab-df-buttons div {\n",
              "      margin-bottom: 4px;\n",
              "    }\n",
              "\n",
              "    [theme=dark] .colab-df-convert {\n",
              "      background-color: #3B4455;\n",
              "      fill: #D2E3FC;\n",
              "    }\n",
              "\n",
              "    [theme=dark] .colab-df-convert:hover {\n",
              "      background-color: #434B5C;\n",
              "      box-shadow: 0px 1px 3px 1px rgba(0, 0, 0, 0.15);\n",
              "      filter: drop-shadow(0px 1px 2px rgba(0, 0, 0, 0.3));\n",
              "      fill: #FFFFFF;\n",
              "    }\n",
              "  </style>\n",
              "\n",
              "    <script>\n",
              "      const buttonEl =\n",
              "        document.querySelector('#df-cac20dcf-7c1a-469f-94bb-b38478626cfb button.colab-df-convert');\n",
              "      buttonEl.style.display =\n",
              "        google.colab.kernel.accessAllowed ? 'block' : 'none';\n",
              "\n",
              "      async function convertToInteractive(key) {\n",
              "        const element = document.querySelector('#df-cac20dcf-7c1a-469f-94bb-b38478626cfb');\n",
              "        const dataTable =\n",
              "          await google.colab.kernel.invokeFunction('convertToInteractive',\n",
              "                                                    [key], {});\n",
              "        if (!dataTable) return;\n",
              "\n",
              "        const docLinkHtml = 'Like what you see? Visit the ' +\n",
              "          '<a target=\"_blank\" href=https://colab.research.google.com/notebooks/data_table.ipynb>data table notebook</a>'\n",
              "          + ' to learn more about interactive tables.';\n",
              "        element.innerHTML = '';\n",
              "        dataTable['output_type'] = 'display_data';\n",
              "        await google.colab.output.renderOutput(dataTable, element);\n",
              "        const docLink = document.createElement('div');\n",
              "        docLink.innerHTML = docLinkHtml;\n",
              "        element.appendChild(docLink);\n",
              "      }\n",
              "    </script>\n",
              "  </div>\n",
              "\n",
              "\n",
              "<div id=\"df-d8f27056-acb4-4790-9e9f-6ffd44d7ec5a\">\n",
              "  <button class=\"colab-df-quickchart\" onclick=\"quickchart('df-d8f27056-acb4-4790-9e9f-6ffd44d7ec5a')\"\n",
              "            title=\"Suggest charts\"\n",
              "            style=\"display:none;\">\n",
              "\n",
              "<svg xmlns=\"http://www.w3.org/2000/svg\" height=\"24px\"viewBox=\"0 0 24 24\"\n",
              "     width=\"24px\">\n",
              "    <g>\n",
              "        <path d=\"M19 3H5c-1.1 0-2 .9-2 2v14c0 1.1.9 2 2 2h14c1.1 0 2-.9 2-2V5c0-1.1-.9-2-2-2zM9 17H7v-7h2v7zm4 0h-2V7h2v10zm4 0h-2v-4h2v4z\"/>\n",
              "    </g>\n",
              "</svg>\n",
              "  </button>\n",
              "\n",
              "<style>\n",
              "  .colab-df-quickchart {\n",
              "      --bg-color: #E8F0FE;\n",
              "      --fill-color: #1967D2;\n",
              "      --hover-bg-color: #E2EBFA;\n",
              "      --hover-fill-color: #174EA6;\n",
              "      --disabled-fill-color: #AAA;\n",
              "      --disabled-bg-color: #DDD;\n",
              "  }\n",
              "\n",
              "  [theme=dark] .colab-df-quickchart {\n",
              "      --bg-color: #3B4455;\n",
              "      --fill-color: #D2E3FC;\n",
              "      --hover-bg-color: #434B5C;\n",
              "      --hover-fill-color: #FFFFFF;\n",
              "      --disabled-bg-color: #3B4455;\n",
              "      --disabled-fill-color: #666;\n",
              "  }\n",
              "\n",
              "  .colab-df-quickchart {\n",
              "    background-color: var(--bg-color);\n",
              "    border: none;\n",
              "    border-radius: 50%;\n",
              "    cursor: pointer;\n",
              "    display: none;\n",
              "    fill: var(--fill-color);\n",
              "    height: 32px;\n",
              "    padding: 0;\n",
              "    width: 32px;\n",
              "  }\n",
              "\n",
              "  .colab-df-quickchart:hover {\n",
              "    background-color: var(--hover-bg-color);\n",
              "    box-shadow: 0 1px 2px rgba(60, 64, 67, 0.3), 0 1px 3px 1px rgba(60, 64, 67, 0.15);\n",
              "    fill: var(--button-hover-fill-color);\n",
              "  }\n",
              "\n",
              "  .colab-df-quickchart-complete:disabled,\n",
              "  .colab-df-quickchart-complete:disabled:hover {\n",
              "    background-color: var(--disabled-bg-color);\n",
              "    fill: var(--disabled-fill-color);\n",
              "    box-shadow: none;\n",
              "  }\n",
              "\n",
              "  .colab-df-spinner {\n",
              "    border: 2px solid var(--fill-color);\n",
              "    border-color: transparent;\n",
              "    border-bottom-color: var(--fill-color);\n",
              "    animation:\n",
              "      spin 1s steps(1) infinite;\n",
              "  }\n",
              "\n",
              "  @keyframes spin {\n",
              "    0% {\n",
              "      border-color: transparent;\n",
              "      border-bottom-color: var(--fill-color);\n",
              "      border-left-color: var(--fill-color);\n",
              "    }\n",
              "    20% {\n",
              "      border-color: transparent;\n",
              "      border-left-color: var(--fill-color);\n",
              "      border-top-color: var(--fill-color);\n",
              "    }\n",
              "    30% {\n",
              "      border-color: transparent;\n",
              "      border-left-color: var(--fill-color);\n",
              "      border-top-color: var(--fill-color);\n",
              "      border-right-color: var(--fill-color);\n",
              "    }\n",
              "    40% {\n",
              "      border-color: transparent;\n",
              "      border-right-color: var(--fill-color);\n",
              "      border-top-color: var(--fill-color);\n",
              "    }\n",
              "    60% {\n",
              "      border-color: transparent;\n",
              "      border-right-color: var(--fill-color);\n",
              "    }\n",
              "    80% {\n",
              "      border-color: transparent;\n",
              "      border-right-color: var(--fill-color);\n",
              "      border-bottom-color: var(--fill-color);\n",
              "    }\n",
              "    90% {\n",
              "      border-color: transparent;\n",
              "      border-bottom-color: var(--fill-color);\n",
              "    }\n",
              "  }\n",
              "</style>\n",
              "\n",
              "  <script>\n",
              "    async function quickchart(key) {\n",
              "      const quickchartButtonEl =\n",
              "        document.querySelector('#' + key + ' button');\n",
              "      quickchartButtonEl.disabled = true;  // To prevent multiple clicks.\n",
              "      quickchartButtonEl.classList.add('colab-df-spinner');\n",
              "      try {\n",
              "        const charts = await google.colab.kernel.invokeFunction(\n",
              "            'suggestCharts', [key], {});\n",
              "      } catch (error) {\n",
              "        console.error('Error during call to suggestCharts:', error);\n",
              "      }\n",
              "      quickchartButtonEl.classList.remove('colab-df-spinner');\n",
              "      quickchartButtonEl.classList.add('colab-df-quickchart-complete');\n",
              "    }\n",
              "    (() => {\n",
              "      let quickchartButtonEl =\n",
              "        document.querySelector('#df-d8f27056-acb4-4790-9e9f-6ffd44d7ec5a button');\n",
              "      quickchartButtonEl.style.display =\n",
              "        google.colab.kernel.accessAllowed ? 'block' : 'none';\n",
              "    })();\n",
              "  </script>\n",
              "</div>\n",
              "    </div>\n",
              "  </div>\n"
            ],
            "application/vnd.google.colaboratory.intrinsic+json": {
              "type": "dataframe",
              "variable_name": "df_l",
              "summary": "{\n  \"name\": \"df_l\",\n  \"rows\": 1418,\n  \"fields\": [\n    {\n      \"column\": \"Features\",\n      \"properties\": {\n        \"dtype\": \"number\",\n        \"std\": 1,\n        \"min\": 1,\n        \"max\": 7,\n        \"num_unique_values\": 7,\n        \"samples\": [\n          4,\n          3,\n          7\n        ],\n        \"semantic_type\": \"\",\n        \"description\": \"\"\n      }\n    },\n    {\n      \"column\": \"Amenities\",\n      \"properties\": {\n        \"dtype\": \"number\",\n        \"std\": 4,\n        \"min\": 1,\n        \"max\": 30,\n        \"num_unique_values\": 30,\n        \"samples\": [\n          30,\n          21,\n          25\n        ],\n        \"semantic_type\": \"\",\n        \"description\": \"\"\n      }\n    },\n    {\n      \"column\": \"Host Verifications\",\n      \"properties\": {\n        \"dtype\": \"number\",\n        \"std\": 1,\n        \"min\": 1,\n        \"max\": 10,\n        \"num_unique_values\": 10,\n        \"samples\": [\n          10,\n          6,\n          9\n        ],\n        \"semantic_type\": \"\",\n        \"description\": \"\"\n      }\n    }\n  ]\n}"
            }
          },
          "metadata": {},
          "execution_count": 291
        }
      ]
    },
    {
      "cell_type": "code",
      "source": [
        "df['Features'].fillna(\"\", inplace=True)\n",
        "df['Amenities'].fillna(\"\", inplace=True)\n",
        "df['Host Verifications'].fillna(\"\", inplace=True)\n",
        "\n",
        "df['Features'] = df['Features'].apply(lambda x: len(str(x).split(',')))\n",
        "df['Amenities'] = df['Amenities'].apply(lambda x: len(str(x).split(',')))\n",
        "df['Host Verifications'] = df['Host Verifications'].apply(lambda x: len(str(x).split(',')))"
      ],
      "metadata": {
        "id": "7Imqoq5xfQsU"
      },
      "execution_count": 292,
      "outputs": []
    },
    {
      "cell_type": "code",
      "source": [
        "df.columns"
      ],
      "metadata": {
        "colab": {
          "base_uri": "https://localhost:8080/"
        },
        "id": "r5i-VvH5fYj3",
        "outputId": "4244ee1e-45cc-459b-845a-60c8b7110d31"
      },
      "execution_count": 293,
      "outputs": [
        {
          "output_type": "execute_result",
          "data": {
            "text/plain": [
              "Index(['Experiences Offered', 'Host Since', 'Host Response Time',\n",
              "       'Host Response Rate', 'Host Verifications', 'Country Code', 'Latitude',\n",
              "       'Longitude', 'Property Type', 'Room Type', 'Bathrooms', 'Bedrooms',\n",
              "       'Beds', 'Bed Type', 'Amenities', 'Price', 'Security Deposit',\n",
              "       'Cleaning Fee', 'Guests Included', 'Extra People', 'Minimum Nights',\n",
              "       'Maximum Nights', 'Availability 365', 'Number of Reviews',\n",
              "       'Cancellation Policy', 'Features', 'Average Review',\n",
              "       'Final Neighbourhood'],\n",
              "      dtype='object')"
            ]
          },
          "metadata": {},
          "execution_count": 293
        }
      ]
    },
    {
      "cell_type": "code",
      "source": [
        "from datetime import datetime\n",
        "\n",
        "df.dropna(subset=['Host Since'], inplace=True) # se ha visto antes que solo hay tres valores missing, no se pierde mucho\n",
        "\n",
        "df['Host Since'] = df['Host Since'].apply(lambda x: datetime.strptime(str(x),'%Y-%m-%d'))\n",
        "df['Years Being Host'] = df['Host Since'].apply(lambda x: 2017 - x.year)\n",
        "\n",
        "df.drop(['Host Since'], axis=1, inplace=True)"
      ],
      "metadata": {
        "id": "BnMjQFIbfgj3"
      },
      "execution_count": 294,
      "outputs": []
    },
    {
      "cell_type": "markdown",
      "source": [
        "Categorización de Variables: Vemos el tipo de las columnas restantes. Las numéricas se convierten a float, y se va a hacer una limpieza general: cero baños, precio cero... esas cosas pueden y deben limpiarse al recoger los datos."
      ],
      "metadata": {
        "id": "DQsKtbQRfmJV"
      }
    },
    {
      "cell_type": "code",
      "source": [
        "print(f\"Registros con cero baños: {len(df[df['Bathrooms'] == 0])}\")\n",
        "print(f\"Registros con precio cero: {len(df[df['Price'] == 0])}\")\n",
        "\n",
        "df = df[df['Bathrooms'] != 0]\n",
        "df = df[df['Price'] != 0]"
      ],
      "metadata": {
        "colab": {
          "base_uri": "https://localhost:8080/"
        },
        "id": "W08D54WMfvjB",
        "outputId": "29e5ce82-2f08-4936-db94-79353fa4f74b"
      },
      "execution_count": 295,
      "outputs": [
        {
          "output_type": "stream",
          "name": "stdout",
          "text": [
            "Registros con cero baños: 9\n",
            "Registros con precio cero: 0\n"
          ]
        }
      ]
    },
    {
      "cell_type": "code",
      "source": [
        "list(df.select_dtypes(include=['object']).columns)"
      ],
      "metadata": {
        "colab": {
          "base_uri": "https://localhost:8080/"
        },
        "id": "k3Lq2S_xfyH-",
        "outputId": "4d9d2198-d55c-4e37-a446-9dc2fc6f119c"
      },
      "execution_count": 296,
      "outputs": [
        {
          "output_type": "execute_result",
          "data": {
            "text/plain": [
              "['Experiences Offered',\n",
              " 'Host Response Time',\n",
              " 'Country Code',\n",
              " 'Property Type',\n",
              " 'Room Type',\n",
              " 'Bed Type',\n",
              " 'Cancellation Policy',\n",
              " 'Final Neighbourhood']"
            ]
          },
          "metadata": {},
          "execution_count": 296
        }
      ]
    },
    {
      "cell_type": "code",
      "source": [
        "df_nn = df[list(df.select_dtypes(include=['object']).columns)]\n",
        "df_nn.apply(lambda x: len(x.unique())) # valores diferentes"
      ],
      "metadata": {
        "colab": {
          "base_uri": "https://localhost:8080/"
        },
        "id": "IxssZcxPf0iO",
        "outputId": "82c0c6ed-8b2d-4135-e2e0-993ae1cde03e"
      },
      "execution_count": 297,
      "outputs": [
        {
          "output_type": "execute_result",
          "data": {
            "text/plain": [
              "Experiences Offered     1\n",
              "Host Response Time      5\n",
              "Country Code            1\n",
              "Property Type          13\n",
              "Room Type               3\n",
              "Bed Type                5\n",
              "Cancellation Policy     3\n",
              "Final Neighbourhood    21\n",
              "dtype: int64"
            ]
          },
          "metadata": {},
          "execution_count": 297
        }
      ]
    },
    {
      "cell_type": "code",
      "source": [
        "len(df_nn) - df_nn.count() # solo market y host response time tienen missing values"
      ],
      "metadata": {
        "colab": {
          "base_uri": "https://localhost:8080/"
        },
        "id": "p7KpSLA8f3Ze",
        "outputId": "b89ee964-faa0-484e-f0d0-601c12a19cf2"
      },
      "execution_count": 298,
      "outputs": [
        {
          "output_type": "execute_result",
          "data": {
            "text/plain": [
              "Experiences Offered      0\n",
              "Host Response Time     193\n",
              "Country Code             0\n",
              "Property Type            0\n",
              "Room Type                0\n",
              "Bed Type                 0\n",
              "Cancellation Policy      0\n",
              "Final Neighbourhood      0\n",
              "dtype: int64"
            ]
          },
          "metadata": {},
          "execution_count": 298
        }
      ]
    },
    {
      "cell_type": "code",
      "source": [
        "df_nn[\"Host Response Time\"].value_counts()"
      ],
      "metadata": {
        "colab": {
          "base_uri": "https://localhost:8080/"
        },
        "id": "iXNYj6i0f5_U",
        "outputId": "c149f2e2-e22f-4da5-bf68-5e0278fc2da0"
      },
      "execution_count": 299,
      "outputs": [
        {
          "output_type": "execute_result",
          "data": {
            "text/plain": [
              "within an hour        791\n",
              "within a few hours    263\n",
              "within a day          142\n",
              "a few days or more     20\n",
              "Name: Host Response Time, dtype: int64"
            ]
          },
          "metadata": {},
          "execution_count": 299
        }
      ]
    },
    {
      "cell_type": "code",
      "source": [
        "df[\"Host Response Time\"].fillna(df[\"Host Response Time\"].mode()[0], inplace=True)"
      ],
      "metadata": {
        "id": "3-AvMIzJgBUb"
      },
      "execution_count": 300,
      "outputs": []
    },
    {
      "cell_type": "code",
      "source": [
        "df[\"Experiences Offered\"].value_counts()"
      ],
      "metadata": {
        "colab": {
          "base_uri": "https://localhost:8080/"
        },
        "id": "IVEEciBQgDA6",
        "outputId": "5756b9b3-d528-4a83-8821-8d3537da0df4"
      },
      "execution_count": 301,
      "outputs": [
        {
          "output_type": "execute_result",
          "data": {
            "text/plain": [
              "none    1409\n",
              "Name: Experiences Offered, dtype: int64"
            ]
          },
          "metadata": {},
          "execution_count": 301
        }
      ]
    },
    {
      "cell_type": "code",
      "source": [
        "df.drop(['Experiences Offered'], axis=1, inplace=True)"
      ],
      "metadata": {
        "id": "fQatLp27gGuU"
      },
      "execution_count": 302,
      "outputs": []
    },
    {
      "cell_type": "code",
      "source": [
        "df.drop(['Country Code'], axis=1, inplace=True)"
      ],
      "metadata": {
        "id": "MjAJkBgagUd_"
      },
      "execution_count": 303,
      "outputs": []
    },
    {
      "cell_type": "code",
      "source": [
        "categorical = ['Host Response Time', 'Property Type', 'Room Type', 'Bed Type', 'Cancellation Policy',\n",
        " 'Final Neighbourhood'\n",
        "]\n",
        "\n",
        "# Creamos un dict para usarlo después en test\n",
        "mean_map = {}\n",
        "for c in categorical:\n",
        "    mean = df.groupby(c)['Price'].mean()\n",
        "    df[c] = df[c].map(mean)\n",
        "    mean_map[c] = mean"
      ],
      "metadata": {
        "id": "pD5AS_llgb4o"
      },
      "execution_count": 304,
      "outputs": []
    },
    {
      "cell_type": "code",
      "source": [
        "cols = df.columns.tolist()\n",
        "cols.insert(0, cols.pop(cols.index('Price')))\n",
        "df = df[cols]\n",
        "\n",
        "df.fillna(df.mean(), inplace=True)\n",
        "df.isnull().any()"
      ],
      "metadata": {
        "colab": {
          "base_uri": "https://localhost:8080/"
        },
        "id": "sWCfZRDzgh0f",
        "outputId": "7583f4cd-e4f4-4e23-bfca-fdb878055655"
      },
      "execution_count": 305,
      "outputs": [
        {
          "output_type": "execute_result",
          "data": {
            "text/plain": [
              "Price                  False\n",
              "Host Response Time     False\n",
              "Host Response Rate     False\n",
              "Host Verifications     False\n",
              "Latitude               False\n",
              "Longitude              False\n",
              "Property Type          False\n",
              "Room Type              False\n",
              "Bathrooms              False\n",
              "Bedrooms               False\n",
              "Beds                   False\n",
              "Bed Type               False\n",
              "Amenities              False\n",
              "Security Deposit       False\n",
              "Cleaning Fee           False\n",
              "Guests Included        False\n",
              "Extra People           False\n",
              "Minimum Nights         False\n",
              "Maximum Nights         False\n",
              "Availability 365       False\n",
              "Number of Reviews      False\n",
              "Cancellation Policy    False\n",
              "Features               False\n",
              "Average Review         False\n",
              "Final Neighbourhood    False\n",
              "Years Being Host       False\n",
              "dtype: bool"
            ]
          },
          "metadata": {},
          "execution_count": 305
        }
      ]
    },
    {
      "cell_type": "markdown",
      "source": [
        "La longitud y longitud nos indican la geolocalización de los apartamentos. Como en el procesado nos hemos quedado con las ubicaciones de madrid, calcularemos la distancia que hay desde el centro de Madrid hasta el apartamento."
      ],
      "metadata": {
        "id": "iGjG35HNn6kA"
      }
    },
    {
      "cell_type": "code",
      "source": [
        "def haversine_distance(lat1, lon1, lat2, lon2):\n",
        "\t\"\"\" Calculo distancia haversine entre dos localizaciones\n",
        "\n",
        "    Parámetros:\n",
        "\tlat1 -- latitud posición 1\n",
        "\tlon1 -- longitud posicion 1\n",
        "\tlat2 -- latitud posición 2\n",
        "\tlon2 -- longitud posición 2\n",
        "\n",
        "    Returns:\n",
        "\tDistancia (en m) entre dos puntos\n",
        "\t\"\"\"\n",
        "\tlon1 = np.radians(lon1)\n",
        "\tlat1 = np.radians(lat1)\n",
        "\tlon2 = np.radians(lon2)\n",
        "\tlat2 = np.radians(lat2)\n",
        "\n",
        "\tr = 6371\n",
        "\n",
        "\tdlon = np.subtract(lon2, lon1)\n",
        "\tdlat = np.subtract(lat2, lat1)\n",
        "\n",
        "\ta = np.add(np.power(np.sin(np.divide(dlat, 2)), 2),\n",
        "               np.multiply(np.cos(lat1),\n",
        "                           np.multiply(np.cos(lat2),\n",
        "                                       np.power(np.sin(np.divide(dlon, 2)), 2))\n",
        "                           )\n",
        "              )\n",
        "\tc = np.multiply(2, np.arcsin(np.sqrt(a)))\n",
        "\n",
        "\treturn c*r*1000"
      ],
      "metadata": {
        "id": "lIZpqtm3n5yU"
      },
      "execution_count": 306,
      "outputs": []
    },
    {
      "cell_type": "markdown",
      "source": [
        "## 5. Preprocesado de los datos (en base al anterior apartado)"
      ],
      "metadata": {
        "id": "GKlu9Zcs7Vv2"
      }
    },
    {
      "cell_type": "code",
      "source": [
        "def elimina_columnas(df,columnas):\n",
        "\t\"\"\" Elimina columna(s) de dataframe\n",
        "\n",
        "\tParámetros:\n",
        "\tdf -- dataframe a procesar\n",
        "    columnas -- columna(s) a eliminar\n",
        "\n",
        "\tReturns:\n",
        "\tdf - dataframe procesado por lo criterios optados en el procesamiento\n",
        "\t\"\"\"\n",
        "\tdf = df.drop(columnas, axis=1)\n",
        "\treturn df\n",
        "\n",
        "def prepoc_df(df,imagenes):\n",
        "\t\"\"\" Procesamiento del dataframe con la ingeniería de características hecha en el procesamiento\n",
        "\n",
        "\tParámetros:\n",
        "\tdf - dataframe a procesar\n",
        "\n",
        "\tReturns:\n",
        "\tdf - dataframe procesado por lo criterios optados en el procesamiento\n",
        "\timages - imagenes asociadas al dataframe\n",
        "\t\"\"\"\n",
        "\n",
        "\n",
        "\t#Longitud y Latitud centro madrid para calcular la distancia haversine\n",
        "\tcentro_madrid_lat = 40.41831\n",
        "\tcentro_madrid_lon = -3.70275\n",
        "\n",
        "\n",
        "\tnot_useful_columns = [\n",
        "\t\t\t'ID', 'Listing Url', 'Scrape ID', 'Last Scraped', 'Thumbnail Url', 'Medium Url',\n",
        "\t\t\t'Picture Url', 'XL Picture Url', 'Host ID', 'Host URL', 'Host Name',\n",
        "\t\t\t'Host Thumbnail Url', 'Host Picture Url', 'Host Neighbourhood', 'Weekly Price',\n",
        "\t\t\t'Monthly Price', 'Calendar Updated', 'Calendar last Scraped', 'First Review',\n",
        "\t\t\t'Last Review', 'Reviews per Month', 'Geolocation', 'Calculated host listings count',\n",
        "\t\t\t'Host Listings Count', 'Host Total Listings Count'\n",
        "\t]\n",
        "\n",
        "\tsomehow_useful_columns_but_droppable_anyway = ['Name', 'Summary', 'Space', 'Description',\n",
        "\t\t\t\t'Neighborhood Overview', 'Notes', 'Transit', 'Access', 'Interaction', 'House Rules',\n",
        "\t\t\t\t'Host Location', 'Host About']\n",
        "\n",
        "\n",
        "\tnot_useful_columns_2 = ['Street', 'State', 'Market', 'Smart Location', 'Country', 'Zipcode']\n",
        "\n",
        "\tcolumns_with_too_many_missing_values = [\n",
        "\t\t\t'Host Acceptance Rate', 'Square Feet', 'Has Availability', 'License', 'Jurisdiction Names'\n",
        "\t]\n",
        "\n",
        "  #Quitamos las columnas con su mayoría de variables a nulos\n",
        "\tdf = elimina_columnas(df,not_useful_columns)\n",
        "  #Quitamos aquellas variables que no aprotan valor a la solución del problema\n",
        "\tdf = elimina_columnas(df,somehow_useful_columns_but_droppable_anyway)\n",
        "   #Quitamos las columnas con su mayoría de variables a nulos\n",
        "\tdf = elimina_columnas(df,not_useful_columns_2)\n",
        "  #Quitamos aquellas variables que no aprotan valor a la solución del problema\n",
        "\tdf = elimina_columnas(df,columns_with_too_many_missing_values)\n",
        "  #Price entre 20 y 120 €\n",
        "\tdf = df [(df['Price']>20) & (df['Price']<150)]\n",
        "  #Nos quedamos solo con los apartamentos\n",
        "\tdf  = df[df['Property Type']==\"Apartment\"]\n",
        "\tdf = elimina_columnas(df,['Property Type'])\n",
        "\t#Nos quedamos con aquellos pisos que se encuentran en Madrid\n",
        "\tdf = df[df['City'].str.contains(\"Mad\",na=False, case=False)]\n",
        "  #Room type diferente a shared\n",
        "\tdf = df [df['Room Type'] !=\"Shared room\"]\n",
        "  #Bed type igual a Real bed\n",
        "\tdf = df [df['Bed Type'] ==\"Real Bed\"]\n",
        "\tdf = elimina_columnas(df,['Bed Type'])\n",
        "\t#Quitamos entradas con 0 baños\n",
        "\tdf = df[df['Bathrooms'] != 0]\n",
        "  #Aplicamos distancia harvesine para saber a qué distancia del centro están\n",
        "\tdf = df .assign(centro =  lambda x: haversine_distance(x['Latitude'],x['Longitude'],centro_madrid_lat,centro_madrid_lon))\n",
        "  #Eliminamos columnas las cuales hemos generado nuevas variables relacionado con la localización\n",
        "\tdf = elimina_columnas(df,['City','Longitude','Latitude',\"Neighbourhood\", \"Neighbourhood Group Cleansed\", \"Neighbourhood Cleansed\"])\n",
        "\n",
        "\n",
        "\t#medias reviews\n",
        "\treviews = df.loc[: , \"Review Scores Rating\":\"Review Scores Value\"]\n",
        "\tdf['Average Review'] = reviews.mean(axis=1)\n",
        "\n",
        "\tdf.drop(['Availability 30', 'Availability 60', 'Availability 90', 'Review Scores Rating',\n",
        "\t\t\t\t   'Review Scores Accuracy', 'Review Scores Cleanliness', 'Review Scores Checkin',\n",
        "\t\t\t\t\t 'Review Scores Communication', 'Review Scores Location', 'Review Scores Value',\n",
        "\t\t\t\t\t 'Accommodates'], axis=1, inplace=True)\n",
        "\n",
        "\n",
        "\t#Features , Amenities , Host verifications conteo\n",
        "\tdf['Features'].fillna(\"\", inplace=True)\n",
        "\tdf['Amenities'].fillna(\"\", inplace=True)\n",
        "\tdf['Host Verifications'].fillna(\"\", inplace=True)\n",
        "\n",
        "\tdf['Features'] = df['Features'].apply(lambda x: len(str(x).split(',')))\n",
        "\tdf['Amenities'] = df['Amenities'].apply(lambda x: len(str(x).split(',')))\n",
        "\tdf['Host Verifications'] = df['Host Verifications'].apply(lambda x: len(str(x).split(',')))\n",
        "\n",
        "\n",
        "\t#años de inquilino\n",
        "\tfrom datetime import datetime\n",
        "\tdf.dropna(subset=['Host Since'], inplace=True)\n",
        "\tdf['Host Since'] = df['Host Since'].apply(lambda x: datetime.strptime(str(x),'%Y-%m-%d'))\n",
        "\tdf['Years Being Host'] = df['Host Since'].apply(lambda x: 2017 - x.year)\n",
        "\tdf.drop(['Host Since'], axis=1, inplace=True)\n",
        "\n",
        "\n",
        "\tdf[\"Host Response Time\"].fillna(df[\"Host Response Time\"].mode()[0], inplace=True)\n",
        "\tdf.drop(['Experiences Offered'], axis=1, inplace=True)\n",
        "\tdf.drop(['Country Code'], axis=1, inplace=True)\n",
        "\n",
        "\n",
        "\t# Variable categóricas a numéricas\n",
        "\tdf['Host Response Time']  = df['Host Response Time'].astype(dummies_type_Host_Response_Time)\n",
        "\tdf['Room Type'] \t\t\t\t  = df['Room Type'].astype(dummies_type_Room_Type)\n",
        "\tdf['Cancellation Policy'] = df['Cancellation Policy'].astype(dummies_type_Cancellation_Policy)\n",
        "\tHost_Response_Time  = pd.get_dummies(df[['Host Response Time']], prefix='Host_Response_Time')\n",
        "\tRoom_Type           = pd.get_dummies(df[['Room Type']], prefix='Room_Type')\n",
        "\tCancellation_Policy = pd.get_dummies(df[['Cancellation Policy']], prefix='Cancellation_Policy')\n",
        "\n",
        "\tcategorical_data = pd.concat([Host_Response_Time,Room_Type,Cancellation_Policy], axis=1, join='inner')\n",
        "\tdf = pd.concat([df,categorical_data], axis=1)\n",
        "\n",
        "\tdf = elimina_columnas(df,['Host Response Time','Room Type','Cancellation Policy'])\n",
        "\n",
        "\n",
        "\n",
        "\t# Rellenamos valores nulos sobrantes con la media\n",
        "\tdf.fillna(df.mean(), inplace=True)\n",
        "\n",
        "\n",
        "\t#Nos quedamos con las imagenes de los registros válidos\n",
        "\tindices = df.index\n",
        "\timagenes = imagenes[indices]\n",
        "\n",
        "\treturn df , imagenes\n"
      ],
      "metadata": {
        "id": "ZkYNnbwM7oPR"
      },
      "execution_count": 307,
      "outputs": []
    },
    {
      "cell_type": "code",
      "source": [
        "# Montamos (al ejecutarse en distintos dias el Drive)\n",
        "from google.colab import drive\n",
        "drive.mount('/content/drive')"
      ],
      "metadata": {
        "colab": {
          "base_uri": "https://localhost:8080/"
        },
        "id": "JR2PqCWnzHao",
        "outputId": "af4ebba6-a1a0-4a4f-e62b-71d966827624"
      },
      "execution_count": 308,
      "outputs": [
        {
          "output_type": "stream",
          "name": "stdout",
          "text": [
            "Drive already mounted at /content/drive; to attempt to forcibly remount, call drive.mount(\"/content/drive\", force_remount=True).\n"
          ]
        }
      ]
    },
    {
      "cell_type": "code",
      "source": [
        "#Cargamos TRain\n",
        "data_train   = pd.read_csv(\"/content/drive/MyDrive/train_1D.csv\", sep=';')\n",
        "images_train = np.load(\"/content/drive/MyDrive/train_images.npy\")\n",
        "\n",
        "#Cargamos Valid\n",
        "data_valid  = pd.read_csv(\"/content/drive/MyDrive/valid_1D.csv\", sep=';', decimal='.')\n",
        "images_valid = np.load(\"/content/drive/MyDrive/valid_images.npy\")\n",
        "\n",
        "\n",
        "#Cargamos TEst\n",
        "data_test   = pd.read_csv('/content/drive/MyDrive/test_1D.csv', sep=';', decimal='.')\n",
        "images_test = np.load(\"/content/drive/MyDrive/test_images.npy\")"
      ],
      "metadata": {
        "id": "FYvkhmqb77WT"
      },
      "execution_count": 309,
      "outputs": []
    },
    {
      "cell_type": "code",
      "source": [
        "df_train_transform, images_train = transform(data_train,images_train)\n",
        "df_valid_transform, images_valid = transform(data_valid,images_valid)\n",
        "df_test_transform, images_test   = transform(data_test,images_test)"
      ],
      "metadata": {
        "id": "tLSlG4wF9PQn",
        "colab": {
          "base_uri": "https://localhost:8080/"
        },
        "outputId": "fd46f8aa-7087-47b6-aa96-1d02d7dfa63b"
      },
      "execution_count": 310,
      "outputs": [
        {
          "output_type": "stream",
          "name": "stderr",
          "text": [
            "<ipython-input-103-57b2f8187572>:96: FutureWarning: The default value of numeric_only in DataFrame.mean is deprecated. In a future version, it will default to False. In addition, specifying 'numeric_only=None' is deprecated. Select only valid columns or specify the value of numeric_only to silence this warning.\n",
            "  df.fillna(df.mean(), inplace=True)\n",
            "<ipython-input-103-57b2f8187572>:96: FutureWarning: The default value of numeric_only in DataFrame.mean is deprecated. In a future version, it will default to False. In addition, specifying 'numeric_only=None' is deprecated. Select only valid columns or specify the value of numeric_only to silence this warning.\n",
            "  df.fillna(df.mean(), inplace=True)\n",
            "<ipython-input-103-57b2f8187572>:96: FutureWarning: The default value of numeric_only in DataFrame.mean is deprecated. In a future version, it will default to False. In addition, specifying 'numeric_only=None' is deprecated. Select only valid columns or specify the value of numeric_only to silence this warning.\n",
            "  df.fillna(df.mean(), inplace=True)\n"
          ]
        }
      ]
    },
    {
      "cell_type": "code",
      "source": [
        "print(f\"Dimensiones del dataset de train antes del preprocesamiento: {data_train.shape}\")\n",
        "print(f\"Dimensiones del dataset de valid antes del preprocesamiento: {data_valid.shape}\")\n",
        "print(f\"Dimensiones del dataset de test antes del preprocesamiento: {data_test.shape}\")\n",
        "\n",
        "\n",
        "print(f\"Dimensiones del dataset de train después del preprocesamiento: {df_train_transform.shape}\")\n",
        "print(f\"Dimensiones del dataset de valid después del preprocesamiento: {df_valid_transform.shape}\")\n",
        "print(f\"Dimensiones del dataset de test después del preprocesamiento: {df_test_transform.shape}\")"
      ],
      "metadata": {
        "colab": {
          "base_uri": "https://localhost:8080/"
        },
        "id": "eDarRjN8wFux",
        "outputId": "6e7d0a7c-3e80-4c7c-a45f-a3868d40c797"
      },
      "execution_count": 311,
      "outputs": [
        {
          "output_type": "stream",
          "name": "stdout",
          "text": [
            "Dimensiones del dataset de train antes del preprocesamiento: (1489, 89)\n",
            "Dimensiones del dataset de valid antes del preprocesamiento: (187, 89)\n",
            "Dimensiones del dataset de test antes del preprocesamiento: (186, 89)\n",
            "Dimensiones del dataset de train después del preprocesamiento: (1139, 22)\n",
            "Dimensiones del dataset de valid después del preprocesamiento: (147, 22)\n",
            "Dimensiones del dataset de test después del preprocesamiento: (141, 22)\n"
          ]
        }
      ]
    },
    {
      "cell_type": "code",
      "source": [
        "#Comprobamos que no haya valores nulos\n",
        "\n",
        "df_train_transform.isna().sum()"
      ],
      "metadata": {
        "colab": {
          "base_uri": "https://localhost:8080/"
        },
        "id": "Pw0sgKZV7RG2",
        "outputId": "1fb6dd9b-895f-4f36-e149-6442375d8c09"
      },
      "execution_count": 312,
      "outputs": [
        {
          "output_type": "execute_result",
          "data": {
            "text/plain": [
              "Host Response Time     0\n",
              "Host Response Rate     0\n",
              "Host Verifications     0\n",
              "Room Type              0\n",
              "Bathrooms              0\n",
              "Bedrooms               0\n",
              "Beds                   0\n",
              "Amenities              0\n",
              "Price                  0\n",
              "Security Deposit       0\n",
              "Cleaning Fee           0\n",
              "Guests Included        0\n",
              "Extra People           0\n",
              "Minimum Nights         0\n",
              "Maximum Nights         0\n",
              "Availability 365       0\n",
              "Number of Reviews      0\n",
              "Cancellation Policy    0\n",
              "Features               0\n",
              "centro                 0\n",
              "Average Review         0\n",
              "Years Being Host       0\n",
              "dtype: int64"
            ]
          },
          "metadata": {},
          "execution_count": 312
        }
      ]
    },
    {
      "cell_type": "code",
      "source": [
        "#Comprobamos que no haya valores nulos\n",
        "\n",
        "df_train_transform.isnull().any()"
      ],
      "metadata": {
        "colab": {
          "base_uri": "https://localhost:8080/"
        },
        "id": "ddYhndtk7aF_",
        "outputId": "723e26d3-1902-4f62-d4a1-2c6e41ff2455"
      },
      "execution_count": 313,
      "outputs": [
        {
          "output_type": "execute_result",
          "data": {
            "text/plain": [
              "Host Response Time     False\n",
              "Host Response Rate     False\n",
              "Host Verifications     False\n",
              "Room Type              False\n",
              "Bathrooms              False\n",
              "Bedrooms               False\n",
              "Beds                   False\n",
              "Amenities              False\n",
              "Price                  False\n",
              "Security Deposit       False\n",
              "Cleaning Fee           False\n",
              "Guests Included        False\n",
              "Extra People           False\n",
              "Minimum Nights         False\n",
              "Maximum Nights         False\n",
              "Availability 365       False\n",
              "Number of Reviews      False\n",
              "Cancellation Policy    False\n",
              "Features               False\n",
              "centro                 False\n",
              "Average Review         False\n",
              "Years Being Host       False\n",
              "dtype: bool"
            ]
          },
          "metadata": {},
          "execution_count": 313
        }
      ]
    },
    {
      "cell_type": "markdown",
      "source": [
        "Escalado"
      ],
      "metadata": {
        "id": "9HAw0r9VBO_7"
      }
    },
    {
      "cell_type": "code",
      "source": [
        "#Funcion para mostrar tipo de columnas\n",
        "def tipo_columnas(df):\n",
        "    \"\"\"Información sobre columnas numéricas y no numéricas de un dataframe.\n",
        "\n",
        "\tParámetros:\n",
        "\tdf -- dataframe\n",
        "\n",
        "\tReturns:\n",
        "\tnum --  array con columnas numéricas('int','float')\n",
        "\tnot_num -- array con columnas no numéricas.\n",
        "\t\"\"\"\n",
        "    columnas_numericas = df.select_dtypes(include=['int', 'float','uint8']).columns\n",
        "    print(f\"Columnas numéricas: {len(columnas_numericas)} columnas.\")\n",
        "    print(', '.join(columnas_numericas))\n",
        "    # Obtener las columnas de tipo no numérico\n",
        "    columnas_no_numericas = df.select_dtypes(exclude=['int', 'float','uint8']).columns\n",
        "    print(f\"Columnas no númericas: {len(columnas_no_numericas)} columnas.\")\n",
        "    print(', '.join(columnas_no_numericas))\n",
        "    return columnas_numericas , columnas_no_numericas"
      ],
      "metadata": {
        "id": "Z-ibGaPoBgqA"
      },
      "execution_count": 314,
      "outputs": []
    },
    {
      "cell_type": "code",
      "source": [
        "#comprobamos numero de columnas numericas y categoricas\n",
        "\n",
        "col_num , col_not_num = tipo_columnas(df_train_transform)"
      ],
      "metadata": {
        "colab": {
          "base_uri": "https://localhost:8080/"
        },
        "id": "tCr4YiGtBSb_",
        "outputId": "68cb1cc8-839b-4763-b722-17663061a87e"
      },
      "execution_count": 315,
      "outputs": [
        {
          "output_type": "stream",
          "name": "stdout",
          "text": [
            "Columnas numéricas: 22 columnas.\n",
            "Host Response Time, Host Response Rate, Host Verifications, Room Type, Bathrooms, Bedrooms, Beds, Amenities, Price, Security Deposit, Cleaning Fee, Guests Included, Extra People, Minimum Nights, Maximum Nights, Availability 365, Number of Reviews, Cancellation Policy, Features, centro, Average Review, Years Being Host\n",
            "Columnas no númericas: 0 columnas.\n",
            "\n"
          ]
        }
      ]
    },
    {
      "cell_type": "code",
      "source": [
        "# Separacion x e y\n",
        "features = df_train_transform[col_num].columns.drop(['Price'])\n",
        "num_features = len(features)\n",
        "x_train  = df_train_transform[features].values\n",
        "y_train  = df_train_transform['Price'].values\n",
        "x_valid  = df_valid_transform[features].values\n",
        "y_valid  = df_valid_transform['Price'].values\n",
        "x_test   = df_test_transform[features].values\n",
        "y_test   = df_test_transform['Price'].values\n",
        "\n",
        "\n",
        "#Escalamos entre 0 y 1 (con los datos de train)\n",
        "scaler = StandardScaler().fit(x_train)\n",
        "x_train = scaler.transform(x_train)\n",
        "x_valid = scaler.transform(x_valid)\n",
        "x_test = scaler.transform(x_test)\n",
        "\n",
        "print(f'{x_train.shape} Dimensiones de train')\n",
        "print(f'{x_valid.shape}  Dimensiones de valid')\n",
        "print(f'{x_test.shape}  Dimensiones de test')\n",
        "print(f'{y_train.shape} Dimensiones variable objetivo train')\n",
        "print(f'{y_valid.shape} Dimensiones variable objetivo valid')\n",
        "print(f'{y_test.shape}  Dimensiones variable objetivo test')\n",
        "\n"
      ],
      "metadata": {
        "colab": {
          "base_uri": "https://localhost:8080/"
        },
        "id": "aM3rhpItCUyZ",
        "outputId": "ef7923b7-53b7-4013-c454-853eb5adcd9e"
      },
      "execution_count": 316,
      "outputs": [
        {
          "output_type": "stream",
          "name": "stdout",
          "text": [
            "(1139, 21) Dimensiones de train\n",
            "(147, 21)  Dimensiones de valid\n",
            "(141, 21)  Dimensiones de test\n",
            "(1139,) Dimensiones variable objetivo train\n",
            "(147,) Dimensiones variable objetivo valid\n",
            "(141,)  Dimensiones variable objetivo test\n"
          ]
        }
      ]
    },
    {
      "cell_type": "code",
      "source": [
        "\n",
        "#Creamos las Clases\n",
        "y_train_multiclass = np.where(y_train < 45, 0 , (np.where(   np.logical_and(y_train >= 45,y_train <= 70) , 1 ,2)))\n",
        "y_valid_multiclass = np.where(y_valid < 45, 0 , (np.where(   np.logical_and(y_valid >= 45,y_valid <= 70) , 1 ,2)))\n",
        "y_test_multiclass  = np.where(y_test  < 45, 0  ,(np.where(   np.logical_and(y_test  >= 45,y_test  <= 70) , 1 ,2)))"
      ],
      "metadata": {
        "id": "g5MqQDyN9HJN"
      },
      "execution_count": 317,
      "outputs": []
    },
    {
      "cell_type": "code",
      "source": [
        "np.unique(y_train_multiclass, return_counts=True),np.unique(y_valid_multiclass, return_counts=True),np.unique(y_test_multiclass, return_counts=True)"
      ],
      "metadata": {
        "colab": {
          "base_uri": "https://localhost:8080/"
        },
        "id": "MvMDSvQg9V6f",
        "outputId": "6d6b03e3-cae6-442d-a724-2cf4756b38d6"
      },
      "execution_count": 318,
      "outputs": [
        {
          "output_type": "execute_result",
          "data": {
            "text/plain": [
              "((array([0, 1, 2]), array([468, 326, 345])),\n",
              " (array([0, 1, 2]), array([54, 49, 44])),\n",
              " (array([0, 1, 2]), array([59, 43, 39])))"
            ]
          },
          "metadata": {},
          "execution_count": 318
        }
      ]
    },
    {
      "cell_type": "code",
      "source": [
        "y_train_multiclass_cat =  to_categorical(y_train_multiclass)\n",
        "y_valid_multiclass_cat =  to_categorical(y_valid_multiclass)\n",
        "y_test_multiclass_cat  =  to_categorical(y_test_multiclass)"
      ],
      "metadata": {
        "id": "7XCiVcE0-eEf"
      },
      "execution_count": 319,
      "outputs": []
    },
    {
      "cell_type": "markdown",
      "source": [
        "## 6. Modelo Basado en Datos"
      ],
      "metadata": {
        "id": "EueRdeuE6fOm"
      }
    },
    {
      "cell_type": "markdown",
      "source": [
        "### 6.1 Funciones Auxiliares\n"
      ],
      "metadata": {
        "id": "glJcqB6J8XvI"
      }
    },
    {
      "cell_type": "markdown",
      "source": [
        "Funciones de ayuda\n",
        "\n",
        "Desnormalizar los resultados\n",
        "Dibujar graficas\n",
        "Resetar los pesos de modelo"
      ],
      "metadata": {
        "id": "NAha4jSfAGN9"
      }
    },
    {
      "cell_type": "code",
      "source": [
        "#Representación gráfica de la curvas loss / acurracy en train y validation\n",
        "def plot_loss_curves(history):\n",
        "  # \"\"\"\n",
        "  # Returns separate loss curves for training and validation metrics.\n",
        "\n",
        "  # Args:\n",
        "  #   history: TensorFlow model History object\n",
        "  # \"\"\"\n",
        "  # loss = history.history['loss']\n",
        "  # val_loss = history.history['val_loss']\n",
        "\n",
        "  # accuracy = history.history['accuracy']\n",
        "  # val_accuracy = history.history['val_accuracy']\n",
        "\n",
        "  # epochs = range(len(history.history['loss']))\n",
        "\n",
        "  # # Plot loss\n",
        "  # plt.plot(epochs, loss, label='training_loss')\n",
        "  # plt.plot(epochs, val_loss, label='val_loss')\n",
        "  # plt.title('Loss')\n",
        "  # plt.xlabel('Epochs')\n",
        "  # plt.legend()\n",
        "\n",
        "  # # Plot accuracy\n",
        "  # plt.figure()\n",
        "  # plt.plot(epochs, accuracy, label='training_accuracy')\n",
        "  # plt.plot(epochs, val_accuracy, label='val_accuracy')\n",
        "  # plt.title('Accuracy')\n",
        "  # plt.xlabel('Epochs')\n",
        "  # plt.legend();\n",
        "\n",
        "  \"\"\"\n",
        "  Returns separate loss curves for training and validation metrics in two columns.\n",
        "\n",
        "  Args:\n",
        "    history: TensorFlow model History object\n",
        "  \"\"\"\n",
        "  loss = history.history['loss']\n",
        "  val_loss = history.history['val_loss']\n",
        "\n",
        "  accuracy = history.history['accuracy']\n",
        "  val_accuracy = history.history['val_accuracy']\n",
        "\n",
        "  epochs = range(len(history.history['loss']))\n",
        "\n",
        "  # Create subplots with 1 row and 2 columns\n",
        "  plt.figure(figsize=(12, 5))  # Adjust the figure size as needed\n",
        "  plt.subplots_adjust(wspace=0.3)  # Adjust the horizontal space between subplots\n",
        "\n",
        "  # Plot loss in the first subplot (1, 2, 1)\n",
        "  plt.subplot(1, 2, 1)\n",
        "  plt.plot(epochs, loss, label='training_loss')\n",
        "  plt.plot(epochs, val_loss, label='val_loss')\n",
        "  plt.title('Loss')\n",
        "  plt.xlabel('Epochs')\n",
        "  plt.legend()\n",
        "\n",
        "  # Plot accuracy in the second subplot (1, 2, 2)\n",
        "  plt.subplot(1, 2, 2)\n",
        "  plt.plot(epochs, accuracy, label='training_accuracy')\n",
        "  plt.plot(epochs, val_accuracy, label='val_accuracy')\n",
        "  plt.title('Accuracy')\n",
        "  plt.xlabel('Epochs')\n",
        "  plt.legend()\n",
        "\n",
        "  plt.show()"
      ],
      "metadata": {
        "id": "ETAEjKTu_tI8"
      },
      "execution_count": 320,
      "outputs": []
    },
    {
      "cell_type": "markdown",
      "source": [
        "### 6.2 Modelo basado en Datos"
      ],
      "metadata": {
        "id": "orUndCaV_10x"
      }
    },
    {
      "cell_type": "code",
      "source": [
        "# Creamos un modelo para hacer primero clasificación multiclase\n",
        "print(f\"Input size: {x_train.shape[1]}\")\n",
        "\n",
        "num_clases =3\n",
        "classificator1D = tf.keras.Sequential(name=\"Clasificador_datos_tabulares\")\n",
        "classificator1D.add(Dense(64, input_shape=(x_train.shape[1],), activation='relu'))\n",
        "classificator1D.add(Dense(32, activation='relu'))\n",
        "classificator1D.add(Dropout(0.2))\n",
        "classificator1D.add(Dense(8, activation='relu'))\n",
        "classificator1D.add(Dense(num_clases, activation='softmax')) # Sin función de activación"
      ],
      "metadata": {
        "id": "oWk0vGx98AAq",
        "colab": {
          "base_uri": "https://localhost:8080/"
        },
        "outputId": "e89054a6-4694-45a4-e25d-de6bd2178bdd"
      },
      "execution_count": 321,
      "outputs": [
        {
          "output_type": "stream",
          "name": "stdout",
          "text": [
            "Input size: 21\n"
          ]
        }
      ]
    },
    {
      "cell_type": "code",
      "source": [
        "classificator1D.compile(loss='categorical_crossentropy', optimizer='adam',metrics=['accuracy'])\n",
        "classificator1D.summary()"
      ],
      "metadata": {
        "colab": {
          "base_uri": "https://localhost:8080/"
        },
        "id": "F8zl_BgD9631",
        "outputId": "fdb87607-17dd-45ce-a1b5-857e986dc8ac"
      },
      "execution_count": 322,
      "outputs": [
        {
          "output_type": "stream",
          "name": "stdout",
          "text": [
            "Model: \"Clasificador_datos_tabulares\"\n",
            "_________________________________________________________________\n",
            " Layer (type)                Output Shape              Param #   \n",
            "=================================================================\n",
            " dense_60 (Dense)            (None, 64)                1408      \n",
            "                                                                 \n",
            " dense_61 (Dense)            (None, 32)                2080      \n",
            "                                                                 \n",
            " dropout_12 (Dropout)        (None, 32)                0         \n",
            "                                                                 \n",
            " dense_62 (Dense)            (None, 8)                 264       \n",
            "                                                                 \n",
            " dense_63 (Dense)            (None, 3)                 27        \n",
            "                                                                 \n",
            "=================================================================\n",
            "Total params: 3779 (14.76 KB)\n",
            "Trainable params: 3779 (14.76 KB)\n",
            "Non-trainable params: 0 (0.00 Byte)\n",
            "_________________________________________________________________\n"
          ]
        }
      ]
    },
    {
      "cell_type": "markdown",
      "source": [],
      "metadata": {
        "id": "tpH2iqw2-CSe"
      }
    },
    {
      "cell_type": "code",
      "source": [
        "from tensorflow.keras.utils import plot_model\n",
        "plot_model(classificator1D, show_shapes=True, show_layer_names=True)"
      ],
      "metadata": {
        "id": "xVGDaZba77PW",
        "colab": {
          "base_uri": "https://localhost:8080/",
          "height": 644
        },
        "outputId": "a00130f9-2624-4f27-c618-321e75d7b6de"
      },
      "execution_count": 323,
      "outputs": [
        {
          "output_type": "execute_result",
          "data": {
            "image/png": "[encoded data removed]",
            "text/plain": [
              "<IPython.core.display.Image object>"
            ]
          },
          "metadata": {},
          "execution_count": 323
        }
      ]
    },
    {
      "cell_type": "code",
      "source": [
        "# Entrenamos un número fijo de épocas\n",
        "epochs = 20\n",
        "batch_size = 32\n",
        "\n",
        "history_classificator1D = classificator1D.fit(x=x_train,\n",
        "                        y=y_train_multiclass_cat,\n",
        "                        batch_size=batch_size,\n",
        "                        epochs=epochs,\n",
        "                        validation_data=(x_valid, y_valid_multiclass_cat),\n",
        "                        verbose=1)"
      ],
      "metadata": {
        "colab": {
          "base_uri": "https://localhost:8080/"
        },
        "id": "PTYc1ePuq3Ba",
        "outputId": "cfb35098-9e50-4ba6-c19f-b10677433ef9"
      },
      "execution_count": 324,
      "outputs": [
        {
          "output_type": "stream",
          "name": "stdout",
          "text": [
            "Epoch 1/20\n",
            "36/36 [==============================] - 2s 14ms/step - loss: 1.0407 - accuracy: 0.4522 - val_loss: 0.9533 - val_accuracy: 0.5850\n",
            "Epoch 2/20\n",
            "36/36 [==============================] - 0s 5ms/step - loss: 0.8438 - accuracy: 0.6576 - val_loss: 0.8319 - val_accuracy: 0.6190\n",
            "Epoch 3/20\n",
            "36/36 [==============================] - 0s 6ms/step - loss: 0.7175 - accuracy: 0.7076 - val_loss: 0.7357 - val_accuracy: 0.7075\n",
            "Epoch 4/20\n",
            "36/36 [==============================] - 0s 5ms/step - loss: 0.6586 - accuracy: 0.7410 - val_loss: 0.6956 - val_accuracy: 0.7075\n",
            "Epoch 5/20\n",
            "36/36 [==============================] - 0s 4ms/step - loss: 0.6028 - accuracy: 0.7568 - val_loss: 0.6892 - val_accuracy: 0.7007\n",
            "Epoch 6/20\n",
            "36/36 [==============================] - 0s 5ms/step - loss: 0.5672 - accuracy: 0.7709 - val_loss: 0.7050 - val_accuracy: 0.7143\n",
            "Epoch 7/20\n",
            "36/36 [==============================] - 0s 3ms/step - loss: 0.5532 - accuracy: 0.7770 - val_loss: 0.7063 - val_accuracy: 0.7075\n",
            "Epoch 8/20\n",
            "36/36 [==============================] - 0s 4ms/step - loss: 0.5411 - accuracy: 0.7893 - val_loss: 0.6948 - val_accuracy: 0.7075\n",
            "Epoch 9/20\n",
            "36/36 [==============================] - 0s 4ms/step - loss: 0.5337 - accuracy: 0.7919 - val_loss: 0.7088 - val_accuracy: 0.7075\n",
            "Epoch 10/20\n",
            "36/36 [==============================] - 0s 3ms/step - loss: 0.5122 - accuracy: 0.7972 - val_loss: 0.7041 - val_accuracy: 0.7211\n",
            "Epoch 11/20\n",
            "36/36 [==============================] - 0s 5ms/step - loss: 0.5134 - accuracy: 0.7902 - val_loss: 0.7004 - val_accuracy: 0.7143\n",
            "Epoch 12/20\n",
            "36/36 [==============================] - 0s 3ms/step - loss: 0.4935 - accuracy: 0.8025 - val_loss: 0.6996 - val_accuracy: 0.7143\n",
            "Epoch 13/20\n",
            "36/36 [==============================] - 0s 3ms/step - loss: 0.4938 - accuracy: 0.7954 - val_loss: 0.7055 - val_accuracy: 0.7075\n",
            "Epoch 14/20\n",
            "36/36 [==============================] - 0s 3ms/step - loss: 0.4815 - accuracy: 0.8244 - val_loss: 0.6961 - val_accuracy: 0.7143\n",
            "Epoch 15/20\n",
            "36/36 [==============================] - 0s 3ms/step - loss: 0.4660 - accuracy: 0.8262 - val_loss: 0.7117 - val_accuracy: 0.7075\n",
            "Epoch 16/20\n",
            "36/36 [==============================] - 0s 3ms/step - loss: 0.4499 - accuracy: 0.8253 - val_loss: 0.7096 - val_accuracy: 0.7211\n",
            "Epoch 17/20\n",
            "36/36 [==============================] - 0s 3ms/step - loss: 0.4542 - accuracy: 0.8200 - val_loss: 0.7132 - val_accuracy: 0.6939\n",
            "Epoch 18/20\n",
            "36/36 [==============================] - 0s 4ms/step - loss: 0.4416 - accuracy: 0.8279 - val_loss: 0.7147 - val_accuracy: 0.7075\n",
            "Epoch 19/20\n",
            "36/36 [==============================] - 0s 4ms/step - loss: 0.4359 - accuracy: 0.8270 - val_loss: 0.7163 - val_accuracy: 0.7143\n",
            "Epoch 20/20\n",
            "36/36 [==============================] - 0s 4ms/step - loss: 0.4318 - accuracy: 0.8367 - val_loss: 0.7232 - val_accuracy: 0.7143\n"
          ]
        }
      ]
    },
    {
      "cell_type": "code",
      "source": [
        "classificator1D.evaluate(x_test, y_test_multiclass_cat, verbose=1)"
      ],
      "metadata": {
        "colab": {
          "base_uri": "https://localhost:8080/"
        },
        "id": "W_oEHMFE-484",
        "outputId": "ceade841-9e64-4951-c5cf-fae03bafba8b"
      },
      "execution_count": 325,
      "outputs": [
        {
          "output_type": "stream",
          "name": "stdout",
          "text": [
            "5/5 [==============================] - 0s 4ms/step - loss: 0.6171 - accuracy: 0.7447\n"
          ]
        },
        {
          "output_type": "execute_result",
          "data": {
            "text/plain": [
              "[0.6171406507492065, 0.7446808218955994]"
            ]
          },
          "metadata": {},
          "execution_count": 325
        }
      ]
    },
    {
      "cell_type": "code",
      "source": [
        "\n",
        "#Representación de modelos\n",
        "from tensorflow.keras.utils import plot_model"
      ],
      "metadata": {
        "id": "VnDcvIK9_SqZ"
      },
      "execution_count": 326,
      "outputs": []
    },
    {
      "cell_type": "code",
      "source": [
        "plot_loss_curves(history_classificator1D)"
      ],
      "metadata": {
        "colab": {
          "base_uri": "https://localhost:8080/",
          "height": 492
        },
        "id": "XIa6rnfY8Lga",
        "outputId": "6aa268ef-edef-4563-d3d5-258387b2c449"
      },
      "execution_count": 327,
      "outputs": [
        {
          "output_type": "display_data",
          "data": {
            "text/plain": [
              "<Figure size 1200x500 with 2 Axes>"
            ],
            "image/png": "[encoded data removed]"
          },
          "metadata": {}
        }
      ]
    },
    {
      "cell_type": "markdown",
      "source": [
        "## 7. Modelo basado en imagenes"
      ],
      "metadata": {
        "id": "0Huq-3xwBAUs"
      }
    },
    {
      "cell_type": "markdown",
      "source": [
        "Red Neuronal Convolucional (CNN):\n",
        "Una CNN es un tipo de arquitectura de red neuronal especialmente diseñada para procesar datos de imágenes.\n",
        "Utiliza capas convolucionales para extraer características relevantes de las imágenes y capas de agrupación (pooling) para reducir la dimensionalidad.\n",
        "Las capas convolucionales aplican filtros a pequeñas regiones de la imagen para detectar patrones como bordes, texturas y formas.\n",
        "Las capas de agrupación reducen el tamaño de la representación de la imagen, manteniendo las características más importantes.\n",
        "Las CNN son ampliamente utilizadas en tareas de clasificación de imágenes, detección de objetos y segmentación semántica.\n",
        "Enfoque Funcional:\n",
        "En lugar de construir una CNN de manera secuencial, podemos usar el enfoque funcional en Keras.\n",
        "El enfoque funcional nos permite crear modelos más complejos con múltiples entradas o salidas.\n",
        "Definimos las capas como funciones y luego las conectamos entre sí.\n",
        "Creación del Modelo:\n",
        "Crearemos una CNN con tres capas convolucionales: 16 filtros en la primera capa, 32 en la segunda y 64 en la tercera.\n",
        "La primera capa debe recibir la dimensión de los datos de entrada (por ejemplo, el tamaño de la imagen).\n",
        "Cambiaremos la última capa para adaptarla a nuestro problema específico (por ejemplo, clasificación de imágenes)."
      ],
      "metadata": {
        "id": "sBMwgViHBny_"
      }
    },
    {
      "cell_type": "code",
      "source": [
        "from tensorflow.keras.models import Sequential, Model\n",
        "from tensorflow.keras.layers import BatchNormalization, Conv2D, MaxPooling2D, Activation, Dropout, Dense, Flatten, Input\n",
        "\n",
        "# Tamaño de las imágenes\n",
        "inputShape = (224, 224, 3)\n",
        "chanDim = -1\n",
        "# Filtros que vamos a aplicar en las capas convolucionales\n",
        "filters=(16, 32, 64)\n",
        "inputs = Input(shape=inputShape)\n",
        "# Recorremos el bucle creando las diferentes capas\n",
        "for (i, f) in enumerate(filters):\n",
        "\t\t# si es la primera capa indicamos el inputshape\n",
        "  if i == 0:\n",
        "\t  x = inputs\n",
        "\t# CONV => BN => RELU => POOL\n",
        "  x = Conv2D(f, (3, 3), padding=\"same\")(x)\n",
        "  x = BatchNormalization(axis=chanDim)(x)\n",
        "  x = Activation(\"relu\")(x)\n",
        "  x = MaxPooling2D(pool_size=(2, 2))(x)\n",
        "\n",
        "# Aplanamos los datos y ponemos una capa densa de 16 neuronas con activación relu\n",
        "x = Flatten()(x)\n",
        "x = Dense(16)(x)\n",
        "x = BatchNormalization(axis=chanDim)(x)\n",
        "x = Activation(\"relu\")(x)\n",
        "x = Dropout(0.5)(x)\n",
        "# Añadimos otra capa densa de 4 neuronas y activación relu\n",
        "x = Dense(4)(x)\n",
        "x = Activation(\"relu\")(x)\n",
        "# Añadimos la última capa con 3 neuronas y función softmax para la calsificación\n",
        "x = Dense(3, activation=\"softmax\")(x)\n",
        "# Construimos la red neuronal\n",
        "model_images = Model(inputs, x)"
      ],
      "metadata": {
        "id": "61A955-zBlEx"
      },
      "execution_count": 328,
      "outputs": []
    },
    {
      "cell_type": "code",
      "source": [
        "model_images.compile(optimizer='adam', loss='categorical_crossentropy', metrics=['accuracy'])\n",
        "\n",
        "# Entrena el modelo\n",
        "history_model_images = model_images.fit(x=images_train, y=y_train_multiclass_cat,\n",
        "                                        validation_data=(images_valid, y_valid_multiclass_cat),\n",
        "                                        epochs=10, batch_size=32,\n",
        "                                        callbacks=[LearningRateScheduler(lr_time_based_decay, verbose=1)])\n"
      ],
      "metadata": {
        "colab": {
          "base_uri": "https://localhost:8080/"
        },
        "id": "l4-Z-LtrBVdR",
        "outputId": "312a8d82-c9a7-43f3-fe3c-d6d450b552bf"
      },
      "execution_count": 338,
      "outputs": [
        {
          "output_type": "stream",
          "name": "stdout",
          "text": [
            "\n",
            "Epoch 1: LearningRateScheduler setting learning rate to 0.0010000000474974513.\n",
            "Epoch 1/10\n",
            "36/36 [==============================] - 107s 3s/step - loss: 1.0857 - accuracy: 0.4513 - val_loss: 1.0460 - val_accuracy: 0.4830 - lr: 0.0010\n",
            "\n",
            "Epoch 2: LearningRateScheduler setting learning rate to 0.000999999047498404.\n",
            "Epoch 2/10\n",
            "36/36 [==============================] - 93s 3s/step - loss: 1.0208 - accuracy: 0.4934 - val_loss: 1.2526 - val_accuracy: 0.3673 - lr: 1.0000e-03\n",
            "\n",
            "Epoch 3: LearningRateScheduler setting learning rate to 0.0009999969997655552.\n",
            "Epoch 3/10\n",
            "36/36 [==============================] - 96s 3s/step - loss: 0.9677 - accuracy: 0.5171 - val_loss: 1.4367 - val_accuracy: 0.3673 - lr: 1.0000e-03\n",
            "\n",
            "Epoch 4: LearningRateScheduler setting learning rate to 0.0009999940207170218.\n",
            "Epoch 4/10\n",
            "36/36 [==============================] - 93s 3s/step - loss: 0.9428 - accuracy: 0.5549 - val_loss: 1.4582 - val_accuracy: 0.3673 - lr: 9.9999e-04\n",
            "\n",
            "Epoch 5: LearningRateScheduler setting learning rate to 0.0009999899939407406.\n",
            "Epoch 5/10\n",
            "36/36 [==============================] - 95s 3s/step - loss: 0.8900 - accuracy: 0.5751 - val_loss: 1.3487 - val_accuracy: 0.3673 - lr: 9.9999e-04\n",
            "\n",
            "Epoch 6: LearningRateScheduler setting learning rate to 0.0009999850358545948.\n",
            "Epoch 6/10\n",
            "36/36 [==============================] - 98s 3s/step - loss: 0.8592 - accuracy: 0.5812 - val_loss: 1.9454 - val_accuracy: 0.3673 - lr: 9.9999e-04\n",
            "\n",
            "Epoch 7: LearningRateScheduler setting learning rate to 0.0009999790300467555.\n",
            "Epoch 7/10\n",
            "36/36 [==============================] - 102s 3s/step - loss: 0.8151 - accuracy: 0.5865 - val_loss: 1.3598 - val_accuracy: 0.3673 - lr: 9.9998e-04\n",
            "\n",
            "Epoch 8: LearningRateScheduler setting learning rate to 0.000999971976520365.\n",
            "Epoch 8/10\n",
            "36/36 [==============================] - 98s 3s/step - loss: 0.7869 - accuracy: 0.6076 - val_loss: 1.4457 - val_accuracy: 0.3673 - lr: 9.9997e-04\n",
            "\n",
            "Epoch 9: LearningRateScheduler setting learning rate to 0.0009999639916929576.\n",
            "Epoch 9/10\n",
            "36/36 [==============================] - 100s 3s/step - loss: 0.7308 - accuracy: 0.6277 - val_loss: 1.2309 - val_accuracy: 0.4014 - lr: 9.9996e-04\n",
            "\n",
            "Epoch 10: LearningRateScheduler setting learning rate to 0.0009999549591530527.\n",
            "Epoch 10/10\n",
            "36/36 [==============================] - 99s 3s/step - loss: 0.6956 - accuracy: 0.6602 - val_loss: 1.7554 - val_accuracy: 0.3741 - lr: 9.9995e-04\n"
          ]
        }
      ]
    },
    {
      "cell_type": "code",
      "source": [
        "plot_model(model_images, show_shapes=True, show_layer_names=True)"
      ],
      "metadata": {
        "colab": {
          "base_uri": "https://localhost:8080/",
          "height": 1000
        },
        "id": "uuN0k_qrKA0s",
        "outputId": "0243a338-887c-4c10-b8e1-9823172972f4"
      },
      "execution_count": 339,
      "outputs": [
        {
          "output_type": "execute_result",
          "data": {
            "image/png": "[encoded data removed]",
            "text/plain": [
              "<IPython.core.display.Image object>"
            ]
          },
          "metadata": {},
          "execution_count": 339
        }
      ]
    },
    {
      "cell_type": "code",
      "source": [
        "plot_loss_curves(history_model_images)"
      ],
      "metadata": {
        "colab": {
          "base_uri": "https://localhost:8080/",
          "height": 492
        },
        "id": "umzmujDLKNkw",
        "outputId": "7f36085d-49bc-4bfd-9d5f-38155962d3be"
      },
      "execution_count": 340,
      "outputs": [
        {
          "output_type": "display_data",
          "data": {
            "text/plain": [
              "<Figure size 1200x500 with 2 Axes>"
            ],
            "image/png": "[encoded data removed]"
          },
          "metadata": {}
        }
      ]
    },
    {
      "cell_type": "markdown",
      "source": [
        "## 8. Modelo Mixto"
      ],
      "metadata": {
        "id": "4ZQOEqCkGn-P"
      }
    },
    {
      "cell_type": "markdown",
      "source": [
        "Late Fusion"
      ],
      "metadata": {
        "id": "xZbg6ULgYJL5"
      }
    },
    {
      "cell_type": "code",
      "source": [
        "late_1D_train = classificator1D.predict(x_train)\n",
        "late_1D_valid = classificator1D.predict(x_valid)\n",
        "late_1D_test  = classificator1D.predict(x_test)"
      ],
      "metadata": {
        "colab": {
          "base_uri": "https://localhost:8080/"
        },
        "id": "KuvKmq6cYQQT",
        "outputId": "8776e08e-b6f2-47ad-ce1e-e25341206e5f"
      },
      "execution_count": 341,
      "outputs": [
        {
          "output_type": "stream",
          "name": "stdout",
          "text": [
            "36/36 [==============================] - 0s 3ms/step\n",
            "5/5 [==============================] - 0s 3ms/step\n",
            "5/5 [==============================] - 0s 6ms/step\n"
          ]
        }
      ]
    },
    {
      "cell_type": "code",
      "source": [
        "print(late_1D_train.shape)\n",
        "print(late_1D_valid.shape)\n",
        "print(late_1D_test.shape)"
      ],
      "metadata": {
        "colab": {
          "base_uri": "https://localhost:8080/"
        },
        "id": "OkHjNIjKYaXy",
        "outputId": "d7e47776-acd1-4d96-c0f2-dfb5ece24277"
      },
      "execution_count": 342,
      "outputs": [
        {
          "output_type": "stream",
          "name": "stdout",
          "text": [
            "(1139, 3)\n",
            "(147, 3)\n",
            "(141, 3)\n"
          ]
        }
      ]
    },
    {
      "cell_type": "code",
      "source": [
        "late_images_train = model_images.predict(images_train)\n",
        "late_images_valid = model_images.predict(images_valid)\n",
        "late_images_test  = model_images.predict(images_test)"
      ],
      "metadata": {
        "colab": {
          "base_uri": "https://localhost:8080/"
        },
        "id": "v6bEtcIZYgPo",
        "outputId": "3023e08d-5b30-446c-ed82-eba7377e9d9b"
      },
      "execution_count": 343,
      "outputs": [
        {
          "output_type": "stream",
          "name": "stdout",
          "text": [
            "36/36 [==============================] - 27s 732ms/step\n",
            "5/5 [==============================] - 6s 1s/step\n",
            "5/5 [==============================] - 3s 580ms/step\n"
          ]
        }
      ]
    },
    {
      "cell_type": "code",
      "source": [
        "print(late_images_train.shape)\n",
        "print(late_images_valid.shape)\n",
        "print(late_images_test.shape)"
      ],
      "metadata": {
        "colab": {
          "base_uri": "https://localhost:8080/"
        },
        "id": "E7ZgOU0lY10h",
        "outputId": "72353ad5-ae2f-4da1-c6a8-672509eb7fce"
      },
      "execution_count": 344,
      "outputs": [
        {
          "output_type": "stream",
          "name": "stdout",
          "text": [
            "(1139, 3)\n",
            "(147, 3)\n",
            "(141, 3)\n"
          ]
        }
      ]
    },
    {
      "cell_type": "code",
      "source": [
        "late_train_features = np.concatenate((late_1D_train, late_images_train), axis=1)\n",
        "late_valid_features = np.concatenate((late_1D_valid, late_images_valid)  , axis=1)\n",
        "late_test_features  = np.concatenate((late_1D_test,  late_images_test) , axis=1)\n",
        "\n",
        "y_labels_train = np.concatenate((y_train_multiclass, y_valid_multiclass))\n",
        "y_labels_test = y_test_multiclass"
      ],
      "metadata": {
        "id": "xbtYSsVGY4Tx"
      },
      "execution_count": 345,
      "outputs": []
    },
    {
      "cell_type": "code",
      "source": [
        "\n",
        "#Combinación tipos de datos\n",
        "from sklearn.svm import SVC\n",
        "late_fuser = SVC(random_state=123)\n",
        "late_fuser.fit(X=np.concatenate((late_train_features, late_valid_features)),y=y_labels_train)\n",
        "acc_late = late_fuser.score(X=late_test_features, y=y_labels_test)\n",
        "print(f\"Late fusion SVC {round(acc_late*100,2)} % accuracy\")"
      ],
      "metadata": {
        "colab": {
          "base_uri": "https://localhost:8080/"
        },
        "id": "ooyqPf7eZZsk",
        "outputId": "34654e57-a9a3-4626-c658-67f1834074df"
      },
      "execution_count": 346,
      "outputs": [
        {
          "output_type": "stream",
          "name": "stdout",
          "text": [
            "Late fusion SVC 73.76 % accuracy\n"
          ]
        }
      ]
    }
  ]
}